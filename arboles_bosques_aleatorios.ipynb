{
  "nbformat": 4,
  "nbformat_minor": 0,
  "metadata": {
    "colab": {
      "name": "arboles_bosques_aleatorios.ipynb",
      "provenance": [],
      "collapsed_sections": [],
      "authorship_tag": "ABX9TyObB65VBxpT/7npye2CM2lm"
    },
    "kernelspec": {
      "name": "python3",
      "display_name": "Python 3"
    },
    "language_info": {
      "name": "python"
    }
  },
  "cells": [
    {
      "cell_type": "code",
      "execution_count": null,
      "metadata": {
        "id": "4_z5vDtdlUfw"
      },
      "outputs": [],
      "source": [
        ""
      ]
    },
    {
      "cell_type": "code",
      "source": [
        "#cargamos los datos\n",
        "import pandas as pd\n",
        "data = pd.read_csv(\"/content/Maternal_Health_Risk_Data_Set.csv\")\n",
        "#eliminamos una columna que son los identificadores de los pacientes, ya que es informacion redundante\n",
        "del data['Unnamed: 0']\n",
        "data.head()"
      ],
      "metadata": {
        "colab": {
          "base_uri": "https://localhost:8080/",
          "height": 206
        },
        "id": "dcmim8V9ebgM",
        "outputId": "65fd570c-be22-437e-a991-bcfb5d84b430"
      },
      "execution_count": null,
      "outputs": [
        {
          "output_type": "execute_result",
          "data": {
            "text/html": [
              "\n",
              "  <div id=\"df-c7350ac7-5df5-46a2-acbe-cf47c6828d91\">\n",
              "    <div class=\"colab-df-container\">\n",
              "      <div>\n",
              "<style scoped>\n",
              "    .dataframe tbody tr th:only-of-type {\n",
              "        vertical-align: middle;\n",
              "    }\n",
              "\n",
              "    .dataframe tbody tr th {\n",
              "        vertical-align: top;\n",
              "    }\n",
              "\n",
              "    .dataframe thead th {\n",
              "        text-align: right;\n",
              "    }\n",
              "</style>\n",
              "<table border=\"1\" class=\"dataframe\">\n",
              "  <thead>\n",
              "    <tr style=\"text-align: right;\">\n",
              "      <th></th>\n",
              "      <th>Age</th>\n",
              "      <th>SystolicBP</th>\n",
              "      <th>DiastolicBP</th>\n",
              "      <th>BS</th>\n",
              "      <th>BodyTemp</th>\n",
              "      <th>HeartRate</th>\n",
              "      <th>RiskLevel</th>\n",
              "    </tr>\n",
              "  </thead>\n",
              "  <tbody>\n",
              "    <tr>\n",
              "      <th>0</th>\n",
              "      <td>25</td>\n",
              "      <td>130</td>\n",
              "      <td>80</td>\n",
              "      <td>15.0</td>\n",
              "      <td>98.0</td>\n",
              "      <td>86</td>\n",
              "      <td>1</td>\n",
              "    </tr>\n",
              "    <tr>\n",
              "      <th>1</th>\n",
              "      <td>35</td>\n",
              "      <td>140</td>\n",
              "      <td>90</td>\n",
              "      <td>13.0</td>\n",
              "      <td>98.0</td>\n",
              "      <td>70</td>\n",
              "      <td>1</td>\n",
              "    </tr>\n",
              "    <tr>\n",
              "      <th>2</th>\n",
              "      <td>29</td>\n",
              "      <td>90</td>\n",
              "      <td>70</td>\n",
              "      <td>8.0</td>\n",
              "      <td>100.0</td>\n",
              "      <td>80</td>\n",
              "      <td>1</td>\n",
              "    </tr>\n",
              "    <tr>\n",
              "      <th>3</th>\n",
              "      <td>30</td>\n",
              "      <td>140</td>\n",
              "      <td>85</td>\n",
              "      <td>7.0</td>\n",
              "      <td>98.0</td>\n",
              "      <td>70</td>\n",
              "      <td>1</td>\n",
              "    </tr>\n",
              "    <tr>\n",
              "      <th>4</th>\n",
              "      <td>35</td>\n",
              "      <td>120</td>\n",
              "      <td>60</td>\n",
              "      <td>6.1</td>\n",
              "      <td>98.0</td>\n",
              "      <td>76</td>\n",
              "      <td>0</td>\n",
              "    </tr>\n",
              "  </tbody>\n",
              "</table>\n",
              "</div>\n",
              "      <button class=\"colab-df-convert\" onclick=\"convertToInteractive('df-c7350ac7-5df5-46a2-acbe-cf47c6828d91')\"\n",
              "              title=\"Convert this dataframe to an interactive table.\"\n",
              "              style=\"display:none;\">\n",
              "        \n",
              "  <svg xmlns=\"http://www.w3.org/2000/svg\" height=\"24px\"viewBox=\"0 0 24 24\"\n",
              "       width=\"24px\">\n",
              "    <path d=\"M0 0h24v24H0V0z\" fill=\"none\"/>\n",
              "    <path d=\"M18.56 5.44l.94 2.06.94-2.06 2.06-.94-2.06-.94-.94-2.06-.94 2.06-2.06.94zm-11 1L8.5 8.5l.94-2.06 2.06-.94-2.06-.94L8.5 2.5l-.94 2.06-2.06.94zm10 10l.94 2.06.94-2.06 2.06-.94-2.06-.94-.94-2.06-.94 2.06-2.06.94z\"/><path d=\"M17.41 7.96l-1.37-1.37c-.4-.4-.92-.59-1.43-.59-.52 0-1.04.2-1.43.59L10.3 9.45l-7.72 7.72c-.78.78-.78 2.05 0 2.83L4 21.41c.39.39.9.59 1.41.59.51 0 1.02-.2 1.41-.59l7.78-7.78 2.81-2.81c.8-.78.8-2.07 0-2.86zM5.41 20L4 18.59l7.72-7.72 1.47 1.35L5.41 20z\"/>\n",
              "  </svg>\n",
              "      </button>\n",
              "      \n",
              "  <style>\n",
              "    .colab-df-container {\n",
              "      display:flex;\n",
              "      flex-wrap:wrap;\n",
              "      gap: 12px;\n",
              "    }\n",
              "\n",
              "    .colab-df-convert {\n",
              "      background-color: #E8F0FE;\n",
              "      border: none;\n",
              "      border-radius: 50%;\n",
              "      cursor: pointer;\n",
              "      display: none;\n",
              "      fill: #1967D2;\n",
              "      height: 32px;\n",
              "      padding: 0 0 0 0;\n",
              "      width: 32px;\n",
              "    }\n",
              "\n",
              "    .colab-df-convert:hover {\n",
              "      background-color: #E2EBFA;\n",
              "      box-shadow: 0px 1px 2px rgba(60, 64, 67, 0.3), 0px 1px 3px 1px rgba(60, 64, 67, 0.15);\n",
              "      fill: #174EA6;\n",
              "    }\n",
              "\n",
              "    [theme=dark] .colab-df-convert {\n",
              "      background-color: #3B4455;\n",
              "      fill: #D2E3FC;\n",
              "    }\n",
              "\n",
              "    [theme=dark] .colab-df-convert:hover {\n",
              "      background-color: #434B5C;\n",
              "      box-shadow: 0px 1px 3px 1px rgba(0, 0, 0, 0.15);\n",
              "      filter: drop-shadow(0px 1px 2px rgba(0, 0, 0, 0.3));\n",
              "      fill: #FFFFFF;\n",
              "    }\n",
              "  </style>\n",
              "\n",
              "      <script>\n",
              "        const buttonEl =\n",
              "          document.querySelector('#df-c7350ac7-5df5-46a2-acbe-cf47c6828d91 button.colab-df-convert');\n",
              "        buttonEl.style.display =\n",
              "          google.colab.kernel.accessAllowed ? 'block' : 'none';\n",
              "\n",
              "        async function convertToInteractive(key) {\n",
              "          const element = document.querySelector('#df-c7350ac7-5df5-46a2-acbe-cf47c6828d91');\n",
              "          const dataTable =\n",
              "            await google.colab.kernel.invokeFunction('convertToInteractive',\n",
              "                                                     [key], {});\n",
              "          if (!dataTable) return;\n",
              "\n",
              "          const docLinkHtml = 'Like what you see? Visit the ' +\n",
              "            '<a target=\"_blank\" href=https://colab.research.google.com/notebooks/data_table.ipynb>data table notebook</a>'\n",
              "            + ' to learn more about interactive tables.';\n",
              "          element.innerHTML = '';\n",
              "          dataTable['output_type'] = 'display_data';\n",
              "          await google.colab.output.renderOutput(dataTable, element);\n",
              "          const docLink = document.createElement('div');\n",
              "          docLink.innerHTML = docLinkHtml;\n",
              "          element.appendChild(docLink);\n",
              "        }\n",
              "      </script>\n",
              "    </div>\n",
              "  </div>\n",
              "  "
            ],
            "text/plain": [
              "   Age  SystolicBP  DiastolicBP    BS  BodyTemp  HeartRate  RiskLevel\n",
              "0   25         130           80  15.0      98.0         86          1\n",
              "1   35         140           90  13.0      98.0         70          1\n",
              "2   29          90           70   8.0     100.0         80          1\n",
              "3   30         140           85   7.0      98.0         70          1\n",
              "4   35         120           60   6.1      98.0         76          0"
            ]
          },
          "metadata": {},
          "execution_count": 14
        }
      ]
    },
    {
      "cell_type": "code",
      "source": [
        "#pondremos las variables predictores y la objetivos cada una por un lado. La variable dependiente sera el nivel\n",
        "# de riego que sera alto y bajo. \n",
        "colnames = data.columns.values.tolist()\n",
        "predictors = colnames[:6]\n",
        "target = colnames[6]\n",
        "target"
      ],
      "metadata": {
        "colab": {
          "base_uri": "https://localhost:8080/",
          "height": 35
        },
        "id": "ssBNvcHUrsOy",
        "outputId": "1231690d-94ab-4dc7-df8a-7eb2c274a93a"
      },
      "execution_count": null,
      "outputs": [
        {
          "output_type": "execute_result",
          "data": {
            "application/vnd.google.colaboratory.intrinsic+json": {
              "type": "string"
            },
            "text/plain": [
              "'RiskLevel'"
            ]
          },
          "metadata": {},
          "execution_count": 15
        }
      ]
    },
    {
      "cell_type": "code",
      "source": [
        "#entrenaremos y validaremos\n",
        "\n",
        "import numpy as np\n",
        "data['is_train'] = (np.random.uniform(0,1,len(data)) <= 0.75).astype(int)"
      ],
      "metadata": {
        "id": "BALtHl_av2PE"
      },
      "execution_count": null,
      "outputs": []
    },
    {
      "cell_type": "code",
      "source": [
        "import matplotlib.pyplot as plt\n",
        "\n",
        "train, test = data[data[\"is_train\"]==True], data[data[\"is_train\"]==False]\n",
        "plt.hist(data.is_train)"
      ],
      "metadata": {
        "colab": {
          "base_uri": "https://localhost:8080/",
          "height": 317
        },
        "id": "pVjuQxyDv2Tk",
        "outputId": "377afc9f-4c38-4f49-f05b-a52745aee351"
      },
      "execution_count": null,
      "outputs": [
        {
          "output_type": "execute_result",
          "data": {
            "text/plain": [
              "(array([266.,   0.,   0.,   0.,   0.,   0.,   0.,   0.,   0., 748.]),\n",
              " array([0. , 0.1, 0.2, 0.3, 0.4, 0.5, 0.6, 0.7, 0.8, 0.9, 1. ]),\n",
              " <a list of 10 Patch objects>)"
            ]
          },
          "metadata": {},
          "execution_count": 17
        },
        {
          "output_type": "display_data",
          "data": {
            "image/png": "[encoded data removed]",
            "text/plain": [
              "<Figure size 432x288 with 1 Axes>"
            ]
          },
          "metadata": {
            "needs_background": "light"
          }
        }
      ]
    },
    {
      "cell_type": "code",
      "source": [
        "from sklearn.tree import DecisionTreeClassifier\n",
        "arbol = DecisionTreeClassifier(criterion=\"entropy\", min_samples_split=20, random_state=99)\n",
        "arbol.fit(train[predictors], train[target])"
      ],
      "metadata": {
        "colab": {
          "base_uri": "https://localhost:8080/"
        },
        "id": "L7n1jRfox9u0",
        "outputId": "1a6c1aa1-3ab4-4b5c-800d-6bb9b30130d1"
      },
      "execution_count": null,
      "outputs": [
        {
          "output_type": "execute_result",
          "data": {
            "text/plain": [
              "DecisionTreeClassifier(criterion='entropy', min_samples_split=20,\n",
              "                       random_state=99)"
            ]
          },
          "metadata": {},
          "execution_count": 18
        }
      ]
    },
    {
      "cell_type": "code",
      "source": [
        "# Guardamos los predicciones\n",
        "preds = arbol.predict(test[predictors])\n",
        "pd.crosstab(test[target], preds, rownames=[\"Actual\"], colnames=[\"Predictions\"])"
      ],
      "metadata": {
        "colab": {
          "base_uri": "https://localhost:8080/",
          "height": 143
        },
        "id": "S4xi1X9Nyg79",
        "outputId": "328be1ee-ca9b-4fe4-e792-d6dca5b2fa59"
      },
      "execution_count": null,
      "outputs": [
        {
          "output_type": "execute_result",
          "data": {
            "text/html": [
              "\n",
              "  <div id=\"df-bd7e3335-4f23-4406-b6dc-19864c79b1eb\">\n",
              "    <div class=\"colab-df-container\">\n",
              "      <div>\n",
              "<style scoped>\n",
              "    .dataframe tbody tr th:only-of-type {\n",
              "        vertical-align: middle;\n",
              "    }\n",
              "\n",
              "    .dataframe tbody tr th {\n",
              "        vertical-align: top;\n",
              "    }\n",
              "\n",
              "    .dataframe thead th {\n",
              "        text-align: right;\n",
              "    }\n",
              "</style>\n",
              "<table border=\"1\" class=\"dataframe\">\n",
              "  <thead>\n",
              "    <tr style=\"text-align: right;\">\n",
              "      <th>Predictions</th>\n",
              "      <th>0</th>\n",
              "      <th>1</th>\n",
              "    </tr>\n",
              "    <tr>\n",
              "      <th>Actual</th>\n",
              "      <th></th>\n",
              "      <th></th>\n",
              "    </tr>\n",
              "  </thead>\n",
              "  <tbody>\n",
              "    <tr>\n",
              "      <th>0</th>\n",
              "      <td>109</td>\n",
              "      <td>17</td>\n",
              "    </tr>\n",
              "    <tr>\n",
              "      <th>1</th>\n",
              "      <td>13</td>\n",
              "      <td>127</td>\n",
              "    </tr>\n",
              "  </tbody>\n",
              "</table>\n",
              "</div>\n",
              "      <button class=\"colab-df-convert\" onclick=\"convertToInteractive('df-bd7e3335-4f23-4406-b6dc-19864c79b1eb')\"\n",
              "              title=\"Convert this dataframe to an interactive table.\"\n",
              "              style=\"display:none;\">\n",
              "        \n",
              "  <svg xmlns=\"http://www.w3.org/2000/svg\" height=\"24px\"viewBox=\"0 0 24 24\"\n",
              "       width=\"24px\">\n",
              "    <path d=\"M0 0h24v24H0V0z\" fill=\"none\"/>\n",
              "    <path d=\"M18.56 5.44l.94 2.06.94-2.06 2.06-.94-2.06-.94-.94-2.06-.94 2.06-2.06.94zm-11 1L8.5 8.5l.94-2.06 2.06-.94-2.06-.94L8.5 2.5l-.94 2.06-2.06.94zm10 10l.94 2.06.94-2.06 2.06-.94-2.06-.94-.94-2.06-.94 2.06-2.06.94z\"/><path d=\"M17.41 7.96l-1.37-1.37c-.4-.4-.92-.59-1.43-.59-.52 0-1.04.2-1.43.59L10.3 9.45l-7.72 7.72c-.78.78-.78 2.05 0 2.83L4 21.41c.39.39.9.59 1.41.59.51 0 1.02-.2 1.41-.59l7.78-7.78 2.81-2.81c.8-.78.8-2.07 0-2.86zM5.41 20L4 18.59l7.72-7.72 1.47 1.35L5.41 20z\"/>\n",
              "  </svg>\n",
              "      </button>\n",
              "      \n",
              "  <style>\n",
              "    .colab-df-container {\n",
              "      display:flex;\n",
              "      flex-wrap:wrap;\n",
              "      gap: 12px;\n",
              "    }\n",
              "\n",
              "    .colab-df-convert {\n",
              "      background-color: #E8F0FE;\n",
              "      border: none;\n",
              "      border-radius: 50%;\n",
              "      cursor: pointer;\n",
              "      display: none;\n",
              "      fill: #1967D2;\n",
              "      height: 32px;\n",
              "      padding: 0 0 0 0;\n",
              "      width: 32px;\n",
              "    }\n",
              "\n",
              "    .colab-df-convert:hover {\n",
              "      background-color: #E2EBFA;\n",
              "      box-shadow: 0px 1px 2px rgba(60, 64, 67, 0.3), 0px 1px 3px 1px rgba(60, 64, 67, 0.15);\n",
              "      fill: #174EA6;\n",
              "    }\n",
              "\n",
              "    [theme=dark] .colab-df-convert {\n",
              "      background-color: #3B4455;\n",
              "      fill: #D2E3FC;\n",
              "    }\n",
              "\n",
              "    [theme=dark] .colab-df-convert:hover {\n",
              "      background-color: #434B5C;\n",
              "      box-shadow: 0px 1px 3px 1px rgba(0, 0, 0, 0.15);\n",
              "      filter: drop-shadow(0px 1px 2px rgba(0, 0, 0, 0.3));\n",
              "      fill: #FFFFFF;\n",
              "    }\n",
              "  </style>\n",
              "\n",
              "      <script>\n",
              "        const buttonEl =\n",
              "          document.querySelector('#df-bd7e3335-4f23-4406-b6dc-19864c79b1eb button.colab-df-convert');\n",
              "        buttonEl.style.display =\n",
              "          google.colab.kernel.accessAllowed ? 'block' : 'none';\n",
              "\n",
              "        async function convertToInteractive(key) {\n",
              "          const element = document.querySelector('#df-bd7e3335-4f23-4406-b6dc-19864c79b1eb');\n",
              "          const dataTable =\n",
              "            await google.colab.kernel.invokeFunction('convertToInteractive',\n",
              "                                                     [key], {});\n",
              "          if (!dataTable) return;\n",
              "\n",
              "          const docLinkHtml = 'Like what you see? Visit the ' +\n",
              "            '<a target=\"_blank\" href=https://colab.research.google.com/notebooks/data_table.ipynb>data table notebook</a>'\n",
              "            + ' to learn more about interactive tables.';\n",
              "          element.innerHTML = '';\n",
              "          dataTable['output_type'] = 'display_data';\n",
              "          await google.colab.output.renderOutput(dataTable, element);\n",
              "          const docLink = document.createElement('div');\n",
              "          docLink.innerHTML = docLinkHtml;\n",
              "          element.appendChild(docLink);\n",
              "        }\n",
              "      </script>\n",
              "    </div>\n",
              "  </div>\n",
              "  "
            ],
            "text/plain": [
              "Predictions    0    1\n",
              "Actual               \n",
              "0            109   17\n",
              "1             13  127"
            ]
          },
          "metadata": {},
          "execution_count": 19
        }
      ]
    },
    {
      "cell_type": "code",
      "source": [
        "# Visualizar el arbol de decision\n",
        "from sklearn.tree import DecisionTreeClassifier\n",
        "from sklearn.ensemble import RandomForestClassifier\n",
        "from sklearn.model_selection import train_test_split\n",
        "import pandas as pd\n",
        "import numpy as np\n",
        "from sklearn import tree\n",
        "from sklearn.tree import export_graphviz\n",
        "#exportamos el arbol creado en archivo dot\n",
        "tree.export_graphviz(arbol,\n",
        "                     out_file=\"tree.dot\",\n",
        "                     feature_names = predictors)\n",
        "\n"
      ],
      "metadata": {
        "id": "hn4UKu1wI9F2"
      },
      "execution_count": null,
      "outputs": []
    },
    {
      "cell_type": "code",
      "source": [
        "#cargamos el archivo dot \n",
        "file = open(\"/content/tree.dot\", \"r\")\n",
        "text = file.read()\n",
        "text"
      ],
      "metadata": {
        "colab": {
          "base_uri": "https://localhost:8080/",
          "height": 174
        },
        "id": "F_SsQ4Iui35V",
        "outputId": "f71e4679-05d7-4676-dd73-fa81d8fea8da"
      },
      "execution_count": null,
      "outputs": [
        {
          "output_type": "execute_result",
          "data": {
            "application/vnd.google.colaboratory.intrinsic+json": {
              "type": "string"
            },
            "text/plain": [
              "'digraph Tree {\\nnode [shape=box, fontname=\"helvetica\"] ;\\nedge [fontname=\"helvetica\"] ;\\n0 [label=\"BS <= 8.5\\\\nentropy = 0.954\\\\nsamples = 748\\\\nvalue = [280, 468]\"] ;\\n1 [label=\"SystolicBP <= 129.5\\\\nentropy = 1.0\\\\nsamples = 566\\\\nvalue = [276, 290]\"] ;\\n0 -> 1 [labeldistance=2.5, labelangle=45, headlabel=\"True\"] ;\\n2 [label=\"BodyTemp <= 99.5\\\\nentropy = 0.993\\\\nsamples = 502\\\\nvalue = [276, 226]\"] ;\\n1 -> 2 ;\\n3 [label=\"BS <= 7.005\\\\nentropy = 0.956\\\\nsamples = 405\\\\nvalue = [252, 153]\"] ;\\n2 -> 3 ;\\n4 [label=\"DiastolicBP <= 49.5\\\\nentropy = 1.0\\\\nsamples = 230\\\\nvalue = [117, 113]\"] ;\\n3 -> 4 ;\\n5 [label=\"entropy = 0.0\\\\nsamples = 9\\\\nvalue = [9, 0]\"] ;\\n4 -> 5 ;\\n6 [label=\"BS <= 6.75\\\\nentropy = 1.0\\\\nsamples = 221\\\\nvalue = [108, 113]\"] ;\\n4 -> 6 ;\\n7 [label=\"DiastolicBP <= 75.0\\\\nentropy = 0.971\\\\nsamples = 60\\\\nvalue = [36, 24]\"] ;\\n6 -> 7 ;\\n8 [label=\"HeartRate <= 68.0\\\\nentropy = 1.0\\\\nsamples = 47\\\\nvalue = [23, 24]\"] ;\\n7 -> 8 ;\\n9 [label=\"entropy = 0.0\\\\nsamples = 5\\\\nvalue = [5, 0]\"] ;\\n8 -> 9 ;\\n10 [label=\"DiastolicBP <= 55.0\\\\nentropy = 0.985\\\\nsamples = 42\\\\nvalue = [18, 24]\"] ;\\n8 -> 10 ;\\n11 [label=\"entropy = 0.503\\\\nsamples = 9\\\\nvalue = [1, 8]\"] ;\\n10 -> 11 ;\\n12 [label=\"Age <= 27.0\\\\nentropy = 0.999\\\\nsamples = 33\\\\nvalue = [17, 16]\"] ;\\n10 -> 12 ;\\n13 [label=\"entropy = 0.0\\\\nsamples = 10\\\\nvalue = [10, 0]\"] ;\\n12 -> 13 ;\\n14 [label=\"Age <= 30.0\\\\nentropy = 0.887\\\\nsamples = 23\\\\nvalue = [7, 16]\"] ;\\n12 -> 14 ;\\n15 [label=\"entropy = 0.0\\\\nsamples = 5\\\\nvalue = [0, 5]\"] ;\\n14 -> 15 ;\\n16 [label=\"entropy = 0.964\\\\nsamples = 18\\\\nvalue = [7, 11]\"] ;\\n14 -> 16 ;\\n17 [label=\"entropy = 0.0\\\\nsamples = 13\\\\nvalue = [13, 0]\"] ;\\n7 -> 17 ;\\n18 [label=\"SystolicBP <= 82.5\\\\nentropy = 0.992\\\\nsamples = 161\\\\nvalue = [72, 89]\"] ;\\n6 -> 18 ;\\n19 [label=\"entropy = 0.0\\\\nsamples = 4\\\\nvalue = [4, 0]\"] ;\\n18 -> 19 ;\\n20 [label=\"DiastolicBP <= 77.5\\\\nentropy = 0.987\\\\nsamples = 157\\\\nvalue = [68, 89]\"] ;\\n18 -> 20 ;\\n21 [label=\"SystolicBP <= 97.0\\\\nentropy = 0.999\\\\nsamples = 67\\\\nvalue = [35, 32]\"] ;\\n20 -> 21 ;\\n22 [label=\"Age <= 22.5\\\\nentropy = 0.949\\\\nsamples = 38\\\\nvalue = [14, 24]\"] ;\\n21 -> 22 ;\\n23 [label=\"DiastolicBP <= 55.0\\\\nentropy = 0.84\\\\nsamples = 26\\\\nvalue = [7, 19]\"] ;\\n22 -> 23 ;\\n24 [label=\"entropy = 0.0\\\\nsamples = 1\\\\nvalue = [1, 0]\"] ;\\n23 -> 24 ;\\n25 [label=\"Age <= 11.0\\\\nentropy = 0.795\\\\nsamples = 25\\\\nvalue = [6, 19]\"] ;\\n23 -> 25 ;\\n26 [label=\"entropy = 0.0\\\\nsamples = 1\\\\nvalue = [1, 0]\"] ;\\n25 -> 26 ;\\n27 [label=\"HeartRate <= 81.5\\\\nentropy = 0.738\\\\nsamples = 24\\\\nvalue = [5, 19]\"] ;\\n25 -> 27 ;\\n28 [label=\"HeartRate <= 76.5\\\\nentropy = 0.792\\\\nsamples = 21\\\\nvalue = [5, 16]\"] ;\\n27 -> 28 ;\\n29 [label=\"entropy = 0.672\\\\nsamples = 17\\\\nvalue = [3, 14]\"] ;\\n28 -> 29 ;\\n30 [label=\"entropy = 1.0\\\\nsamples = 4\\\\nvalue = [2, 2]\"] ;\\n28 -> 30 ;\\n31 [label=\"entropy = 0.0\\\\nsamples = 3\\\\nvalue = [0, 3]\"] ;\\n27 -> 31 ;\\n32 [label=\"entropy = 0.98\\\\nsamples = 12\\\\nvalue = [7, 5]\"] ;\\n22 -> 32 ;\\n33 [label=\"Age <= 29.5\\\\nentropy = 0.85\\\\nsamples = 29\\\\nvalue = [21, 8]\"] ;\\n21 -> 33 ;\\n34 [label=\"entropy = 0.485\\\\nsamples = 19\\\\nvalue = [17, 2]\"] ;\\n33 -> 34 ;\\n35 [label=\"entropy = 0.971\\\\nsamples = 10\\\\nvalue = [4, 6]\"] ;\\n33 -> 35 ;\\n36 [label=\"Age <= 17.0\\\\nentropy = 0.948\\\\nsamples = 90\\\\nvalue = [33, 57]\"] ;\\n20 -> 36 ;\\n37 [label=\"entropy = 0.811\\\\nsamples = 8\\\\nvalue = [6, 2]\"] ;\\n36 -> 37 ;\\n38 [label=\"HeartRate <= 73.0\\\\nentropy = 0.914\\\\nsamples = 82\\\\nvalue = [27, 55]\"] ;\\n36 -> 38 ;\\n39 [label=\"Age <= 58.5\\\\nentropy = 0.831\\\\nsamples = 57\\\\nvalue = [15, 42]\"] ;\\n38 -> 39 ;\\n40 [label=\"Age <= 36.0\\\\nentropy = 0.811\\\\nsamples = 56\\\\nvalue = [14, 42]\"] ;\\n39 -> 40 ;\\n41 [label=\"DiastolicBP <= 82.5\\\\nentropy = 0.848\\\\nsamples = 51\\\\nvalue = [14, 37]\"] ;\\n40 -> 41 ;\\n42 [label=\"BS <= 6.9\\\\nentropy = 0.771\\\\nsamples = 31\\\\nvalue = [7, 24]\"] ;\\n41 -> 42 ;\\n43 [label=\"entropy = 0.0\\\\nsamples = 5\\\\nvalue = [0, 5]\"] ;\\n42 -> 43 ;\\n44 [label=\"Age <= 22.0\\\\nentropy = 0.84\\\\nsamples = 26\\\\nvalue = [7, 19]\"] ;\\n42 -> 44 ;\\n45 [label=\"entropy = 0.795\\\\nsamples = 25\\\\nvalue = [6, 19]\"] ;\\n44 -> 45 ;\\n46 [label=\"entropy = 0.0\\\\nsamples = 1\\\\nvalue = [1, 0]\"] ;\\n44 -> 46 ;\\n47 [label=\"BS <= 6.95\\\\nentropy = 0.934\\\\nsamples = 20\\\\nvalue = [7, 13]\"] ;\\n41 -> 47 ;\\n48 [label=\"entropy = 0.852\\\\nsamples = 18\\\\nvalue = [5, 13]\"] ;\\n47 -> 48 ;\\n49 [label=\"entropy = 0.0\\\\nsamples = 2\\\\nvalue = [2, 0]\"] ;\\n47 -> 49 ;\\n50 [label=\"entropy = 0.0\\\\nsamples = 5\\\\nvalue = [0, 5]\"] ;\\n40 -> 50 ;\\n51 [label=\"entropy = 0.0\\\\nsamples = 1\\\\nvalue = [1, 0]\"] ;\\n39 -> 51 ;\\n52 [label=\"Age <= 23.5\\\\nentropy = 0.999\\\\nsamples = 25\\\\nvalue = [12, 13]\"] ;\\n38 -> 52 ;\\n53 [label=\"entropy = 0.918\\\\nsamples = 6\\\\nvalue = [4, 2]\"] ;\\n52 -> 53 ;\\n54 [label=\"entropy = 0.982\\\\nsamples = 19\\\\nvalue = [8, 11]\"] ;\\n52 -> 54 ;\\n55 [label=\"BS <= 7.35\\\\nentropy = 0.776\\\\nsamples = 175\\\\nvalue = [135, 40]\"] ;\\n3 -> 55 ;\\n56 [label=\"entropy = 0.0\\\\nsamples = 17\\\\nvalue = [17, 0]\"] ;\\n55 -> 56 ;\\n57 [label=\"DiastolicBP <= 55.0\\\\nentropy = 0.816\\\\nsamples = 158\\\\nvalue = [118, 40]\"] ;\\n55 -> 57 ;\\n58 [label=\"entropy = 0.0\\\\nsamples = 13\\\\nvalue = [13, 0]\"] ;\\n57 -> 58 ;\\n59 [label=\"Age <= 31.0\\\\nentropy = 0.85\\\\nsamples = 145\\\\nvalue = [105, 40]\"] ;\\n57 -> 59 ;\\n60 [label=\"Age <= 19.5\\\\nentropy = 0.926\\\\nsamples = 88\\\\nvalue = [58, 30]\"] ;\\n59 -> 60 ;\\n61 [label=\"DiastolicBP <= 78.0\\\\nentropy = 0.619\\\\nsamples = 26\\\\nvalue = [22, 4]\"] ;\\n60 -> 61 ;\\n62 [label=\"entropy = 0.0\\\\nsamples = 13\\\\nvalue = [13, 0]\"] ;\\n61 -> 62 ;\\n63 [label=\"entropy = 0.89\\\\nsamples = 13\\\\nvalue = [9, 4]\"] ;\\n61 -> 63 ;\\n64 [label=\"BS <= 7.75\\\\nentropy = 0.981\\\\nsamples = 62\\\\nvalue = [36, 26]\"] ;\\n60 -> 64 ;\\n65 [label=\"HeartRate <= 76.5\\\\nentropy = 0.893\\\\nsamples = 42\\\\nvalue = [29, 13]\"] ;\\n64 -> 65 ;\\n66 [label=\"HeartRate <= 73.0\\\\nentropy = 0.722\\\\nsamples = 25\\\\nvalue = [20, 5]\"] ;\\n65 -> 66 ;\\n67 [label=\"entropy = 0.852\\\\nsamples = 18\\\\nvalue = [13, 5]\"] ;\\n66 -> 67 ;\\n68 [label=\"entropy = 0.0\\\\nsamples = 7\\\\nvalue = [7, 0]\"] ;\\n66 -> 68 ;\\n69 [label=\"entropy = 0.998\\\\nsamples = 17\\\\nvalue = [9, 8]\"] ;\\n65 -> 69 ;\\n70 [label=\"DiastolicBP <= 87.5\\\\nentropy = 0.934\\\\nsamples = 20\\\\nvalue = [7, 13]\"] ;\\n64 -> 70 ;\\n71 [label=\"entropy = 0.996\\\\nsamples = 13\\\\nvalue = [7, 6]\"] ;\\n70 -> 71 ;\\n72 [label=\"entropy = 0.0\\\\nsamples = 7\\\\nvalue = [0, 7]\"] ;\\n70 -> 72 ;\\n73 [label=\"Age <= 37.0\\\\nentropy = 0.67\\\\nsamples = 57\\\\nvalue = [47, 10]\"] ;\\n59 -> 73 ;\\n74 [label=\"entropy = 0.0\\\\nsamples = 18\\\\nvalue = [18, 0]\"] ;\\n73 -> 74 ;\\n75 [label=\"Age <= 40.5\\\\nentropy = 0.821\\\\nsamples = 39\\\\nvalue = [29, 10]\"] ;\\n73 -> 75 ;\\n76 [label=\"entropy = 0.0\\\\nsamples = 3\\\\nvalue = [0, 3]\"] ;\\n75 -> 76 ;\\n77 [label=\"Age <= 47.0\\\\nentropy = 0.711\\\\nsamples = 36\\\\nvalue = [29, 7]\"] ;\\n75 -> 77 ;\\n78 [label=\"entropy = 0.0\\\\nsamples = 13\\\\nvalue = [13, 0]\"] ;\\n77 -> 78 ;\\n79 [label=\"SystolicBP <= 110.0\\\\nentropy = 0.887\\\\nsamples = 23\\\\nvalue = [16, 7]\"] ;\\n77 -> 79 ;\\n80 [label=\"entropy = 0.0\\\\nsamples = 6\\\\nvalue = [6, 0]\"] ;\\n79 -> 80 ;\\n81 [label=\"entropy = 0.977\\\\nsamples = 17\\\\nvalue = [10, 7]\"] ;\\n79 -> 81 ;\\n82 [label=\"BS <= 7.35\\\\nentropy = 0.807\\\\nsamples = 97\\\\nvalue = [24, 73]\"] ;\\n2 -> 82 ;\\n83 [label=\"DiastolicBP <= 77.5\\\\nentropy = 0.599\\\\nsamples = 48\\\\nvalue = [7, 41]\"] ;\\n82 -> 83 ;\\n84 [label=\"HeartRate <= 63.5\\\\nentropy = 0.242\\\\nsamples = 25\\\\nvalue = [1, 24]\"] ;\\n83 -> 84 ;\\n85 [label=\"entropy = 0.0\\\\nsamples = 1\\\\nvalue = [1, 0]\"] ;\\n84 -> 85 ;\\n86 [label=\"entropy = 0.0\\\\nsamples = 24\\\\nvalue = [0, 24]\"] ;\\n84 -> 86 ;\\n87 [label=\"BS <= 6.75\\\\nentropy = 0.828\\\\nsamples = 23\\\\nvalue = [6, 17]\"] ;\\n83 -> 87 ;\\n88 [label=\"entropy = 0.0\\\\nsamples = 7\\\\nvalue = [0, 7]\"] ;\\n87 -> 88 ;\\n89 [label=\"entropy = 0.954\\\\nsamples = 16\\\\nvalue = [6, 10]\"] ;\\n87 -> 89 ;\\n90 [label=\"BS <= 7.65\\\\nentropy = 0.931\\\\nsamples = 49\\\\nvalue = [17, 32]\"] ;\\n82 -> 90 ;\\n91 [label=\"Age <= 17.5\\\\nentropy = 0.996\\\\nsamples = 26\\\\nvalue = [14, 12]\"] ;\\n90 -> 91 ;\\n92 [label=\"entropy = 0.874\\\\nsamples = 17\\\\nvalue = [12, 5]\"] ;\\n91 -> 92 ;\\n93 [label=\"entropy = 0.764\\\\nsamples = 9\\\\nvalue = [2, 7]\"] ;\\n91 -> 93 ;\\n94 [label=\"SystolicBP <= 87.5\\\\nentropy = 0.559\\\\nsamples = 23\\\\nvalue = [3, 20]\"] ;\\n90 -> 94 ;\\n95 [label=\"entropy = 0.918\\\\nsamples = 3\\\\nvalue = [2, 1]\"] ;\\n94 -> 95 ;\\n96 [label=\"DiastolicBP <= 61.5\\\\nentropy = 0.286\\\\nsamples = 20\\\\nvalue = [1, 19]\"] ;\\n94 -> 96 ;\\n97 [label=\"entropy = 0.592\\\\nsamples = 7\\\\nvalue = [1, 6]\"] ;\\n96 -> 97 ;\\n98 [label=\"entropy = 0.0\\\\nsamples = 13\\\\nvalue = [0, 13]\"] ;\\n96 -> 98 ;\\n99 [label=\"entropy = 0.0\\\\nsamples = 64\\\\nvalue = [0, 64]\"] ;\\n1 -> 99 ;\\n100 [label=\"HeartRate <= 87.0\\\\nentropy = 0.152\\\\nsamples = 182\\\\nvalue = [4, 178]\"] ;\\n0 -> 100 [labeldistance=2.5, labelangle=-45, headlabel=\"False\"] ;\\n101 [label=\"entropy = 0.0\\\\nsamples = 139\\\\nvalue = [0, 139]\"] ;\\n100 -> 101 ;\\n102 [label=\"DiastolicBP <= 85.0\\\\nentropy = 0.446\\\\nsamples = 43\\\\nvalue = [4, 39]\"] ;\\n100 -> 102 ;\\n103 [label=\"entropy = 0.787\\\\nsamples = 17\\\\nvalue = [4, 13]\"] ;\\n102 -> 103 ;\\n104 [label=\"entropy = 0.0\\\\nsamples = 26\\\\nvalue = [0, 26]\"] ;\\n102 -> 104 ;\\n}'"
            ]
          },
          "metadata": {},
          "execution_count": 21
        }
      ]
    },
    {
      "cell_type": "code",
      "source": [
        "# visualizamos el archivo\n",
        "import graphviz\n",
        "graphviz.Source(text)"
      ],
      "metadata": {
        "colab": {
          "base_uri": "https://localhost:8080/",
          "height": 1000
        },
        "id": "0DzQBxz5iSse",
        "outputId": "ac59e730-c71b-4555-c017-7d6b5a4ef3c6"
      },
      "execution_count": null,
      "outputs": [
        {
          "output_type": "execute_result",
          "data": {
            "text/plain": [
              "<graphviz.files.Source at 0x7f1751d73590>"
            ],
            "image/svg+xml": "<?xml version=\"1.0\" encoding=\"UTF-8\" standalone=\"no\"?>\n<!DOCTYPE svg PUBLIC \"-//W3C//DTD SVG 1.1//EN\"\n \"http://www.w3.org/Graphics/SVG/1.1/DTD/svg11.dtd\">\n<!-- Generated by graphviz version 2.40.1 (20161225.0304)\n -->\n<!-- Title: Tree Pages: 1 -->\n<svg width=\"2531pt\" height=\"1621pt\"\n viewBox=\"0.00 0.00 2530.50 1621.00\" xmlns=\"http://www.w3.org/2000/svg\" xmlns:xlink=\"http://www.w3.org/1999/xlink\">\n<g id=\"graph0\" class=\"graph\" transform=\"scale(1 1) rotate(0) translate(4 1617)\">\n<title>Tree</title>\n<polygon fill=\"#ffffff\" stroke=\"transparent\" points=\"-4,4 -4,-1617 2526.5,-1617 2526.5,4 -4,4\"/>\n<!-- 0 -->\n<g id=\"node1\" class=\"node\">\n<title>0</title>\n<polygon fill=\"none\" stroke=\"#000000\" points=\"1788,-1613 1656,-1613 1656,-1545 1788,-1545 1788,-1613\"/>\n<text text-anchor=\"middle\" x=\"1722\" y=\"-1597.8\" font-family=\"Helvetica,sans-Serif\" font-size=\"14.00\" fill=\"#000000\">BS &lt;= 8.5</text>\n<text text-anchor=\"middle\" x=\"1722\" y=\"-1582.8\" font-family=\"Helvetica,sans-Serif\" font-size=\"14.00\" fill=\"#000000\">entropy = 0.954</text>\n<text text-anchor=\"middle\" x=\"1722\" y=\"-1567.8\" font-family=\"Helvetica,sans-Serif\" font-size=\"14.00\" fill=\"#000000\">samples = 748</text>\n<text text-anchor=\"middle\" x=\"1722\" y=\"-1552.8\" font-family=\"Helvetica,sans-Serif\" font-size=\"14.00\" fill=\"#000000\">value = [280, 468]</text>\n</g>\n<!-- 1 -->\n<g id=\"node2\" class=\"node\">\n<title>1</title>\n<polygon fill=\"none\" stroke=\"#000000\" points=\"1716.5,-1509 1569.5,-1509 1569.5,-1441 1716.5,-1441 1716.5,-1509\"/>\n<text text-anchor=\"middle\" x=\"1643\" y=\"-1493.8\" font-family=\"Helvetica,sans-Serif\" font-size=\"14.00\" fill=\"#000000\">SystolicBP &lt;= 129.5</text>\n<text text-anchor=\"middle\" x=\"1643\" y=\"-1478.8\" font-family=\"Helvetica,sans-Serif\" font-size=\"14.00\" fill=\"#000000\">entropy = 1.0</text>\n<text text-anchor=\"middle\" x=\"1643\" y=\"-1463.8\" font-family=\"Helvetica,sans-Serif\" font-size=\"14.00\" fill=\"#000000\">samples = 566</text>\n<text text-anchor=\"middle\" x=\"1643\" y=\"-1448.8\" font-family=\"Helvetica,sans-Serif\" font-size=\"14.00\" fill=\"#000000\">value = [276, 290]</text>\n</g>\n<!-- 0&#45;&gt;1 -->\n<g id=\"edge1\" class=\"edge\">\n<title>0&#45;&gt;1</title>\n<path fill=\"none\" stroke=\"#000000\" d=\"M1696.1324,-1544.9465C1689.3804,-1536.0578 1682.0226,-1526.3716 1674.9941,-1517.1188\"/>\n<polygon fill=\"#000000\" stroke=\"#000000\" points=\"1677.7617,-1514.976 1668.9257,-1509.13 1672.1875,-1519.2102 1677.7617,-1514.976\"/>\n<text text-anchor=\"middle\" x=\"1665.5418\" y=\"-1530.1999\" font-family=\"Helvetica,sans-Serif\" font-size=\"14.00\" fill=\"#000000\">True</text>\n</g>\n<!-- 100 -->\n<g id=\"node101\" class=\"node\">\n<title>100</title>\n<polygon fill=\"none\" stroke=\"#000000\" points=\"1869.5,-1509 1734.5,-1509 1734.5,-1441 1869.5,-1441 1869.5,-1509\"/>\n<text text-anchor=\"middle\" x=\"1802\" y=\"-1493.8\" font-family=\"Helvetica,sans-Serif\" font-size=\"14.00\" fill=\"#000000\">HeartRate &lt;= 87.0</text>\n<text text-anchor=\"middle\" x=\"1802\" y=\"-1478.8\" font-family=\"Helvetica,sans-Serif\" font-size=\"14.00\" fill=\"#000000\">entropy = 0.152</text>\n<text text-anchor=\"middle\" x=\"1802\" y=\"-1463.8\" font-family=\"Helvetica,sans-Serif\" font-size=\"14.00\" fill=\"#000000\">samples = 182</text>\n<text text-anchor=\"middle\" x=\"1802\" y=\"-1448.8\" font-family=\"Helvetica,sans-Serif\" font-size=\"14.00\" fill=\"#000000\">value = [4, 178]</text>\n</g>\n<!-- 0&#45;&gt;100 -->\n<g id=\"edge100\" class=\"edge\">\n<title>0&#45;&gt;100</title>\n<path fill=\"none\" stroke=\"#000000\" d=\"M1748.195,-1544.9465C1755.0325,-1536.0578 1762.4834,-1526.3716 1769.601,-1517.1188\"/>\n<polygon fill=\"#000000\" stroke=\"#000000\" points=\"1772.4232,-1519.1903 1775.7462,-1509.13 1766.8748,-1514.9223 1772.4232,-1519.1903\"/>\n<text text-anchor=\"middle\" x=\"1778.9796\" y=\"-1530.22\" font-family=\"Helvetica,sans-Serif\" font-size=\"14.00\" fill=\"#000000\">False</text>\n</g>\n<!-- 2 -->\n<g id=\"node3\" class=\"node\">\n<title>2</title>\n<polygon fill=\"none\" stroke=\"#000000\" points=\"1579.5,-1405 1440.5,-1405 1440.5,-1337 1579.5,-1337 1579.5,-1405\"/>\n<text text-anchor=\"middle\" x=\"1510\" y=\"-1389.8\" font-family=\"Helvetica,sans-Serif\" font-size=\"14.00\" fill=\"#000000\">BodyTemp &lt;= 99.5</text>\n<text text-anchor=\"middle\" x=\"1510\" y=\"-1374.8\" font-family=\"Helvetica,sans-Serif\" font-size=\"14.00\" fill=\"#000000\">entropy = 0.993</text>\n<text text-anchor=\"middle\" x=\"1510\" y=\"-1359.8\" font-family=\"Helvetica,sans-Serif\" font-size=\"14.00\" fill=\"#000000\">samples = 502</text>\n<text text-anchor=\"middle\" x=\"1510\" y=\"-1344.8\" font-family=\"Helvetica,sans-Serif\" font-size=\"14.00\" fill=\"#000000\">value = [276, 226]</text>\n</g>\n<!-- 1&#45;&gt;2 -->\n<g id=\"edge2\" class=\"edge\">\n<title>1&#45;&gt;2</title>\n<path fill=\"none\" stroke=\"#000000\" d=\"M1599.4508,-1440.9465C1587.3946,-1431.519 1574.1911,-1421.1946 1561.7184,-1411.4415\"/>\n<polygon fill=\"#000000\" stroke=\"#000000\" points=\"1563.6806,-1408.5328 1553.647,-1405.13 1559.3686,-1414.0471 1563.6806,-1408.5328\"/>\n</g>\n<!-- 99 -->\n<g id=\"node100\" class=\"node\">\n<title>99</title>\n<polygon fill=\"none\" stroke=\"#000000\" points=\"1704.5,-1397.5 1597.5,-1397.5 1597.5,-1344.5 1704.5,-1344.5 1704.5,-1397.5\"/>\n<text text-anchor=\"middle\" x=\"1651\" y=\"-1382.3\" font-family=\"Helvetica,sans-Serif\" font-size=\"14.00\" fill=\"#000000\">entropy = 0.0</text>\n<text text-anchor=\"middle\" x=\"1651\" y=\"-1367.3\" font-family=\"Helvetica,sans-Serif\" font-size=\"14.00\" fill=\"#000000\">samples = 64</text>\n<text text-anchor=\"middle\" x=\"1651\" y=\"-1352.3\" font-family=\"Helvetica,sans-Serif\" font-size=\"14.00\" fill=\"#000000\">value = [0, 64]</text>\n</g>\n<!-- 1&#45;&gt;99 -->\n<g id=\"edge99\" class=\"edge\">\n<title>1&#45;&gt;99</title>\n<path fill=\"none\" stroke=\"#000000\" d=\"M1645.6195,-1440.9465C1646.4414,-1430.2621 1647.3519,-1418.4254 1648.1866,-1407.5742\"/>\n<polygon fill=\"#000000\" stroke=\"#000000\" points=\"1651.6809,-1407.7812 1648.9583,-1397.5422 1644.7015,-1407.2442 1651.6809,-1407.7812\"/>\n</g>\n<!-- 3 -->\n<g id=\"node4\" class=\"node\">\n<title>3</title>\n<polygon fill=\"none\" stroke=\"#000000\" points=\"1271,-1301 1139,-1301 1139,-1233 1271,-1233 1271,-1301\"/>\n<text text-anchor=\"middle\" x=\"1205\" y=\"-1285.8\" font-family=\"Helvetica,sans-Serif\" font-size=\"14.00\" fill=\"#000000\">BS &lt;= 7.005</text>\n<text text-anchor=\"middle\" x=\"1205\" y=\"-1270.8\" font-family=\"Helvetica,sans-Serif\" font-size=\"14.00\" fill=\"#000000\">entropy = 0.956</text>\n<text text-anchor=\"middle\" x=\"1205\" y=\"-1255.8\" font-family=\"Helvetica,sans-Serif\" font-size=\"14.00\" fill=\"#000000\">samples = 405</text>\n<text text-anchor=\"middle\" x=\"1205\" y=\"-1240.8\" font-family=\"Helvetica,sans-Serif\" font-size=\"14.00\" fill=\"#000000\">value = [252, 153]</text>\n</g>\n<!-- 2&#45;&gt;3 -->\n<g id=\"edge3\" class=\"edge\">\n<title>2&#45;&gt;3</title>\n<path fill=\"none\" stroke=\"#000000\" d=\"M1440.4091,-1347.2707C1392.774,-1331.0279 1329.6328,-1309.4978 1280.7355,-1292.8246\"/>\n<polygon fill=\"#000000\" stroke=\"#000000\" points=\"1281.7493,-1289.4724 1271.1548,-1289.5577 1279.4901,-1296.0978 1281.7493,-1289.4724\"/>\n</g>\n<!-- 82 -->\n<g id=\"node83\" class=\"node\">\n<title>82</title>\n<polygon fill=\"none\" stroke=\"#000000\" points=\"1717,-1301 1599,-1301 1599,-1233 1717,-1233 1717,-1301\"/>\n<text text-anchor=\"middle\" x=\"1658\" y=\"-1285.8\" font-family=\"Helvetica,sans-Serif\" font-size=\"14.00\" fill=\"#000000\">BS &lt;= 7.35</text>\n<text text-anchor=\"middle\" x=\"1658\" y=\"-1270.8\" font-family=\"Helvetica,sans-Serif\" font-size=\"14.00\" fill=\"#000000\">entropy = 0.807</text>\n<text text-anchor=\"middle\" x=\"1658\" y=\"-1255.8\" font-family=\"Helvetica,sans-Serif\" font-size=\"14.00\" fill=\"#000000\">samples = 97</text>\n<text text-anchor=\"middle\" x=\"1658\" y=\"-1240.8\" font-family=\"Helvetica,sans-Serif\" font-size=\"14.00\" fill=\"#000000\">value = [24, 73]</text>\n</g>\n<!-- 2&#45;&gt;82 -->\n<g id=\"edge82\" class=\"edge\">\n<title>2&#45;&gt;82</title>\n<path fill=\"none\" stroke=\"#000000\" d=\"M1558.4607,-1336.9465C1572.1323,-1327.3395 1587.1294,-1316.8009 1601.2409,-1306.8848\"/>\n<polygon fill=\"#000000\" stroke=\"#000000\" points=\"1603.2608,-1309.7432 1609.4304,-1301.13 1599.2361,-1304.0158 1603.2608,-1309.7432\"/>\n</g>\n<!-- 4 -->\n<g id=\"node5\" class=\"node\">\n<title>4</title>\n<polygon fill=\"none\" stroke=\"#000000\" points=\"698.5,-1197 555.5,-1197 555.5,-1129 698.5,-1129 698.5,-1197\"/>\n<text text-anchor=\"middle\" x=\"627\" y=\"-1181.8\" font-family=\"Helvetica,sans-Serif\" font-size=\"14.00\" fill=\"#000000\">DiastolicBP &lt;= 49.5</text>\n<text text-anchor=\"middle\" x=\"627\" y=\"-1166.8\" font-family=\"Helvetica,sans-Serif\" font-size=\"14.00\" fill=\"#000000\">entropy = 1.0</text>\n<text text-anchor=\"middle\" x=\"627\" y=\"-1151.8\" font-family=\"Helvetica,sans-Serif\" font-size=\"14.00\" fill=\"#000000\">samples = 230</text>\n<text text-anchor=\"middle\" x=\"627\" y=\"-1136.8\" font-family=\"Helvetica,sans-Serif\" font-size=\"14.00\" fill=\"#000000\">value = [117, 113]</text>\n</g>\n<!-- 3&#45;&gt;4 -->\n<g id=\"edge4\" class=\"edge\">\n<title>3&#45;&gt;4</title>\n<path fill=\"none\" stroke=\"#000000\" d=\"M1138.9777,-1255.1205C1032.7727,-1236.011 824.238,-1198.4892 708.779,-1177.7146\"/>\n<polygon fill=\"#000000\" stroke=\"#000000\" points=\"709.3875,-1174.2679 698.9257,-1175.9416 708.1478,-1181.1573 709.3875,-1174.2679\"/>\n</g>\n<!-- 55 -->\n<g id=\"node56\" class=\"node\">\n<title>55</title>\n<polygon fill=\"none\" stroke=\"#000000\" points=\"1267,-1197 1143,-1197 1143,-1129 1267,-1129 1267,-1197\"/>\n<text text-anchor=\"middle\" x=\"1205\" y=\"-1181.8\" font-family=\"Helvetica,sans-Serif\" font-size=\"14.00\" fill=\"#000000\">BS &lt;= 7.35</text>\n<text text-anchor=\"middle\" x=\"1205\" y=\"-1166.8\" font-family=\"Helvetica,sans-Serif\" font-size=\"14.00\" fill=\"#000000\">entropy = 0.776</text>\n<text text-anchor=\"middle\" x=\"1205\" y=\"-1151.8\" font-family=\"Helvetica,sans-Serif\" font-size=\"14.00\" fill=\"#000000\">samples = 175</text>\n<text text-anchor=\"middle\" x=\"1205\" y=\"-1136.8\" font-family=\"Helvetica,sans-Serif\" font-size=\"14.00\" fill=\"#000000\">value = [135, 40]</text>\n</g>\n<!-- 3&#45;&gt;55 -->\n<g id=\"edge55\" class=\"edge\">\n<title>3&#45;&gt;55</title>\n<path fill=\"none\" stroke=\"#000000\" d=\"M1205,-1232.9465C1205,-1224.776 1205,-1215.9318 1205,-1207.3697\"/>\n<polygon fill=\"#000000\" stroke=\"#000000\" points=\"1208.5001,-1207.13 1205,-1197.13 1201.5001,-1207.13 1208.5001,-1207.13\"/>\n</g>\n<!-- 5 -->\n<g id=\"node6\" class=\"node\">\n<title>5</title>\n<polygon fill=\"none\" stroke=\"#000000\" points=\"542.5,-1085.5 441.5,-1085.5 441.5,-1032.5 542.5,-1032.5 542.5,-1085.5\"/>\n<text text-anchor=\"middle\" x=\"492\" y=\"-1070.3\" font-family=\"Helvetica,sans-Serif\" font-size=\"14.00\" fill=\"#000000\">entropy = 0.0</text>\n<text text-anchor=\"middle\" x=\"492\" y=\"-1055.3\" font-family=\"Helvetica,sans-Serif\" font-size=\"14.00\" fill=\"#000000\">samples = 9</text>\n<text text-anchor=\"middle\" x=\"492\" y=\"-1040.3\" font-family=\"Helvetica,sans-Serif\" font-size=\"14.00\" fill=\"#000000\">value = [9, 0]</text>\n</g>\n<!-- 4&#45;&gt;5 -->\n<g id=\"edge5\" class=\"edge\">\n<title>4&#45;&gt;5</title>\n<path fill=\"none\" stroke=\"#000000\" d=\"M582.796,-1128.9465C567.3539,-1117.0504 550.0578,-1103.726 534.7375,-1091.9237\"/>\n<polygon fill=\"#000000\" stroke=\"#000000\" points=\"536.5117,-1088.8723 526.4538,-1085.5422 532.2397,-1094.4176 536.5117,-1088.8723\"/>\n</g>\n<!-- 6 -->\n<g id=\"node7\" class=\"node\">\n<title>6</title>\n<polygon fill=\"none\" stroke=\"#000000\" points=\"693,-1093 561,-1093 561,-1025 693,-1025 693,-1093\"/>\n<text text-anchor=\"middle\" x=\"627\" y=\"-1077.8\" font-family=\"Helvetica,sans-Serif\" font-size=\"14.00\" fill=\"#000000\">BS &lt;= 6.75</text>\n<text text-anchor=\"middle\" x=\"627\" y=\"-1062.8\" font-family=\"Helvetica,sans-Serif\" font-size=\"14.00\" fill=\"#000000\">entropy = 1.0</text>\n<text text-anchor=\"middle\" x=\"627\" y=\"-1047.8\" font-family=\"Helvetica,sans-Serif\" font-size=\"14.00\" fill=\"#000000\">samples = 221</text>\n<text text-anchor=\"middle\" x=\"627\" y=\"-1032.8\" font-family=\"Helvetica,sans-Serif\" font-size=\"14.00\" fill=\"#000000\">value = [108, 113]</text>\n</g>\n<!-- 4&#45;&gt;6 -->\n<g id=\"edge6\" class=\"edge\">\n<title>4&#45;&gt;6</title>\n<path fill=\"none\" stroke=\"#000000\" d=\"M627,-1128.9465C627,-1120.776 627,-1111.9318 627,-1103.3697\"/>\n<polygon fill=\"#000000\" stroke=\"#000000\" points=\"630.5001,-1103.13 627,-1093.13 623.5001,-1103.13 630.5001,-1103.13\"/>\n</g>\n<!-- 7 -->\n<g id=\"node8\" class=\"node\">\n<title>7</title>\n<polygon fill=\"none\" stroke=\"#000000\" points=\"439.5,-989 296.5,-989 296.5,-921 439.5,-921 439.5,-989\"/>\n<text text-anchor=\"middle\" x=\"368\" y=\"-973.8\" font-family=\"Helvetica,sans-Serif\" font-size=\"14.00\" fill=\"#000000\">DiastolicBP &lt;= 75.0</text>\n<text text-anchor=\"middle\" x=\"368\" y=\"-958.8\" font-family=\"Helvetica,sans-Serif\" font-size=\"14.00\" fill=\"#000000\">entropy = 0.971</text>\n<text text-anchor=\"middle\" x=\"368\" y=\"-943.8\" font-family=\"Helvetica,sans-Serif\" font-size=\"14.00\" fill=\"#000000\">samples = 60</text>\n<text text-anchor=\"middle\" x=\"368\" y=\"-928.8\" font-family=\"Helvetica,sans-Serif\" font-size=\"14.00\" fill=\"#000000\">value = [36, 24]</text>\n</g>\n<!-- 6&#45;&gt;7 -->\n<g id=\"edge7\" class=\"edge\">\n<title>6&#45;&gt;7</title>\n<path fill=\"none\" stroke=\"#000000\" d=\"M560.7745,-1029.1138C557.4764,-1027.7068 554.2046,-1026.3285 551,-1025 517.967,-1011.3056 481.2046,-997.0542 449.3459,-985.0126\"/>\n<polygon fill=\"#000000\" stroke=\"#000000\" points=\"450.2176,-981.6008 439.6258,-981.3495 447.7491,-988.1511 450.2176,-981.6008\"/>\n</g>\n<!-- 18 -->\n<g id=\"node19\" class=\"node\">\n<title>18</title>\n<polygon fill=\"none\" stroke=\"#000000\" points=\"696.5,-989 557.5,-989 557.5,-921 696.5,-921 696.5,-989\"/>\n<text text-anchor=\"middle\" x=\"627\" y=\"-973.8\" font-family=\"Helvetica,sans-Serif\" font-size=\"14.00\" fill=\"#000000\">SystolicBP &lt;= 82.5</text>\n<text text-anchor=\"middle\" x=\"627\" y=\"-958.8\" font-family=\"Helvetica,sans-Serif\" font-size=\"14.00\" fill=\"#000000\">entropy = 0.992</text>\n<text text-anchor=\"middle\" x=\"627\" y=\"-943.8\" font-family=\"Helvetica,sans-Serif\" font-size=\"14.00\" fill=\"#000000\">samples = 161</text>\n<text text-anchor=\"middle\" x=\"627\" y=\"-928.8\" font-family=\"Helvetica,sans-Serif\" font-size=\"14.00\" fill=\"#000000\">value = [72, 89]</text>\n</g>\n<!-- 6&#45;&gt;18 -->\n<g id=\"edge18\" class=\"edge\">\n<title>6&#45;&gt;18</title>\n<path fill=\"none\" stroke=\"#000000\" d=\"M627,-1024.9465C627,-1016.776 627,-1007.9318 627,-999.3697\"/>\n<polygon fill=\"#000000\" stroke=\"#000000\" points=\"630.5001,-999.13 627,-989.13 623.5001,-999.13 630.5001,-999.13\"/>\n</g>\n<!-- 8 -->\n<g id=\"node9\" class=\"node\">\n<title>8</title>\n<polygon fill=\"none\" stroke=\"#000000\" points=\"262.5,-885 127.5,-885 127.5,-817 262.5,-817 262.5,-885\"/>\n<text text-anchor=\"middle\" x=\"195\" y=\"-869.8\" font-family=\"Helvetica,sans-Serif\" font-size=\"14.00\" fill=\"#000000\">HeartRate &lt;= 68.0</text>\n<text text-anchor=\"middle\" x=\"195\" y=\"-854.8\" font-family=\"Helvetica,sans-Serif\" font-size=\"14.00\" fill=\"#000000\">entropy = 1.0</text>\n<text text-anchor=\"middle\" x=\"195\" y=\"-839.8\" font-family=\"Helvetica,sans-Serif\" font-size=\"14.00\" fill=\"#000000\">samples = 47</text>\n<text text-anchor=\"middle\" x=\"195\" y=\"-824.8\" font-family=\"Helvetica,sans-Serif\" font-size=\"14.00\" fill=\"#000000\">value = [23, 24]</text>\n</g>\n<!-- 7&#45;&gt;8 -->\n<g id=\"edge8\" class=\"edge\">\n<title>7&#45;&gt;8</title>\n<path fill=\"none\" stroke=\"#000000\" d=\"M311.3533,-920.9465C295.0737,-911.1599 277.186,-900.4066 260.423,-890.3294\"/>\n<polygon fill=\"#000000\" stroke=\"#000000\" points=\"262.1478,-887.2826 251.7739,-885.13 258.5412,-893.282 262.1478,-887.2826\"/>\n</g>\n<!-- 17 -->\n<g id=\"node18\" class=\"node\">\n<title>17</title>\n<polygon fill=\"none\" stroke=\"#000000\" points=\"421.5,-877.5 314.5,-877.5 314.5,-824.5 421.5,-824.5 421.5,-877.5\"/>\n<text text-anchor=\"middle\" x=\"368\" y=\"-862.3\" font-family=\"Helvetica,sans-Serif\" font-size=\"14.00\" fill=\"#000000\">entropy = 0.0</text>\n<text text-anchor=\"middle\" x=\"368\" y=\"-847.3\" font-family=\"Helvetica,sans-Serif\" font-size=\"14.00\" fill=\"#000000\">samples = 13</text>\n<text text-anchor=\"middle\" x=\"368\" y=\"-832.3\" font-family=\"Helvetica,sans-Serif\" font-size=\"14.00\" fill=\"#000000\">value = [13, 0]</text>\n</g>\n<!-- 7&#45;&gt;17 -->\n<g id=\"edge17\" class=\"edge\">\n<title>7&#45;&gt;17</title>\n<path fill=\"none\" stroke=\"#000000\" d=\"M368,-920.9465C368,-910.2621 368,-898.4254 368,-887.5742\"/>\n<polygon fill=\"#000000\" stroke=\"#000000\" points=\"371.5001,-887.5421 368,-877.5422 364.5001,-887.5422 371.5001,-887.5421\"/>\n</g>\n<!-- 9 -->\n<g id=\"node10\" class=\"node\">\n<title>9</title>\n<polygon fill=\"none\" stroke=\"#000000\" points=\"105.5,-773.5 4.5,-773.5 4.5,-720.5 105.5,-720.5 105.5,-773.5\"/>\n<text text-anchor=\"middle\" x=\"55\" y=\"-758.3\" font-family=\"Helvetica,sans-Serif\" font-size=\"14.00\" fill=\"#000000\">entropy = 0.0</text>\n<text text-anchor=\"middle\" x=\"55\" y=\"-743.3\" font-family=\"Helvetica,sans-Serif\" font-size=\"14.00\" fill=\"#000000\">samples = 5</text>\n<text text-anchor=\"middle\" x=\"55\" y=\"-728.3\" font-family=\"Helvetica,sans-Serif\" font-size=\"14.00\" fill=\"#000000\">value = [5, 0]</text>\n</g>\n<!-- 8&#45;&gt;9 -->\n<g id=\"edge9\" class=\"edge\">\n<title>8&#45;&gt;9</title>\n<path fill=\"none\" stroke=\"#000000\" d=\"M149.1588,-816.9465C132.9965,-804.9403 114.8758,-791.4791 98.8795,-779.5962\"/>\n<polygon fill=\"#000000\" stroke=\"#000000\" points=\"100.8444,-776.6958 90.7298,-773.5422 96.6701,-782.3151 100.8444,-776.6958\"/>\n</g>\n<!-- 10 -->\n<g id=\"node11\" class=\"node\">\n<title>10</title>\n<polygon fill=\"none\" stroke=\"#000000\" points=\"266.5,-781 123.5,-781 123.5,-713 266.5,-713 266.5,-781\"/>\n<text text-anchor=\"middle\" x=\"195\" y=\"-765.8\" font-family=\"Helvetica,sans-Serif\" font-size=\"14.00\" fill=\"#000000\">DiastolicBP &lt;= 55.0</text>\n<text text-anchor=\"middle\" x=\"195\" y=\"-750.8\" font-family=\"Helvetica,sans-Serif\" font-size=\"14.00\" fill=\"#000000\">entropy = 0.985</text>\n<text text-anchor=\"middle\" x=\"195\" y=\"-735.8\" font-family=\"Helvetica,sans-Serif\" font-size=\"14.00\" fill=\"#000000\">samples = 42</text>\n<text text-anchor=\"middle\" x=\"195\" y=\"-720.8\" font-family=\"Helvetica,sans-Serif\" font-size=\"14.00\" fill=\"#000000\">value = [18, 24]</text>\n</g>\n<!-- 8&#45;&gt;10 -->\n<g id=\"edge10\" class=\"edge\">\n<title>8&#45;&gt;10</title>\n<path fill=\"none\" stroke=\"#000000\" d=\"M195,-816.9465C195,-808.776 195,-799.9318 195,-791.3697\"/>\n<polygon fill=\"#000000\" stroke=\"#000000\" points=\"198.5001,-791.13 195,-781.13 191.5001,-791.13 198.5001,-791.13\"/>\n</g>\n<!-- 11 -->\n<g id=\"node12\" class=\"node\">\n<title>11</title>\n<polygon fill=\"none\" stroke=\"#000000\" points=\"118,-669.5 0,-669.5 0,-616.5 118,-616.5 118,-669.5\"/>\n<text text-anchor=\"middle\" x=\"59\" y=\"-654.3\" font-family=\"Helvetica,sans-Serif\" font-size=\"14.00\" fill=\"#000000\">entropy = 0.503</text>\n<text text-anchor=\"middle\" x=\"59\" y=\"-639.3\" font-family=\"Helvetica,sans-Serif\" font-size=\"14.00\" fill=\"#000000\">samples = 9</text>\n<text text-anchor=\"middle\" x=\"59\" y=\"-624.3\" font-family=\"Helvetica,sans-Serif\" font-size=\"14.00\" fill=\"#000000\">value = [1, 8]</text>\n</g>\n<!-- 10&#45;&gt;11 -->\n<g id=\"edge11\" class=\"edge\">\n<title>10&#45;&gt;11</title>\n<path fill=\"none\" stroke=\"#000000\" d=\"M150.4685,-712.9465C134.9121,-701.0504 117.4879,-687.726 102.0541,-675.9237\"/>\n<polygon fill=\"#000000\" stroke=\"#000000\" points=\"103.7787,-672.8364 93.709,-669.5422 99.5265,-678.397 103.7787,-672.8364\"/>\n</g>\n<!-- 12 -->\n<g id=\"node13\" class=\"node\">\n<title>12</title>\n<polygon fill=\"none\" stroke=\"#000000\" points=\"254,-677 136,-677 136,-609 254,-609 254,-677\"/>\n<text text-anchor=\"middle\" x=\"195\" y=\"-661.8\" font-family=\"Helvetica,sans-Serif\" font-size=\"14.00\" fill=\"#000000\">Age &lt;= 27.0</text>\n<text text-anchor=\"middle\" x=\"195\" y=\"-646.8\" font-family=\"Helvetica,sans-Serif\" font-size=\"14.00\" fill=\"#000000\">entropy = 0.999</text>\n<text text-anchor=\"middle\" x=\"195\" y=\"-631.8\" font-family=\"Helvetica,sans-Serif\" font-size=\"14.00\" fill=\"#000000\">samples = 33</text>\n<text text-anchor=\"middle\" x=\"195\" y=\"-616.8\" font-family=\"Helvetica,sans-Serif\" font-size=\"14.00\" fill=\"#000000\">value = [17, 16]</text>\n</g>\n<!-- 10&#45;&gt;12 -->\n<g id=\"edge12\" class=\"edge\">\n<title>10&#45;&gt;12</title>\n<path fill=\"none\" stroke=\"#000000\" d=\"M195,-712.9465C195,-704.776 195,-695.9318 195,-687.3697\"/>\n<polygon fill=\"#000000\" stroke=\"#000000\" points=\"198.5001,-687.13 195,-677.13 191.5001,-687.13 198.5001,-687.13\"/>\n</g>\n<!-- 13 -->\n<g id=\"node14\" class=\"node\">\n<title>13</title>\n<polygon fill=\"none\" stroke=\"#000000\" points=\"117.5,-565.5 10.5,-565.5 10.5,-512.5 117.5,-512.5 117.5,-565.5\"/>\n<text text-anchor=\"middle\" x=\"64\" y=\"-550.3\" font-family=\"Helvetica,sans-Serif\" font-size=\"14.00\" fill=\"#000000\">entropy = 0.0</text>\n<text text-anchor=\"middle\" x=\"64\" y=\"-535.3\" font-family=\"Helvetica,sans-Serif\" font-size=\"14.00\" fill=\"#000000\">samples = 10</text>\n<text text-anchor=\"middle\" x=\"64\" y=\"-520.3\" font-family=\"Helvetica,sans-Serif\" font-size=\"14.00\" fill=\"#000000\">value = [10, 0]</text>\n</g>\n<!-- 12&#45;&gt;13 -->\n<g id=\"edge13\" class=\"edge\">\n<title>12&#45;&gt;13</title>\n<path fill=\"none\" stroke=\"#000000\" d=\"M152.1057,-608.9465C137.1212,-597.0504 120.3376,-583.726 105.4712,-571.9237\"/>\n<polygon fill=\"#000000\" stroke=\"#000000\" points=\"107.4411,-569.0187 97.4329,-565.5422 103.0887,-574.5011 107.4411,-569.0187\"/>\n</g>\n<!-- 14 -->\n<g id=\"node15\" class=\"node\">\n<title>14</title>\n<polygon fill=\"none\" stroke=\"#000000\" points=\"254,-573 136,-573 136,-505 254,-505 254,-573\"/>\n<text text-anchor=\"middle\" x=\"195\" y=\"-557.8\" font-family=\"Helvetica,sans-Serif\" font-size=\"14.00\" fill=\"#000000\">Age &lt;= 30.0</text>\n<text text-anchor=\"middle\" x=\"195\" y=\"-542.8\" font-family=\"Helvetica,sans-Serif\" font-size=\"14.00\" fill=\"#000000\">entropy = 0.887</text>\n<text text-anchor=\"middle\" x=\"195\" y=\"-527.8\" font-family=\"Helvetica,sans-Serif\" font-size=\"14.00\" fill=\"#000000\">samples = 23</text>\n<text text-anchor=\"middle\" x=\"195\" y=\"-512.8\" font-family=\"Helvetica,sans-Serif\" font-size=\"14.00\" fill=\"#000000\">value = [7, 16]</text>\n</g>\n<!-- 12&#45;&gt;14 -->\n<g id=\"edge14\" class=\"edge\">\n<title>12&#45;&gt;14</title>\n<path fill=\"none\" stroke=\"#000000\" d=\"M195,-608.9465C195,-600.776 195,-591.9318 195,-583.3697\"/>\n<polygon fill=\"#000000\" stroke=\"#000000\" points=\"198.5001,-583.13 195,-573.13 191.5001,-583.13 198.5001,-583.13\"/>\n</g>\n<!-- 15 -->\n<g id=\"node16\" class=\"node\">\n<title>15</title>\n<polygon fill=\"none\" stroke=\"#000000\" points=\"123.5,-461.5 22.5,-461.5 22.5,-408.5 123.5,-408.5 123.5,-461.5\"/>\n<text text-anchor=\"middle\" x=\"73\" y=\"-446.3\" font-family=\"Helvetica,sans-Serif\" font-size=\"14.00\" fill=\"#000000\">entropy = 0.0</text>\n<text text-anchor=\"middle\" x=\"73\" y=\"-431.3\" font-family=\"Helvetica,sans-Serif\" font-size=\"14.00\" fill=\"#000000\">samples = 5</text>\n<text text-anchor=\"middle\" x=\"73\" y=\"-416.3\" font-family=\"Helvetica,sans-Serif\" font-size=\"14.00\" fill=\"#000000\">value = [0, 5]</text>\n</g>\n<!-- 14&#45;&gt;15 -->\n<g id=\"edge15\" class=\"edge\">\n<title>14&#45;&gt;15</title>\n<path fill=\"none\" stroke=\"#000000\" d=\"M155.0526,-504.9465C141.2268,-493.1606 125.7564,-479.9726 112.0071,-468.2519\"/>\n<polygon fill=\"#000000\" stroke=\"#000000\" points=\"114.0168,-465.366 104.136,-461.5422 109.4756,-470.6931 114.0168,-465.366\"/>\n</g>\n<!-- 16 -->\n<g id=\"node17\" class=\"node\">\n<title>16</title>\n<polygon fill=\"none\" stroke=\"#000000\" points=\"260,-461.5 142,-461.5 142,-408.5 260,-408.5 260,-461.5\"/>\n<text text-anchor=\"middle\" x=\"201\" y=\"-446.3\" font-family=\"Helvetica,sans-Serif\" font-size=\"14.00\" fill=\"#000000\">entropy = 0.964</text>\n<text text-anchor=\"middle\" x=\"201\" y=\"-431.3\" font-family=\"Helvetica,sans-Serif\" font-size=\"14.00\" fill=\"#000000\">samples = 18</text>\n<text text-anchor=\"middle\" x=\"201\" y=\"-416.3\" font-family=\"Helvetica,sans-Serif\" font-size=\"14.00\" fill=\"#000000\">value = [7, 11]</text>\n</g>\n<!-- 14&#45;&gt;16 -->\n<g id=\"edge16\" class=\"edge\">\n<title>14&#45;&gt;16</title>\n<path fill=\"none\" stroke=\"#000000\" d=\"M196.9646,-504.9465C197.581,-494.2621 198.2639,-482.4254 198.8899,-471.5742\"/>\n<polygon fill=\"#000000\" stroke=\"#000000\" points=\"202.3869,-471.7272 199.4687,-461.5422 195.3985,-471.3239 202.3869,-471.7272\"/>\n</g>\n<!-- 19 -->\n<g id=\"node20\" class=\"node\">\n<title>19</title>\n<polygon fill=\"none\" stroke=\"#000000\" points=\"607.5,-877.5 506.5,-877.5 506.5,-824.5 607.5,-824.5 607.5,-877.5\"/>\n<text text-anchor=\"middle\" x=\"557\" y=\"-862.3\" font-family=\"Helvetica,sans-Serif\" font-size=\"14.00\" fill=\"#000000\">entropy = 0.0</text>\n<text text-anchor=\"middle\" x=\"557\" y=\"-847.3\" font-family=\"Helvetica,sans-Serif\" font-size=\"14.00\" fill=\"#000000\">samples = 4</text>\n<text text-anchor=\"middle\" x=\"557\" y=\"-832.3\" font-family=\"Helvetica,sans-Serif\" font-size=\"14.00\" fill=\"#000000\">value = [4, 0]</text>\n</g>\n<!-- 18&#45;&gt;19 -->\n<g id=\"edge19\" class=\"edge\">\n<title>18&#45;&gt;19</title>\n<path fill=\"none\" stroke=\"#000000\" d=\"M604.0794,-920.9465C596.5172,-909.7113 588.0976,-897.2021 580.4933,-885.9043\"/>\n<polygon fill=\"#000000\" stroke=\"#000000\" points=\"583.3523,-883.8837 574.8649,-877.5422 577.5452,-887.7924 583.3523,-883.8837\"/>\n</g>\n<!-- 20 -->\n<g id=\"node21\" class=\"node\">\n<title>20</title>\n<polygon fill=\"none\" stroke=\"#000000\" points=\"768.5,-885 625.5,-885 625.5,-817 768.5,-817 768.5,-885\"/>\n<text text-anchor=\"middle\" x=\"697\" y=\"-869.8\" font-family=\"Helvetica,sans-Serif\" font-size=\"14.00\" fill=\"#000000\">DiastolicBP &lt;= 77.5</text>\n<text text-anchor=\"middle\" x=\"697\" y=\"-854.8\" font-family=\"Helvetica,sans-Serif\" font-size=\"14.00\" fill=\"#000000\">entropy = 0.987</text>\n<text text-anchor=\"middle\" x=\"697\" y=\"-839.8\" font-family=\"Helvetica,sans-Serif\" font-size=\"14.00\" fill=\"#000000\">samples = 157</text>\n<text text-anchor=\"middle\" x=\"697\" y=\"-824.8\" font-family=\"Helvetica,sans-Serif\" font-size=\"14.00\" fill=\"#000000\">value = [68, 89]</text>\n</g>\n<!-- 18&#45;&gt;20 -->\n<g id=\"edge20\" class=\"edge\">\n<title>18&#45;&gt;20</title>\n<path fill=\"none\" stroke=\"#000000\" d=\"M649.9206,-920.9465C655.7826,-912.2373 662.1598,-902.7626 668.273,-893.6801\"/>\n<polygon fill=\"#000000\" stroke=\"#000000\" points=\"671.3476,-895.3802 674.0279,-885.13 665.5405,-891.4716 671.3476,-895.3802\"/>\n</g>\n<!-- 21 -->\n<g id=\"node22\" class=\"node\">\n<title>21</title>\n<polygon fill=\"none\" stroke=\"#000000\" points=\"686.5,-781 547.5,-781 547.5,-713 686.5,-713 686.5,-781\"/>\n<text text-anchor=\"middle\" x=\"617\" y=\"-765.8\" font-family=\"Helvetica,sans-Serif\" font-size=\"14.00\" fill=\"#000000\">SystolicBP &lt;= 97.0</text>\n<text text-anchor=\"middle\" x=\"617\" y=\"-750.8\" font-family=\"Helvetica,sans-Serif\" font-size=\"14.00\" fill=\"#000000\">entropy = 0.999</text>\n<text text-anchor=\"middle\" x=\"617\" y=\"-735.8\" font-family=\"Helvetica,sans-Serif\" font-size=\"14.00\" fill=\"#000000\">samples = 67</text>\n<text text-anchor=\"middle\" x=\"617\" y=\"-720.8\" font-family=\"Helvetica,sans-Serif\" font-size=\"14.00\" fill=\"#000000\">value = [35, 32]</text>\n</g>\n<!-- 20&#45;&gt;21 -->\n<g id=\"edge21\" class=\"edge\">\n<title>20&#45;&gt;21</title>\n<path fill=\"none\" stroke=\"#000000\" d=\"M670.805,-816.9465C663.9675,-808.0578 656.5166,-798.3716 649.399,-789.1188\"/>\n<polygon fill=\"#000000\" stroke=\"#000000\" points=\"652.1252,-786.9223 643.2538,-781.13 646.5768,-791.1903 652.1252,-786.9223\"/>\n</g>\n<!-- 36 -->\n<g id=\"node37\" class=\"node\">\n<title>36</title>\n<polygon fill=\"none\" stroke=\"#000000\" points=\"823,-781 705,-781 705,-713 823,-713 823,-781\"/>\n<text text-anchor=\"middle\" x=\"764\" y=\"-765.8\" font-family=\"Helvetica,sans-Serif\" font-size=\"14.00\" fill=\"#000000\">Age &lt;= 17.0</text>\n<text text-anchor=\"middle\" x=\"764\" y=\"-750.8\" font-family=\"Helvetica,sans-Serif\" font-size=\"14.00\" fill=\"#000000\">entropy = 0.948</text>\n<text text-anchor=\"middle\" x=\"764\" y=\"-735.8\" font-family=\"Helvetica,sans-Serif\" font-size=\"14.00\" fill=\"#000000\">samples = 90</text>\n<text text-anchor=\"middle\" x=\"764\" y=\"-720.8\" font-family=\"Helvetica,sans-Serif\" font-size=\"14.00\" fill=\"#000000\">value = [33, 57]</text>\n</g>\n<!-- 20&#45;&gt;36 -->\n<g id=\"edge36\" class=\"edge\">\n<title>20&#45;&gt;36</title>\n<path fill=\"none\" stroke=\"#000000\" d=\"M718.9383,-816.9465C724.549,-808.2373 730.6529,-798.7626 736.5042,-789.6801\"/>\n<polygon fill=\"#000000\" stroke=\"#000000\" points=\"739.5389,-791.4321 742.0124,-781.13 733.6543,-787.641 739.5389,-791.4321\"/>\n</g>\n<!-- 22 -->\n<g id=\"node23\" class=\"node\">\n<title>22</title>\n<polygon fill=\"none\" stroke=\"#000000\" points=\"548,-677 430,-677 430,-609 548,-609 548,-677\"/>\n<text text-anchor=\"middle\" x=\"489\" y=\"-661.8\" font-family=\"Helvetica,sans-Serif\" font-size=\"14.00\" fill=\"#000000\">Age &lt;= 22.5</text>\n<text text-anchor=\"middle\" x=\"489\" y=\"-646.8\" font-family=\"Helvetica,sans-Serif\" font-size=\"14.00\" fill=\"#000000\">entropy = 0.949</text>\n<text text-anchor=\"middle\" x=\"489\" y=\"-631.8\" font-family=\"Helvetica,sans-Serif\" font-size=\"14.00\" fill=\"#000000\">samples = 38</text>\n<text text-anchor=\"middle\" x=\"489\" y=\"-616.8\" font-family=\"Helvetica,sans-Serif\" font-size=\"14.00\" fill=\"#000000\">value = [14, 24]</text>\n</g>\n<!-- 21&#45;&gt;22 -->\n<g id=\"edge22\" class=\"edge\">\n<title>21&#45;&gt;22</title>\n<path fill=\"none\" stroke=\"#000000\" d=\"M575.088,-712.9465C563.485,-703.519 550.7779,-693.1946 538.7741,-683.4415\"/>\n<polygon fill=\"#000000\" stroke=\"#000000\" points=\"540.9744,-680.7196 531.0061,-677.13 536.5602,-686.1524 540.9744,-680.7196\"/>\n</g>\n<!-- 33 -->\n<g id=\"node34\" class=\"node\">\n<title>33</title>\n<polygon fill=\"none\" stroke=\"#000000\" points=\"676,-677 566,-677 566,-609 676,-609 676,-677\"/>\n<text text-anchor=\"middle\" x=\"621\" y=\"-661.8\" font-family=\"Helvetica,sans-Serif\" font-size=\"14.00\" fill=\"#000000\">Age &lt;= 29.5</text>\n<text text-anchor=\"middle\" x=\"621\" y=\"-646.8\" font-family=\"Helvetica,sans-Serif\" font-size=\"14.00\" fill=\"#000000\">entropy = 0.85</text>\n<text text-anchor=\"middle\" x=\"621\" y=\"-631.8\" font-family=\"Helvetica,sans-Serif\" font-size=\"14.00\" fill=\"#000000\">samples = 29</text>\n<text text-anchor=\"middle\" x=\"621\" y=\"-616.8\" font-family=\"Helvetica,sans-Serif\" font-size=\"14.00\" fill=\"#000000\">value = [21, 8]</text>\n</g>\n<!-- 21&#45;&gt;33 -->\n<g id=\"edge33\" class=\"edge\">\n<title>21&#45;&gt;33</title>\n<path fill=\"none\" stroke=\"#000000\" d=\"M618.3097,-712.9465C618.624,-704.776 618.9642,-695.9318 619.2935,-687.3697\"/>\n<polygon fill=\"#000000\" stroke=\"#000000\" points=\"622.8003,-687.2572 619.6873,-677.13 615.8055,-686.9881 622.8003,-687.2572\"/>\n</g>\n<!-- 23 -->\n<g id=\"node24\" class=\"node\">\n<title>23</title>\n<polygon fill=\"none\" stroke=\"#000000\" points=\"415.5,-573 272.5,-573 272.5,-505 415.5,-505 415.5,-573\"/>\n<text text-anchor=\"middle\" x=\"344\" y=\"-557.8\" font-family=\"Helvetica,sans-Serif\" font-size=\"14.00\" fill=\"#000000\">DiastolicBP &lt;= 55.0</text>\n<text text-anchor=\"middle\" x=\"344\" y=\"-542.8\" font-family=\"Helvetica,sans-Serif\" font-size=\"14.00\" fill=\"#000000\">entropy = 0.84</text>\n<text text-anchor=\"middle\" x=\"344\" y=\"-527.8\" font-family=\"Helvetica,sans-Serif\" font-size=\"14.00\" fill=\"#000000\">samples = 26</text>\n<text text-anchor=\"middle\" x=\"344\" y=\"-512.8\" font-family=\"Helvetica,sans-Serif\" font-size=\"14.00\" fill=\"#000000\">value = [7, 19]</text>\n</g>\n<!-- 22&#45;&gt;23 -->\n<g id=\"edge23\" class=\"edge\">\n<title>22&#45;&gt;23</title>\n<path fill=\"none\" stroke=\"#000000\" d=\"M441.5216,-608.9465C428.2523,-599.4293 413.7085,-588.9978 399.9965,-579.163\"/>\n<polygon fill=\"#000000\" stroke=\"#000000\" points=\"401.751,-576.1142 391.5851,-573.13 397.6712,-581.8024 401.751,-576.1142\"/>\n</g>\n<!-- 32 -->\n<g id=\"node33\" class=\"node\">\n<title>32</title>\n<polygon fill=\"none\" stroke=\"#000000\" points=\"544,-565.5 434,-565.5 434,-512.5 544,-512.5 544,-565.5\"/>\n<text text-anchor=\"middle\" x=\"489\" y=\"-550.3\" font-family=\"Helvetica,sans-Serif\" font-size=\"14.00\" fill=\"#000000\">entropy = 0.98</text>\n<text text-anchor=\"middle\" x=\"489\" y=\"-535.3\" font-family=\"Helvetica,sans-Serif\" font-size=\"14.00\" fill=\"#000000\">samples = 12</text>\n<text text-anchor=\"middle\" x=\"489\" y=\"-520.3\" font-family=\"Helvetica,sans-Serif\" font-size=\"14.00\" fill=\"#000000\">value = [7, 5]</text>\n</g>\n<!-- 22&#45;&gt;32 -->\n<g id=\"edge32\" class=\"edge\">\n<title>22&#45;&gt;32</title>\n<path fill=\"none\" stroke=\"#000000\" d=\"M489,-608.9465C489,-598.2621 489,-586.4254 489,-575.5742\"/>\n<polygon fill=\"#000000\" stroke=\"#000000\" points=\"492.5001,-575.5421 489,-565.5422 485.5001,-575.5422 492.5001,-575.5421\"/>\n</g>\n<!-- 24 -->\n<g id=\"node25\" class=\"node\">\n<title>24</title>\n<polygon fill=\"none\" stroke=\"#000000\" points=\"384.5,-461.5 283.5,-461.5 283.5,-408.5 384.5,-408.5 384.5,-461.5\"/>\n<text text-anchor=\"middle\" x=\"334\" y=\"-446.3\" font-family=\"Helvetica,sans-Serif\" font-size=\"14.00\" fill=\"#000000\">entropy = 0.0</text>\n<text text-anchor=\"middle\" x=\"334\" y=\"-431.3\" font-family=\"Helvetica,sans-Serif\" font-size=\"14.00\" fill=\"#000000\">samples = 1</text>\n<text text-anchor=\"middle\" x=\"334\" y=\"-416.3\" font-family=\"Helvetica,sans-Serif\" font-size=\"14.00\" fill=\"#000000\">value = [1, 0]</text>\n</g>\n<!-- 23&#45;&gt;24 -->\n<g id=\"edge24\" class=\"edge\">\n<title>23&#45;&gt;24</title>\n<path fill=\"none\" stroke=\"#000000\" d=\"M340.7256,-504.9465C339.6983,-494.2621 338.5601,-482.4254 337.5168,-471.5742\"/>\n<polygon fill=\"#000000\" stroke=\"#000000\" points=\"340.9933,-471.1612 336.5521,-461.5422 334.0254,-471.8313 340.9933,-471.1612\"/>\n</g>\n<!-- 25 -->\n<g id=\"node26\" class=\"node\">\n<title>25</title>\n<polygon fill=\"none\" stroke=\"#000000\" points=\"521,-469 403,-469 403,-401 521,-401 521,-469\"/>\n<text text-anchor=\"middle\" x=\"462\" y=\"-453.8\" font-family=\"Helvetica,sans-Serif\" font-size=\"14.00\" fill=\"#000000\">Age &lt;= 11.0</text>\n<text text-anchor=\"middle\" x=\"462\" y=\"-438.8\" font-family=\"Helvetica,sans-Serif\" font-size=\"14.00\" fill=\"#000000\">entropy = 0.795</text>\n<text text-anchor=\"middle\" x=\"462\" y=\"-423.8\" font-family=\"Helvetica,sans-Serif\" font-size=\"14.00\" fill=\"#000000\">samples = 25</text>\n<text text-anchor=\"middle\" x=\"462\" y=\"-408.8\" font-family=\"Helvetica,sans-Serif\" font-size=\"14.00\" fill=\"#000000\">value = [6, 19]</text>\n</g>\n<!-- 23&#45;&gt;25 -->\n<g id=\"edge25\" class=\"edge\">\n<title>23&#45;&gt;25</title>\n<path fill=\"none\" stroke=\"#000000\" d=\"M382.6376,-504.9465C393.1304,-495.6986 404.6026,-485.5876 415.4814,-475.9994\"/>\n<polygon fill=\"#000000\" stroke=\"#000000\" points=\"418.0877,-478.3678 423.2756,-469.13 413.4593,-473.1163 418.0877,-478.3678\"/>\n</g>\n<!-- 26 -->\n<g id=\"node27\" class=\"node\">\n<title>26</title>\n<polygon fill=\"none\" stroke=\"#000000\" points=\"507.5,-357.5 406.5,-357.5 406.5,-304.5 507.5,-304.5 507.5,-357.5\"/>\n<text text-anchor=\"middle\" x=\"457\" y=\"-342.3\" font-family=\"Helvetica,sans-Serif\" font-size=\"14.00\" fill=\"#000000\">entropy = 0.0</text>\n<text text-anchor=\"middle\" x=\"457\" y=\"-327.3\" font-family=\"Helvetica,sans-Serif\" font-size=\"14.00\" fill=\"#000000\">samples = 1</text>\n<text text-anchor=\"middle\" x=\"457\" y=\"-312.3\" font-family=\"Helvetica,sans-Serif\" font-size=\"14.00\" fill=\"#000000\">value = [1, 0]</text>\n</g>\n<!-- 25&#45;&gt;26 -->\n<g id=\"edge26\" class=\"edge\">\n<title>25&#45;&gt;26</title>\n<path fill=\"none\" stroke=\"#000000\" d=\"M460.3628,-400.9465C459.8491,-390.2621 459.2801,-378.4254 458.7584,-367.5742\"/>\n<polygon fill=\"#000000\" stroke=\"#000000\" points=\"462.2523,-367.3625 458.2761,-357.5422 455.2604,-367.6987 462.2523,-367.3625\"/>\n</g>\n<!-- 27 -->\n<g id=\"node28\" class=\"node\">\n<title>27</title>\n<polygon fill=\"none\" stroke=\"#000000\" points=\"660.5,-365 525.5,-365 525.5,-297 660.5,-297 660.5,-365\"/>\n<text text-anchor=\"middle\" x=\"593\" y=\"-349.8\" font-family=\"Helvetica,sans-Serif\" font-size=\"14.00\" fill=\"#000000\">HeartRate &lt;= 81.5</text>\n<text text-anchor=\"middle\" x=\"593\" y=\"-334.8\" font-family=\"Helvetica,sans-Serif\" font-size=\"14.00\" fill=\"#000000\">entropy = 0.738</text>\n<text text-anchor=\"middle\" x=\"593\" y=\"-319.8\" font-family=\"Helvetica,sans-Serif\" font-size=\"14.00\" fill=\"#000000\">samples = 24</text>\n<text text-anchor=\"middle\" x=\"593\" y=\"-304.8\" font-family=\"Helvetica,sans-Serif\" font-size=\"14.00\" fill=\"#000000\">value = [5, 19]</text>\n</g>\n<!-- 25&#45;&gt;27 -->\n<g id=\"edge27\" class=\"edge\">\n<title>25&#45;&gt;27</title>\n<path fill=\"none\" stroke=\"#000000\" d=\"M504.8943,-400.9465C516.7693,-391.519 529.7741,-381.1946 542.0593,-371.4415\"/>\n<polygon fill=\"#000000\" stroke=\"#000000\" points=\"544.3536,-374.089 550.0093,-365.13 540.0011,-368.6066 544.3536,-374.089\"/>\n</g>\n<!-- 28 -->\n<g id=\"node29\" class=\"node\">\n<title>28</title>\n<polygon fill=\"none\" stroke=\"#000000\" points=\"535.5,-261 400.5,-261 400.5,-193 535.5,-193 535.5,-261\"/>\n<text text-anchor=\"middle\" x=\"468\" y=\"-245.8\" font-family=\"Helvetica,sans-Serif\" font-size=\"14.00\" fill=\"#000000\">HeartRate &lt;= 76.5</text>\n<text text-anchor=\"middle\" x=\"468\" y=\"-230.8\" font-family=\"Helvetica,sans-Serif\" font-size=\"14.00\" fill=\"#000000\">entropy = 0.792</text>\n<text text-anchor=\"middle\" x=\"468\" y=\"-215.8\" font-family=\"Helvetica,sans-Serif\" font-size=\"14.00\" fill=\"#000000\">samples = 21</text>\n<text text-anchor=\"middle\" x=\"468\" y=\"-200.8\" font-family=\"Helvetica,sans-Serif\" font-size=\"14.00\" fill=\"#000000\">value = [5, 16]</text>\n</g>\n<!-- 27&#45;&gt;28 -->\n<g id=\"edge28\" class=\"edge\">\n<title>27&#45;&gt;28</title>\n<path fill=\"none\" stroke=\"#000000\" d=\"M552.0703,-296.9465C540.8472,-287.6088 528.5663,-277.3911 516.9427,-267.7203\"/>\n<polygon fill=\"#000000\" stroke=\"#000000\" points=\"518.9474,-264.8353 509.0216,-261.13 514.4704,-270.2164 518.9474,-264.8353\"/>\n</g>\n<!-- 31 -->\n<g id=\"node32\" class=\"node\">\n<title>31</title>\n<polygon fill=\"none\" stroke=\"#000000\" points=\"654.5,-253.5 553.5,-253.5 553.5,-200.5 654.5,-200.5 654.5,-253.5\"/>\n<text text-anchor=\"middle\" x=\"604\" y=\"-238.3\" font-family=\"Helvetica,sans-Serif\" font-size=\"14.00\" fill=\"#000000\">entropy = 0.0</text>\n<text text-anchor=\"middle\" x=\"604\" y=\"-223.3\" font-family=\"Helvetica,sans-Serif\" font-size=\"14.00\" fill=\"#000000\">samples = 3</text>\n<text text-anchor=\"middle\" x=\"604\" y=\"-208.3\" font-family=\"Helvetica,sans-Serif\" font-size=\"14.00\" fill=\"#000000\">value = [0, 3]</text>\n</g>\n<!-- 27&#45;&gt;31 -->\n<g id=\"edge31\" class=\"edge\">\n<title>27&#45;&gt;31</title>\n<path fill=\"none\" stroke=\"#000000\" d=\"M596.6018,-296.9465C597.7319,-286.2621 598.9838,-274.4254 600.1316,-263.5742\"/>\n<polygon fill=\"#000000\" stroke=\"#000000\" points=\"603.6213,-263.8549 601.1927,-253.5422 596.6602,-263.1185 603.6213,-263.8549\"/>\n</g>\n<!-- 29 -->\n<g id=\"node30\" class=\"node\">\n<title>29</title>\n<polygon fill=\"none\" stroke=\"#000000\" points=\"410,-149.5 292,-149.5 292,-96.5 410,-96.5 410,-149.5\"/>\n<text text-anchor=\"middle\" x=\"351\" y=\"-134.3\" font-family=\"Helvetica,sans-Serif\" font-size=\"14.00\" fill=\"#000000\">entropy = 0.672</text>\n<text text-anchor=\"middle\" x=\"351\" y=\"-119.3\" font-family=\"Helvetica,sans-Serif\" font-size=\"14.00\" fill=\"#000000\">samples = 17</text>\n<text text-anchor=\"middle\" x=\"351\" y=\"-104.3\" font-family=\"Helvetica,sans-Serif\" font-size=\"14.00\" fill=\"#000000\">value = [3, 14]</text>\n</g>\n<!-- 28&#45;&gt;29 -->\n<g id=\"edge29\" class=\"edge\">\n<title>28&#45;&gt;29</title>\n<path fill=\"none\" stroke=\"#000000\" d=\"M429.6898,-192.9465C416.4306,-181.1606 401.5942,-167.9726 388.4084,-156.2519\"/>\n<polygon fill=\"#000000\" stroke=\"#000000\" points=\"390.6593,-153.5699 380.8599,-149.5422 386.0088,-158.8018 390.6593,-153.5699\"/>\n</g>\n<!-- 30 -->\n<g id=\"node31\" class=\"node\">\n<title>30</title>\n<polygon fill=\"none\" stroke=\"#000000\" points=\"529.5,-149.5 428.5,-149.5 428.5,-96.5 529.5,-96.5 529.5,-149.5\"/>\n<text text-anchor=\"middle\" x=\"479\" y=\"-134.3\" font-family=\"Helvetica,sans-Serif\" font-size=\"14.00\" fill=\"#000000\">entropy = 1.0</text>\n<text text-anchor=\"middle\" x=\"479\" y=\"-119.3\" font-family=\"Helvetica,sans-Serif\" font-size=\"14.00\" fill=\"#000000\">samples = 4</text>\n<text text-anchor=\"middle\" x=\"479\" y=\"-104.3\" font-family=\"Helvetica,sans-Serif\" font-size=\"14.00\" fill=\"#000000\">value = [2, 2]</text>\n</g>\n<!-- 28&#45;&gt;30 -->\n<g id=\"edge30\" class=\"edge\">\n<title>28&#45;&gt;30</title>\n<path fill=\"none\" stroke=\"#000000\" d=\"M471.6018,-192.9465C472.7319,-182.2621 473.9838,-170.4254 475.1316,-159.5742\"/>\n<polygon fill=\"#000000\" stroke=\"#000000\" points=\"478.6213,-159.8549 476.1927,-149.5422 471.6602,-159.1185 478.6213,-159.8549\"/>\n</g>\n<!-- 34 -->\n<g id=\"node35\" class=\"node\">\n<title>34</title>\n<polygon fill=\"none\" stroke=\"#000000\" points=\"680,-565.5 562,-565.5 562,-512.5 680,-512.5 680,-565.5\"/>\n<text text-anchor=\"middle\" x=\"621\" y=\"-550.3\" font-family=\"Helvetica,sans-Serif\" font-size=\"14.00\" fill=\"#000000\">entropy = 0.485</text>\n<text text-anchor=\"middle\" x=\"621\" y=\"-535.3\" font-family=\"Helvetica,sans-Serif\" font-size=\"14.00\" fill=\"#000000\">samples = 19</text>\n<text text-anchor=\"middle\" x=\"621\" y=\"-520.3\" font-family=\"Helvetica,sans-Serif\" font-size=\"14.00\" fill=\"#000000\">value = [17, 2]</text>\n</g>\n<!-- 33&#45;&gt;34 -->\n<g id=\"edge34\" class=\"edge\">\n<title>33&#45;&gt;34</title>\n<path fill=\"none\" stroke=\"#000000\" d=\"M621,-608.9465C621,-598.2621 621,-586.4254 621,-575.5742\"/>\n<polygon fill=\"#000000\" stroke=\"#000000\" points=\"624.5001,-575.5421 621,-565.5422 617.5001,-575.5422 624.5001,-575.5421\"/>\n</g>\n<!-- 35 -->\n<g id=\"node36\" class=\"node\">\n<title>35</title>\n<polygon fill=\"none\" stroke=\"#000000\" points=\"816,-565.5 698,-565.5 698,-512.5 816,-512.5 816,-565.5\"/>\n<text text-anchor=\"middle\" x=\"757\" y=\"-550.3\" font-family=\"Helvetica,sans-Serif\" font-size=\"14.00\" fill=\"#000000\">entropy = 0.971</text>\n<text text-anchor=\"middle\" x=\"757\" y=\"-535.3\" font-family=\"Helvetica,sans-Serif\" font-size=\"14.00\" fill=\"#000000\">samples = 10</text>\n<text text-anchor=\"middle\" x=\"757\" y=\"-520.3\" font-family=\"Helvetica,sans-Serif\" font-size=\"14.00\" fill=\"#000000\">value = [4, 6]</text>\n</g>\n<!-- 33&#45;&gt;35 -->\n<g id=\"edge35\" class=\"edge\">\n<title>33&#45;&gt;35</title>\n<path fill=\"none\" stroke=\"#000000\" d=\"M665.5315,-608.9465C681.0879,-597.0504 698.5121,-583.726 713.9459,-571.9237\"/>\n<polygon fill=\"#000000\" stroke=\"#000000\" points=\"716.4735,-574.397 722.291,-565.5422 712.2213,-568.8364 716.4735,-574.397\"/>\n</g>\n<!-- 37 -->\n<g id=\"node38\" class=\"node\">\n<title>37</title>\n<polygon fill=\"none\" stroke=\"#000000\" points=\"816,-669.5 698,-669.5 698,-616.5 816,-616.5 816,-669.5\"/>\n<text text-anchor=\"middle\" x=\"757\" y=\"-654.3\" font-family=\"Helvetica,sans-Serif\" font-size=\"14.00\" fill=\"#000000\">entropy = 0.811</text>\n<text text-anchor=\"middle\" x=\"757\" y=\"-639.3\" font-family=\"Helvetica,sans-Serif\" font-size=\"14.00\" fill=\"#000000\">samples = 8</text>\n<text text-anchor=\"middle\" x=\"757\" y=\"-624.3\" font-family=\"Helvetica,sans-Serif\" font-size=\"14.00\" fill=\"#000000\">value = [6, 2]</text>\n</g>\n<!-- 36&#45;&gt;37 -->\n<g id=\"edge37\" class=\"edge\">\n<title>36&#45;&gt;37</title>\n<path fill=\"none\" stroke=\"#000000\" d=\"M761.7079,-712.9465C760.9888,-702.2621 760.1921,-690.4254 759.4617,-679.5742\"/>\n<polygon fill=\"#000000\" stroke=\"#000000\" points=\"762.9502,-679.2845 758.7865,-669.5422 755.966,-679.7547 762.9502,-679.2845\"/>\n</g>\n<!-- 38 -->\n<g id=\"node39\" class=\"node\">\n<title>38</title>\n<polygon fill=\"none\" stroke=\"#000000\" points=\"969.5,-677 834.5,-677 834.5,-609 969.5,-609 969.5,-677\"/>\n<text text-anchor=\"middle\" x=\"902\" y=\"-661.8\" font-family=\"Helvetica,sans-Serif\" font-size=\"14.00\" fill=\"#000000\">HeartRate &lt;= 73.0</text>\n<text text-anchor=\"middle\" x=\"902\" y=\"-646.8\" font-family=\"Helvetica,sans-Serif\" font-size=\"14.00\" fill=\"#000000\">entropy = 0.914</text>\n<text text-anchor=\"middle\" x=\"902\" y=\"-631.8\" font-family=\"Helvetica,sans-Serif\" font-size=\"14.00\" fill=\"#000000\">samples = 82</text>\n<text text-anchor=\"middle\" x=\"902\" y=\"-616.8\" font-family=\"Helvetica,sans-Serif\" font-size=\"14.00\" fill=\"#000000\">value = [27, 55]</text>\n</g>\n<!-- 36&#45;&gt;38 -->\n<g id=\"edge38\" class=\"edge\">\n<title>36&#45;&gt;38</title>\n<path fill=\"none\" stroke=\"#000000\" d=\"M809.1864,-712.9465C821.815,-703.4293 835.6567,-692.9978 848.7068,-683.163\"/>\n<polygon fill=\"#000000\" stroke=\"#000000\" points=\"850.8325,-685.9437 856.7121,-677.13 846.6195,-680.3534 850.8325,-685.9437\"/>\n</g>\n<!-- 39 -->\n<g id=\"node40\" class=\"node\">\n<title>39</title>\n<polygon fill=\"none\" stroke=\"#000000\" points=\"952,-573 834,-573 834,-505 952,-505 952,-573\"/>\n<text text-anchor=\"middle\" x=\"893\" y=\"-557.8\" font-family=\"Helvetica,sans-Serif\" font-size=\"14.00\" fill=\"#000000\">Age &lt;= 58.5</text>\n<text text-anchor=\"middle\" x=\"893\" y=\"-542.8\" font-family=\"Helvetica,sans-Serif\" font-size=\"14.00\" fill=\"#000000\">entropy = 0.831</text>\n<text text-anchor=\"middle\" x=\"893\" y=\"-527.8\" font-family=\"Helvetica,sans-Serif\" font-size=\"14.00\" fill=\"#000000\">samples = 57</text>\n<text text-anchor=\"middle\" x=\"893\" y=\"-512.8\" font-family=\"Helvetica,sans-Serif\" font-size=\"14.00\" fill=\"#000000\">value = [15, 42]</text>\n</g>\n<!-- 38&#45;&gt;39 -->\n<g id=\"edge39\" class=\"edge\">\n<title>38&#45;&gt;39</title>\n<path fill=\"none\" stroke=\"#000000\" d=\"M899.0531,-608.9465C898.346,-600.776 897.5806,-591.9318 896.8397,-583.3697\"/>\n<polygon fill=\"#000000\" stroke=\"#000000\" points=\"900.3028,-582.791 895.9536,-573.13 893.3288,-583.3945 900.3028,-582.791\"/>\n</g>\n<!-- 52 -->\n<g id=\"node53\" class=\"node\">\n<title>52</title>\n<polygon fill=\"none\" stroke=\"#000000\" points=\"1088,-573 970,-573 970,-505 1088,-505 1088,-573\"/>\n<text text-anchor=\"middle\" x=\"1029\" y=\"-557.8\" font-family=\"Helvetica,sans-Serif\" font-size=\"14.00\" fill=\"#000000\">Age &lt;= 23.5</text>\n<text text-anchor=\"middle\" x=\"1029\" y=\"-542.8\" font-family=\"Helvetica,sans-Serif\" font-size=\"14.00\" fill=\"#000000\">entropy = 0.999</text>\n<text text-anchor=\"middle\" x=\"1029\" y=\"-527.8\" font-family=\"Helvetica,sans-Serif\" font-size=\"14.00\" fill=\"#000000\">samples = 25</text>\n<text text-anchor=\"middle\" x=\"1029\" y=\"-512.8\" font-family=\"Helvetica,sans-Serif\" font-size=\"14.00\" fill=\"#000000\">value = [12, 13]</text>\n</g>\n<!-- 38&#45;&gt;52 -->\n<g id=\"edge52\" class=\"edge\">\n<title>38&#45;&gt;52</title>\n<path fill=\"none\" stroke=\"#000000\" d=\"M943.5845,-608.9465C954.9873,-599.6088 967.4647,-589.3911 979.2743,-579.7203\"/>\n<polygon fill=\"#000000\" stroke=\"#000000\" points=\"981.8026,-582.1736 987.322,-573.13 977.3676,-576.7578 981.8026,-582.1736\"/>\n</g>\n<!-- 40 -->\n<g id=\"node41\" class=\"node\">\n<title>40</title>\n<polygon fill=\"none\" stroke=\"#000000\" points=\"824,-469 706,-469 706,-401 824,-401 824,-469\"/>\n<text text-anchor=\"middle\" x=\"765\" y=\"-453.8\" font-family=\"Helvetica,sans-Serif\" font-size=\"14.00\" fill=\"#000000\">Age &lt;= 36.0</text>\n<text text-anchor=\"middle\" x=\"765\" y=\"-438.8\" font-family=\"Helvetica,sans-Serif\" font-size=\"14.00\" fill=\"#000000\">entropy = 0.811</text>\n<text text-anchor=\"middle\" x=\"765\" y=\"-423.8\" font-family=\"Helvetica,sans-Serif\" font-size=\"14.00\" fill=\"#000000\">samples = 56</text>\n<text text-anchor=\"middle\" x=\"765\" y=\"-408.8\" font-family=\"Helvetica,sans-Serif\" font-size=\"14.00\" fill=\"#000000\">value = [14, 42]</text>\n</g>\n<!-- 39&#45;&gt;40 -->\n<g id=\"edge40\" class=\"edge\">\n<title>39&#45;&gt;40</title>\n<path fill=\"none\" stroke=\"#000000\" d=\"M851.088,-504.9465C839.485,-495.519 826.7779,-485.1946 814.7741,-475.4415\"/>\n<polygon fill=\"#000000\" stroke=\"#000000\" points=\"816.9744,-472.7196 807.0061,-469.13 812.5602,-478.1524 816.9744,-472.7196\"/>\n</g>\n<!-- 51 -->\n<g id=\"node52\" class=\"node\">\n<title>51</title>\n<polygon fill=\"none\" stroke=\"#000000\" points=\"943.5,-461.5 842.5,-461.5 842.5,-408.5 943.5,-408.5 943.5,-461.5\"/>\n<text text-anchor=\"middle\" x=\"893\" y=\"-446.3\" font-family=\"Helvetica,sans-Serif\" font-size=\"14.00\" fill=\"#000000\">entropy = 0.0</text>\n<text text-anchor=\"middle\" x=\"893\" y=\"-431.3\" font-family=\"Helvetica,sans-Serif\" font-size=\"14.00\" fill=\"#000000\">samples = 1</text>\n<text text-anchor=\"middle\" x=\"893\" y=\"-416.3\" font-family=\"Helvetica,sans-Serif\" font-size=\"14.00\" fill=\"#000000\">value = [1, 0]</text>\n</g>\n<!-- 39&#45;&gt;51 -->\n<g id=\"edge51\" class=\"edge\">\n<title>39&#45;&gt;51</title>\n<path fill=\"none\" stroke=\"#000000\" d=\"M893,-504.9465C893,-494.2621 893,-482.4254 893,-471.5742\"/>\n<polygon fill=\"#000000\" stroke=\"#000000\" points=\"896.5001,-471.5421 893,-461.5422 889.5001,-471.5422 896.5001,-471.5421\"/>\n</g>\n<!-- 41 -->\n<g id=\"node42\" class=\"node\">\n<title>41</title>\n<polygon fill=\"none\" stroke=\"#000000\" points=\"831.5,-365 688.5,-365 688.5,-297 831.5,-297 831.5,-365\"/>\n<text text-anchor=\"middle\" x=\"760\" y=\"-349.8\" font-family=\"Helvetica,sans-Serif\" font-size=\"14.00\" fill=\"#000000\">DiastolicBP &lt;= 82.5</text>\n<text text-anchor=\"middle\" x=\"760\" y=\"-334.8\" font-family=\"Helvetica,sans-Serif\" font-size=\"14.00\" fill=\"#000000\">entropy = 0.848</text>\n<text text-anchor=\"middle\" x=\"760\" y=\"-319.8\" font-family=\"Helvetica,sans-Serif\" font-size=\"14.00\" fill=\"#000000\">samples = 51</text>\n<text text-anchor=\"middle\" x=\"760\" y=\"-304.8\" font-family=\"Helvetica,sans-Serif\" font-size=\"14.00\" fill=\"#000000\">value = [14, 37]</text>\n</g>\n<!-- 40&#45;&gt;41 -->\n<g id=\"edge41\" class=\"edge\">\n<title>40&#45;&gt;41</title>\n<path fill=\"none\" stroke=\"#000000\" d=\"M763.3628,-400.9465C762.97,-392.776 762.5448,-383.9318 762.1332,-375.3697\"/>\n<polygon fill=\"#000000\" stroke=\"#000000\" points=\"765.6171,-374.9504 761.6409,-365.13 758.6252,-375.2866 765.6171,-374.9504\"/>\n</g>\n<!-- 50 -->\n<g id=\"node51\" class=\"node\">\n<title>50</title>\n<polygon fill=\"none\" stroke=\"#000000\" points=\"950.5,-357.5 849.5,-357.5 849.5,-304.5 950.5,-304.5 950.5,-357.5\"/>\n<text text-anchor=\"middle\" x=\"900\" y=\"-342.3\" font-family=\"Helvetica,sans-Serif\" font-size=\"14.00\" fill=\"#000000\">entropy = 0.0</text>\n<text text-anchor=\"middle\" x=\"900\" y=\"-327.3\" font-family=\"Helvetica,sans-Serif\" font-size=\"14.00\" fill=\"#000000\">samples = 5</text>\n<text text-anchor=\"middle\" x=\"900\" y=\"-312.3\" font-family=\"Helvetica,sans-Serif\" font-size=\"14.00\" fill=\"#000000\">value = [0, 5]</text>\n</g>\n<!-- 40&#45;&gt;50 -->\n<g id=\"edge50\" class=\"edge\">\n<title>40&#45;&gt;50</title>\n<path fill=\"none\" stroke=\"#000000\" d=\"M809.204,-400.9465C824.6461,-389.0504 841.9422,-375.726 857.2625,-363.9237\"/>\n<polygon fill=\"#000000\" stroke=\"#000000\" points=\"859.7603,-366.4176 865.5462,-357.5422 855.4883,-360.8723 859.7603,-366.4176\"/>\n</g>\n<!-- 42 -->\n<g id=\"node43\" class=\"node\">\n<title>42</title>\n<polygon fill=\"none\" stroke=\"#000000\" points=\"807,-261 689,-261 689,-193 807,-193 807,-261\"/>\n<text text-anchor=\"middle\" x=\"748\" y=\"-245.8\" font-family=\"Helvetica,sans-Serif\" font-size=\"14.00\" fill=\"#000000\">BS &lt;= 6.9</text>\n<text text-anchor=\"middle\" x=\"748\" y=\"-230.8\" font-family=\"Helvetica,sans-Serif\" font-size=\"14.00\" fill=\"#000000\">entropy = 0.771</text>\n<text text-anchor=\"middle\" x=\"748\" y=\"-215.8\" font-family=\"Helvetica,sans-Serif\" font-size=\"14.00\" fill=\"#000000\">samples = 31</text>\n<text text-anchor=\"middle\" x=\"748\" y=\"-200.8\" font-family=\"Helvetica,sans-Serif\" font-size=\"14.00\" fill=\"#000000\">value = [7, 24]</text>\n</g>\n<!-- 41&#45;&gt;42 -->\n<g id=\"edge42\" class=\"edge\">\n<title>41&#45;&gt;42</title>\n<path fill=\"none\" stroke=\"#000000\" d=\"M756.0708,-296.9465C755.1176,-288.6863 754.0851,-279.7374 753.087,-271.0875\"/>\n<polygon fill=\"#000000\" stroke=\"#000000\" points=\"756.5613,-270.6629 751.9381,-261.13 749.6075,-271.4653 756.5613,-270.6629\"/>\n</g>\n<!-- 47 -->\n<g id=\"node48\" class=\"node\">\n<title>47</title>\n<polygon fill=\"none\" stroke=\"#000000\" points=\"943,-261 825,-261 825,-193 943,-193 943,-261\"/>\n<text text-anchor=\"middle\" x=\"884\" y=\"-245.8\" font-family=\"Helvetica,sans-Serif\" font-size=\"14.00\" fill=\"#000000\">BS &lt;= 6.95</text>\n<text text-anchor=\"middle\" x=\"884\" y=\"-230.8\" font-family=\"Helvetica,sans-Serif\" font-size=\"14.00\" fill=\"#000000\">entropy = 0.934</text>\n<text text-anchor=\"middle\" x=\"884\" y=\"-215.8\" font-family=\"Helvetica,sans-Serif\" font-size=\"14.00\" fill=\"#000000\">samples = 20</text>\n<text text-anchor=\"middle\" x=\"884\" y=\"-200.8\" font-family=\"Helvetica,sans-Serif\" font-size=\"14.00\" fill=\"#000000\">value = [7, 13]</text>\n</g>\n<!-- 41&#45;&gt;47 -->\n<g id=\"edge47\" class=\"edge\">\n<title>41&#45;&gt;47</title>\n<path fill=\"none\" stroke=\"#000000\" d=\"M800.6022,-296.9465C811.7356,-287.6088 823.9183,-277.3911 835.4489,-267.7203\"/>\n<polygon fill=\"#000000\" stroke=\"#000000\" points=\"837.8938,-270.2378 843.3065,-261.13 833.3954,-264.8745 837.8938,-270.2378\"/>\n</g>\n<!-- 43 -->\n<g id=\"node44\" class=\"node\">\n<title>43</title>\n<polygon fill=\"none\" stroke=\"#000000\" points=\"675.5,-149.5 574.5,-149.5 574.5,-96.5 675.5,-96.5 675.5,-149.5\"/>\n<text text-anchor=\"middle\" x=\"625\" y=\"-134.3\" font-family=\"Helvetica,sans-Serif\" font-size=\"14.00\" fill=\"#000000\">entropy = 0.0</text>\n<text text-anchor=\"middle\" x=\"625\" y=\"-119.3\" font-family=\"Helvetica,sans-Serif\" font-size=\"14.00\" fill=\"#000000\">samples = 5</text>\n<text text-anchor=\"middle\" x=\"625\" y=\"-104.3\" font-family=\"Helvetica,sans-Serif\" font-size=\"14.00\" fill=\"#000000\">value = [0, 5]</text>\n</g>\n<!-- 42&#45;&gt;43 -->\n<g id=\"edge43\" class=\"edge\">\n<title>42&#45;&gt;43</title>\n<path fill=\"none\" stroke=\"#000000\" d=\"M707.7252,-192.9465C693.7861,-181.1606 678.1888,-167.9726 664.3268,-156.2519\"/>\n<polygon fill=\"#000000\" stroke=\"#000000\" points=\"666.2873,-153.3262 656.3912,-149.5422 661.7676,-158.6715 666.2873,-153.3262\"/>\n</g>\n<!-- 44 -->\n<g id=\"node45\" class=\"node\">\n<title>44</title>\n<polygon fill=\"none\" stroke=\"#000000\" points=\"804,-157 694,-157 694,-89 804,-89 804,-157\"/>\n<text text-anchor=\"middle\" x=\"749\" y=\"-141.8\" font-family=\"Helvetica,sans-Serif\" font-size=\"14.00\" fill=\"#000000\">Age &lt;= 22.0</text>\n<text text-anchor=\"middle\" x=\"749\" y=\"-126.8\" font-family=\"Helvetica,sans-Serif\" font-size=\"14.00\" fill=\"#000000\">entropy = 0.84</text>\n<text text-anchor=\"middle\" x=\"749\" y=\"-111.8\" font-family=\"Helvetica,sans-Serif\" font-size=\"14.00\" fill=\"#000000\">samples = 26</text>\n<text text-anchor=\"middle\" x=\"749\" y=\"-96.8\" font-family=\"Helvetica,sans-Serif\" font-size=\"14.00\" fill=\"#000000\">value = [7, 19]</text>\n</g>\n<!-- 42&#45;&gt;44 -->\n<g id=\"edge44\" class=\"edge\">\n<title>42&#45;&gt;44</title>\n<path fill=\"none\" stroke=\"#000000\" d=\"M748.3274,-192.9465C748.406,-184.776 748.491,-175.9318 748.5734,-167.3697\"/>\n<polygon fill=\"#000000\" stroke=\"#000000\" points=\"752.0754,-167.1632 748.6718,-157.13 745.0757,-167.0958 752.0754,-167.1632\"/>\n</g>\n<!-- 45 -->\n<g id=\"node46\" class=\"node\">\n<title>45</title>\n<polygon fill=\"none\" stroke=\"#000000\" points=\"744,-53 626,-53 626,0 744,0 744,-53\"/>\n<text text-anchor=\"middle\" x=\"685\" y=\"-37.8\" font-family=\"Helvetica,sans-Serif\" font-size=\"14.00\" fill=\"#000000\">entropy = 0.795</text>\n<text text-anchor=\"middle\" x=\"685\" y=\"-22.8\" font-family=\"Helvetica,sans-Serif\" font-size=\"14.00\" fill=\"#000000\">samples = 25</text>\n<text text-anchor=\"middle\" x=\"685\" y=\"-7.8\" font-family=\"Helvetica,sans-Serif\" font-size=\"14.00\" fill=\"#000000\">value = [6, 19]</text>\n</g>\n<!-- 44&#45;&gt;45 -->\n<g id=\"edge45\" class=\"edge\">\n<title>44&#45;&gt;45</title>\n<path fill=\"none\" stroke=\"#000000\" d=\"M726.436,-88.9777C720.6059,-80.187 714.3169,-70.7044 708.443,-61.8477\"/>\n<polygon fill=\"#000000\" stroke=\"#000000\" points=\"711.1838,-59.6478 702.7399,-53.2485 705.3502,-63.5167 711.1838,-59.6478\"/>\n</g>\n<!-- 46 -->\n<g id=\"node47\" class=\"node\">\n<title>46</title>\n<polygon fill=\"none\" stroke=\"#000000\" points=\"863.5,-53 762.5,-53 762.5,0 863.5,0 863.5,-53\"/>\n<text text-anchor=\"middle\" x=\"813\" y=\"-37.8\" font-family=\"Helvetica,sans-Serif\" font-size=\"14.00\" fill=\"#000000\">entropy = 0.0</text>\n<text text-anchor=\"middle\" x=\"813\" y=\"-22.8\" font-family=\"Helvetica,sans-Serif\" font-size=\"14.00\" fill=\"#000000\">samples = 1</text>\n<text text-anchor=\"middle\" x=\"813\" y=\"-7.8\" font-family=\"Helvetica,sans-Serif\" font-size=\"14.00\" fill=\"#000000\">value = [1, 0]</text>\n</g>\n<!-- 44&#45;&gt;46 -->\n<g id=\"edge46\" class=\"edge\">\n<title>44&#45;&gt;46</title>\n<path fill=\"none\" stroke=\"#000000\" d=\"M771.564,-88.9777C777.3941,-80.187 783.6831,-70.7044 789.557,-61.8477\"/>\n<polygon fill=\"#000000\" stroke=\"#000000\" points=\"792.6498,-63.5167 795.2601,-53.2485 786.8162,-59.6478 792.6498,-63.5167\"/>\n</g>\n<!-- 48 -->\n<g id=\"node49\" class=\"node\">\n<title>48</title>\n<polygon fill=\"none\" stroke=\"#000000\" points=\"942,-149.5 824,-149.5 824,-96.5 942,-96.5 942,-149.5\"/>\n<text text-anchor=\"middle\" x=\"883\" y=\"-134.3\" font-family=\"Helvetica,sans-Serif\" font-size=\"14.00\" fill=\"#000000\">entropy = 0.852</text>\n<text text-anchor=\"middle\" x=\"883\" y=\"-119.3\" font-family=\"Helvetica,sans-Serif\" font-size=\"14.00\" fill=\"#000000\">samples = 18</text>\n<text text-anchor=\"middle\" x=\"883\" y=\"-104.3\" font-family=\"Helvetica,sans-Serif\" font-size=\"14.00\" fill=\"#000000\">value = [5, 13]</text>\n</g>\n<!-- 47&#45;&gt;48 -->\n<g id=\"edge48\" class=\"edge\">\n<title>47&#45;&gt;48</title>\n<path fill=\"none\" stroke=\"#000000\" d=\"M883.6726,-192.9465C883.5698,-182.2621 883.456,-170.4254 883.3517,-159.5742\"/>\n<polygon fill=\"#000000\" stroke=\"#000000\" points=\"886.8513,-159.508 883.2552,-149.5422 879.8516,-159.5754 886.8513,-159.508\"/>\n</g>\n<!-- 49 -->\n<g id=\"node50\" class=\"node\">\n<title>49</title>\n<polygon fill=\"none\" stroke=\"#000000\" points=\"1061.5,-149.5 960.5,-149.5 960.5,-96.5 1061.5,-96.5 1061.5,-149.5\"/>\n<text text-anchor=\"middle\" x=\"1011\" y=\"-134.3\" font-family=\"Helvetica,sans-Serif\" font-size=\"14.00\" fill=\"#000000\">entropy = 0.0</text>\n<text text-anchor=\"middle\" x=\"1011\" y=\"-119.3\" font-family=\"Helvetica,sans-Serif\" font-size=\"14.00\" fill=\"#000000\">samples = 2</text>\n<text text-anchor=\"middle\" x=\"1011\" y=\"-104.3\" font-family=\"Helvetica,sans-Serif\" font-size=\"14.00\" fill=\"#000000\">value = [2, 0]</text>\n</g>\n<!-- 47&#45;&gt;49 -->\n<g id=\"edge49\" class=\"edge\">\n<title>47&#45;&gt;49</title>\n<path fill=\"none\" stroke=\"#000000\" d=\"M925.5845,-192.9465C940.1115,-181.0504 956.3827,-167.726 970.7951,-155.9237\"/>\n<polygon fill=\"#000000\" stroke=\"#000000\" points=\"973.0686,-158.5858 978.5879,-149.5422 968.6335,-153.17 973.0686,-158.5858\"/>\n</g>\n<!-- 53 -->\n<g id=\"node54\" class=\"node\">\n<title>53</title>\n<polygon fill=\"none\" stroke=\"#000000\" points=\"1080,-461.5 962,-461.5 962,-408.5 1080,-408.5 1080,-461.5\"/>\n<text text-anchor=\"middle\" x=\"1021\" y=\"-446.3\" font-family=\"Helvetica,sans-Serif\" font-size=\"14.00\" fill=\"#000000\">entropy = 0.918</text>\n<text text-anchor=\"middle\" x=\"1021\" y=\"-431.3\" font-family=\"Helvetica,sans-Serif\" font-size=\"14.00\" fill=\"#000000\">samples = 6</text>\n<text text-anchor=\"middle\" x=\"1021\" y=\"-416.3\" font-family=\"Helvetica,sans-Serif\" font-size=\"14.00\" fill=\"#000000\">value = [4, 2]</text>\n</g>\n<!-- 52&#45;&gt;53 -->\n<g id=\"edge53\" class=\"edge\">\n<title>52&#45;&gt;53</title>\n<path fill=\"none\" stroke=\"#000000\" d=\"M1026.3805,-504.9465C1025.5586,-494.2621 1024.6481,-482.4254 1023.8134,-471.5742\"/>\n<polygon fill=\"#000000\" stroke=\"#000000\" points=\"1027.2985,-471.2442 1023.0417,-461.5422 1020.3191,-471.7812 1027.2985,-471.2442\"/>\n</g>\n<!-- 54 -->\n<g id=\"node55\" class=\"node\">\n<title>54</title>\n<polygon fill=\"none\" stroke=\"#000000\" points=\"1216,-461.5 1098,-461.5 1098,-408.5 1216,-408.5 1216,-461.5\"/>\n<text text-anchor=\"middle\" x=\"1157\" y=\"-446.3\" font-family=\"Helvetica,sans-Serif\" font-size=\"14.00\" fill=\"#000000\">entropy = 0.982</text>\n<text text-anchor=\"middle\" x=\"1157\" y=\"-431.3\" font-family=\"Helvetica,sans-Serif\" font-size=\"14.00\" fill=\"#000000\">samples = 19</text>\n<text text-anchor=\"middle\" x=\"1157\" y=\"-416.3\" font-family=\"Helvetica,sans-Serif\" font-size=\"14.00\" fill=\"#000000\">value = [8, 11]</text>\n</g>\n<!-- 52&#45;&gt;54 -->\n<g id=\"edge54\" class=\"edge\">\n<title>52&#45;&gt;54</title>\n<path fill=\"none\" stroke=\"#000000\" d=\"M1070.912,-504.9465C1085.5533,-493.0504 1101.9526,-479.726 1116.4785,-467.9237\"/>\n<polygon fill=\"#000000\" stroke=\"#000000\" points=\"1118.7786,-470.5645 1124.3327,-461.5422 1114.3645,-465.1317 1118.7786,-470.5645\"/>\n</g>\n<!-- 56 -->\n<g id=\"node57\" class=\"node\">\n<title>56</title>\n<polygon fill=\"none\" stroke=\"#000000\" points=\"1187.5,-1085.5 1080.5,-1085.5 1080.5,-1032.5 1187.5,-1032.5 1187.5,-1085.5\"/>\n<text text-anchor=\"middle\" x=\"1134\" y=\"-1070.3\" font-family=\"Helvetica,sans-Serif\" font-size=\"14.00\" fill=\"#000000\">entropy = 0.0</text>\n<text text-anchor=\"middle\" x=\"1134\" y=\"-1055.3\" font-family=\"Helvetica,sans-Serif\" font-size=\"14.00\" fill=\"#000000\">samples = 17</text>\n<text text-anchor=\"middle\" x=\"1134\" y=\"-1040.3\" font-family=\"Helvetica,sans-Serif\" font-size=\"14.00\" fill=\"#000000\">value = [17, 0]</text>\n</g>\n<!-- 55&#45;&gt;56 -->\n<g id=\"edge56\" class=\"edge\">\n<title>55&#45;&gt;56</title>\n<path fill=\"none\" stroke=\"#000000\" d=\"M1181.7519,-1128.9465C1174.0818,-1117.7113 1165.5418,-1105.2021 1157.8289,-1093.9043\"/>\n<polygon fill=\"#000000\" stroke=\"#000000\" points=\"1160.6491,-1091.8277 1152.1201,-1085.5422 1154.8678,-1095.7745 1160.6491,-1091.8277\"/>\n</g>\n<!-- 57 -->\n<g id=\"node58\" class=\"node\">\n<title>57</title>\n<polygon fill=\"none\" stroke=\"#000000\" points=\"1348.5,-1093 1205.5,-1093 1205.5,-1025 1348.5,-1025 1348.5,-1093\"/>\n<text text-anchor=\"middle\" x=\"1277\" y=\"-1077.8\" font-family=\"Helvetica,sans-Serif\" font-size=\"14.00\" fill=\"#000000\">DiastolicBP &lt;= 55.0</text>\n<text text-anchor=\"middle\" x=\"1277\" y=\"-1062.8\" font-family=\"Helvetica,sans-Serif\" font-size=\"14.00\" fill=\"#000000\">entropy = 0.816</text>\n<text text-anchor=\"middle\" x=\"1277\" y=\"-1047.8\" font-family=\"Helvetica,sans-Serif\" font-size=\"14.00\" fill=\"#000000\">samples = 158</text>\n<text text-anchor=\"middle\" x=\"1277\" y=\"-1032.8\" font-family=\"Helvetica,sans-Serif\" font-size=\"14.00\" fill=\"#000000\">value = [118, 40]</text>\n</g>\n<!-- 55&#45;&gt;57 -->\n<g id=\"edge57\" class=\"edge\">\n<title>55&#45;&gt;57</title>\n<path fill=\"none\" stroke=\"#000000\" d=\"M1228.5755,-1128.9465C1234.6671,-1120.1475 1241.2996,-1110.5672 1247.6466,-1101.3993\"/>\n<polygon fill=\"#000000\" stroke=\"#000000\" points=\"1250.5571,-1103.3442 1253.3715,-1093.13 1244.8017,-1099.3597 1250.5571,-1103.3442\"/>\n</g>\n<!-- 58 -->\n<g id=\"node59\" class=\"node\">\n<title>58</title>\n<polygon fill=\"none\" stroke=\"#000000\" points=\"1263.5,-981.5 1156.5,-981.5 1156.5,-928.5 1263.5,-928.5 1263.5,-981.5\"/>\n<text text-anchor=\"middle\" x=\"1210\" y=\"-966.3\" font-family=\"Helvetica,sans-Serif\" font-size=\"14.00\" fill=\"#000000\">entropy = 0.0</text>\n<text text-anchor=\"middle\" x=\"1210\" y=\"-951.3\" font-family=\"Helvetica,sans-Serif\" font-size=\"14.00\" fill=\"#000000\">samples = 13</text>\n<text text-anchor=\"middle\" x=\"1210\" y=\"-936.3\" font-family=\"Helvetica,sans-Serif\" font-size=\"14.00\" fill=\"#000000\">value = [13, 0]</text>\n</g>\n<!-- 57&#45;&gt;58 -->\n<g id=\"edge58\" class=\"edge\">\n<title>57&#45;&gt;58</title>\n<path fill=\"none\" stroke=\"#000000\" d=\"M1255.0617,-1024.9465C1247.8946,-1013.8215 1239.9227,-1001.4473 1232.7007,-990.237\"/>\n<polygon fill=\"#000000\" stroke=\"#000000\" points=\"1235.4574,-988.0532 1227.0993,-981.5422 1229.5728,-991.8442 1235.4574,-988.0532\"/>\n</g>\n<!-- 59 -->\n<g id=\"node60\" class=\"node\">\n<title>59</title>\n<polygon fill=\"none\" stroke=\"#000000\" points=\"1406,-989 1282,-989 1282,-921 1406,-921 1406,-989\"/>\n<text text-anchor=\"middle\" x=\"1344\" y=\"-973.8\" font-family=\"Helvetica,sans-Serif\" font-size=\"14.00\" fill=\"#000000\">Age &lt;= 31.0</text>\n<text text-anchor=\"middle\" x=\"1344\" y=\"-958.8\" font-family=\"Helvetica,sans-Serif\" font-size=\"14.00\" fill=\"#000000\">entropy = 0.85</text>\n<text text-anchor=\"middle\" x=\"1344\" y=\"-943.8\" font-family=\"Helvetica,sans-Serif\" font-size=\"14.00\" fill=\"#000000\">samples = 145</text>\n<text text-anchor=\"middle\" x=\"1344\" y=\"-928.8\" font-family=\"Helvetica,sans-Serif\" font-size=\"14.00\" fill=\"#000000\">value = [105, 40]</text>\n</g>\n<!-- 57&#45;&gt;59 -->\n<g id=\"edge59\" class=\"edge\">\n<title>57&#45;&gt;59</title>\n<path fill=\"none\" stroke=\"#000000\" d=\"M1298.9383,-1024.9465C1304.549,-1016.2373 1310.6529,-1006.7626 1316.5042,-997.6801\"/>\n<polygon fill=\"#000000\" stroke=\"#000000\" points=\"1319.5389,-999.4321 1322.0124,-989.13 1313.6543,-995.641 1319.5389,-999.4321\"/>\n</g>\n<!-- 60 -->\n<g id=\"node61\" class=\"node\">\n<title>60</title>\n<polygon fill=\"none\" stroke=\"#000000\" points=\"1403,-885 1285,-885 1285,-817 1403,-817 1403,-885\"/>\n<text text-anchor=\"middle\" x=\"1344\" y=\"-869.8\" font-family=\"Helvetica,sans-Serif\" font-size=\"14.00\" fill=\"#000000\">Age &lt;= 19.5</text>\n<text text-anchor=\"middle\" x=\"1344\" y=\"-854.8\" font-family=\"Helvetica,sans-Serif\" font-size=\"14.00\" fill=\"#000000\">entropy = 0.926</text>\n<text text-anchor=\"middle\" x=\"1344\" y=\"-839.8\" font-family=\"Helvetica,sans-Serif\" font-size=\"14.00\" fill=\"#000000\">samples = 88</text>\n<text text-anchor=\"middle\" x=\"1344\" y=\"-824.8\" font-family=\"Helvetica,sans-Serif\" font-size=\"14.00\" fill=\"#000000\">value = [58, 30]</text>\n</g>\n<!-- 59&#45;&gt;60 -->\n<g id=\"edge60\" class=\"edge\">\n<title>59&#45;&gt;60</title>\n<path fill=\"none\" stroke=\"#000000\" d=\"M1344,-920.9465C1344,-912.776 1344,-903.9318 1344,-895.3697\"/>\n<polygon fill=\"#000000\" stroke=\"#000000\" points=\"1347.5001,-895.13 1344,-885.13 1340.5001,-895.13 1347.5001,-895.13\"/>\n</g>\n<!-- 73 -->\n<g id=\"node74\" class=\"node\">\n<title>73</title>\n<polygon fill=\"none\" stroke=\"#000000\" points=\"1624,-885 1508,-885 1508,-817 1624,-817 1624,-885\"/>\n<text text-anchor=\"middle\" x=\"1566\" y=\"-869.8\" font-family=\"Helvetica,sans-Serif\" font-size=\"14.00\" fill=\"#000000\">Age &lt;= 37.0</text>\n<text text-anchor=\"middle\" x=\"1566\" y=\"-854.8\" font-family=\"Helvetica,sans-Serif\" font-size=\"14.00\" fill=\"#000000\">entropy = 0.67</text>\n<text text-anchor=\"middle\" x=\"1566\" y=\"-839.8\" font-family=\"Helvetica,sans-Serif\" font-size=\"14.00\" fill=\"#000000\">samples = 57</text>\n<text text-anchor=\"middle\" x=\"1566\" y=\"-824.8\" font-family=\"Helvetica,sans-Serif\" font-size=\"14.00\" fill=\"#000000\">value = [47, 10]</text>\n</g>\n<!-- 59&#45;&gt;73 -->\n<g id=\"edge73\" class=\"edge\">\n<title>59&#45;&gt;73</title>\n<path fill=\"none\" stroke=\"#000000\" d=\"M1406.3171,-925.1038C1409.2508,-923.7134 1412.1565,-922.3399 1415,-921 1442.3568,-908.1094 1472.5834,-894.059 1498.7608,-881.9517\"/>\n<polygon fill=\"#000000\" stroke=\"#000000\" points=\"1500.2311,-885.128 1507.8399,-877.7554 1497.2941,-878.7739 1500.2311,-885.128\"/>\n</g>\n<!-- 61 -->\n<g id=\"node62\" class=\"node\">\n<title>61</title>\n<polygon fill=\"none\" stroke=\"#000000\" points=\"1341.5,-781 1198.5,-781 1198.5,-713 1341.5,-713 1341.5,-781\"/>\n<text text-anchor=\"middle\" x=\"1270\" y=\"-765.8\" font-family=\"Helvetica,sans-Serif\" font-size=\"14.00\" fill=\"#000000\">DiastolicBP &lt;= 78.0</text>\n<text text-anchor=\"middle\" x=\"1270\" y=\"-750.8\" font-family=\"Helvetica,sans-Serif\" font-size=\"14.00\" fill=\"#000000\">entropy = 0.619</text>\n<text text-anchor=\"middle\" x=\"1270\" y=\"-735.8\" font-family=\"Helvetica,sans-Serif\" font-size=\"14.00\" fill=\"#000000\">samples = 26</text>\n<text text-anchor=\"middle\" x=\"1270\" y=\"-720.8\" font-family=\"Helvetica,sans-Serif\" font-size=\"14.00\" fill=\"#000000\">value = [22, 4]</text>\n</g>\n<!-- 60&#45;&gt;61 -->\n<g id=\"edge61\" class=\"edge\">\n<title>60&#45;&gt;61</title>\n<path fill=\"none\" stroke=\"#000000\" d=\"M1319.7696,-816.9465C1313.5088,-808.1475 1306.692,-798.5672 1300.1687,-789.3993\"/>\n<polygon fill=\"#000000\" stroke=\"#000000\" points=\"1302.9342,-787.2488 1294.2848,-781.13 1297.2306,-791.3071 1302.9342,-787.2488\"/>\n</g>\n<!-- 64 -->\n<g id=\"node65\" class=\"node\">\n<title>64</title>\n<polygon fill=\"none\" stroke=\"#000000\" points=\"1478,-781 1360,-781 1360,-713 1478,-713 1478,-781\"/>\n<text text-anchor=\"middle\" x=\"1419\" y=\"-765.8\" font-family=\"Helvetica,sans-Serif\" font-size=\"14.00\" fill=\"#000000\">BS &lt;= 7.75</text>\n<text text-anchor=\"middle\" x=\"1419\" y=\"-750.8\" font-family=\"Helvetica,sans-Serif\" font-size=\"14.00\" fill=\"#000000\">entropy = 0.981</text>\n<text text-anchor=\"middle\" x=\"1419\" y=\"-735.8\" font-family=\"Helvetica,sans-Serif\" font-size=\"14.00\" fill=\"#000000\">samples = 62</text>\n<text text-anchor=\"middle\" x=\"1419\" y=\"-720.8\" font-family=\"Helvetica,sans-Serif\" font-size=\"14.00\" fill=\"#000000\">value = [36, 26]</text>\n</g>\n<!-- 60&#45;&gt;64 -->\n<g id=\"edge64\" class=\"edge\">\n<title>60&#45;&gt;64</title>\n<path fill=\"none\" stroke=\"#000000\" d=\"M1368.5578,-816.9465C1374.9032,-808.1475 1381.8121,-798.5672 1388.4236,-789.3993\"/>\n<polygon fill=\"#000000\" stroke=\"#000000\" points=\"1391.3766,-791.2882 1394.387,-781.13 1385.6989,-787.1937 1391.3766,-791.2882\"/>\n</g>\n<!-- 62 -->\n<g id=\"node63\" class=\"node\">\n<title>62</title>\n<polygon fill=\"none\" stroke=\"#000000\" points=\"1198.5,-669.5 1091.5,-669.5 1091.5,-616.5 1198.5,-616.5 1198.5,-669.5\"/>\n<text text-anchor=\"middle\" x=\"1145\" y=\"-654.3\" font-family=\"Helvetica,sans-Serif\" font-size=\"14.00\" fill=\"#000000\">entropy = 0.0</text>\n<text text-anchor=\"middle\" x=\"1145\" y=\"-639.3\" font-family=\"Helvetica,sans-Serif\" font-size=\"14.00\" fill=\"#000000\">samples = 13</text>\n<text text-anchor=\"middle\" x=\"1145\" y=\"-624.3\" font-family=\"Helvetica,sans-Serif\" font-size=\"14.00\" fill=\"#000000\">value = [13, 0]</text>\n</g>\n<!-- 61&#45;&gt;62 -->\n<g id=\"edge62\" class=\"edge\">\n<title>61&#45;&gt;62</title>\n<path fill=\"none\" stroke=\"#000000\" d=\"M1229.0703,-712.9465C1214.9045,-701.1606 1199.0537,-687.9726 1184.9662,-676.2519\"/>\n<polygon fill=\"#000000\" stroke=\"#000000\" points=\"1186.8275,-673.2474 1176.9016,-669.5422 1182.3504,-678.6285 1186.8275,-673.2474\"/>\n</g>\n<!-- 63 -->\n<g id=\"node64\" class=\"node\">\n<title>63</title>\n<polygon fill=\"none\" stroke=\"#000000\" points=\"1327,-669.5 1217,-669.5 1217,-616.5 1327,-616.5 1327,-669.5\"/>\n<text text-anchor=\"middle\" x=\"1272\" y=\"-654.3\" font-family=\"Helvetica,sans-Serif\" font-size=\"14.00\" fill=\"#000000\">entropy = 0.89</text>\n<text text-anchor=\"middle\" x=\"1272\" y=\"-639.3\" font-family=\"Helvetica,sans-Serif\" font-size=\"14.00\" fill=\"#000000\">samples = 13</text>\n<text text-anchor=\"middle\" x=\"1272\" y=\"-624.3\" font-family=\"Helvetica,sans-Serif\" font-size=\"14.00\" fill=\"#000000\">value = [9, 4]</text>\n</g>\n<!-- 61&#45;&gt;63 -->\n<g id=\"edge63\" class=\"edge\">\n<title>61&#45;&gt;63</title>\n<path fill=\"none\" stroke=\"#000000\" d=\"M1270.6549,-712.9465C1270.8603,-702.2621 1271.088,-690.4254 1271.2966,-679.5742\"/>\n<polygon fill=\"#000000\" stroke=\"#000000\" points=\"1274.7966,-679.6076 1271.4896,-669.5422 1267.7979,-679.473 1274.7966,-679.6076\"/>\n</g>\n<!-- 65 -->\n<g id=\"node66\" class=\"node\">\n<title>65</title>\n<polygon fill=\"none\" stroke=\"#000000\" points=\"1484.5,-677 1349.5,-677 1349.5,-609 1484.5,-609 1484.5,-677\"/>\n<text text-anchor=\"middle\" x=\"1417\" y=\"-661.8\" font-family=\"Helvetica,sans-Serif\" font-size=\"14.00\" fill=\"#000000\">HeartRate &lt;= 76.5</text>\n<text text-anchor=\"middle\" x=\"1417\" y=\"-646.8\" font-family=\"Helvetica,sans-Serif\" font-size=\"14.00\" fill=\"#000000\">entropy = 0.893</text>\n<text text-anchor=\"middle\" x=\"1417\" y=\"-631.8\" font-family=\"Helvetica,sans-Serif\" font-size=\"14.00\" fill=\"#000000\">samples = 42</text>\n<text text-anchor=\"middle\" x=\"1417\" y=\"-616.8\" font-family=\"Helvetica,sans-Serif\" font-size=\"14.00\" fill=\"#000000\">value = [29, 13]</text>\n</g>\n<!-- 64&#45;&gt;65 -->\n<g id=\"edge65\" class=\"edge\">\n<title>64&#45;&gt;65</title>\n<path fill=\"none\" stroke=\"#000000\" d=\"M1418.3451,-712.9465C1418.188,-704.776 1418.0179,-695.9318 1417.8533,-687.3697\"/>\n<polygon fill=\"#000000\" stroke=\"#000000\" points=\"1421.3481,-687.0608 1417.6563,-677.13 1414.3494,-687.1955 1421.3481,-687.0608\"/>\n</g>\n<!-- 70 -->\n<g id=\"node71\" class=\"node\">\n<title>70</title>\n<polygon fill=\"none\" stroke=\"#000000\" points=\"1645.5,-677 1502.5,-677 1502.5,-609 1645.5,-609 1645.5,-677\"/>\n<text text-anchor=\"middle\" x=\"1574\" y=\"-661.8\" font-family=\"Helvetica,sans-Serif\" font-size=\"14.00\" fill=\"#000000\">DiastolicBP &lt;= 87.5</text>\n<text text-anchor=\"middle\" x=\"1574\" y=\"-646.8\" font-family=\"Helvetica,sans-Serif\" font-size=\"14.00\" fill=\"#000000\">entropy = 0.934</text>\n<text text-anchor=\"middle\" x=\"1574\" y=\"-631.8\" font-family=\"Helvetica,sans-Serif\" font-size=\"14.00\" fill=\"#000000\">samples = 20</text>\n<text text-anchor=\"middle\" x=\"1574\" y=\"-616.8\" font-family=\"Helvetica,sans-Serif\" font-size=\"14.00\" fill=\"#000000\">value = [7, 13]</text>\n</g>\n<!-- 64&#45;&gt;70 -->\n<g id=\"edge70\" class=\"edge\">\n<title>64&#45;&gt;70</title>\n<path fill=\"none\" stroke=\"#000000\" d=\"M1469.7528,-712.9465C1484.071,-703.3395 1499.7775,-692.8009 1514.5563,-682.8848\"/>\n<polygon fill=\"#000000\" stroke=\"#000000\" points=\"1516.7793,-685.6081 1523.1332,-677.13 1512.8791,-679.7953 1516.7793,-685.6081\"/>\n</g>\n<!-- 66 -->\n<g id=\"node67\" class=\"node\">\n<title>66</title>\n<polygon fill=\"none\" stroke=\"#000000\" points=\"1360.5,-573 1225.5,-573 1225.5,-505 1360.5,-505 1360.5,-573\"/>\n<text text-anchor=\"middle\" x=\"1293\" y=\"-557.8\" font-family=\"Helvetica,sans-Serif\" font-size=\"14.00\" fill=\"#000000\">HeartRate &lt;= 73.0</text>\n<text text-anchor=\"middle\" x=\"1293\" y=\"-542.8\" font-family=\"Helvetica,sans-Serif\" font-size=\"14.00\" fill=\"#000000\">entropy = 0.722</text>\n<text text-anchor=\"middle\" x=\"1293\" y=\"-527.8\" font-family=\"Helvetica,sans-Serif\" font-size=\"14.00\" fill=\"#000000\">samples = 25</text>\n<text text-anchor=\"middle\" x=\"1293\" y=\"-512.8\" font-family=\"Helvetica,sans-Serif\" font-size=\"14.00\" fill=\"#000000\">value = [20, 5]</text>\n</g>\n<!-- 65&#45;&gt;66 -->\n<g id=\"edge66\" class=\"edge\">\n<title>65&#45;&gt;66</title>\n<path fill=\"none\" stroke=\"#000000\" d=\"M1376.3978,-608.9465C1365.2644,-599.6088 1353.0817,-589.3911 1341.5511,-579.7203\"/>\n<polygon fill=\"#000000\" stroke=\"#000000\" points=\"1343.6046,-576.8745 1333.6935,-573.13 1339.1062,-582.2378 1343.6046,-576.8745\"/>\n</g>\n<!-- 69 -->\n<g id=\"node70\" class=\"node\">\n<title>69</title>\n<polygon fill=\"none\" stroke=\"#000000\" points=\"1497,-565.5 1379,-565.5 1379,-512.5 1497,-512.5 1497,-565.5\"/>\n<text text-anchor=\"middle\" x=\"1438\" y=\"-550.3\" font-family=\"Helvetica,sans-Serif\" font-size=\"14.00\" fill=\"#000000\">entropy = 0.998</text>\n<text text-anchor=\"middle\" x=\"1438\" y=\"-535.3\" font-family=\"Helvetica,sans-Serif\" font-size=\"14.00\" fill=\"#000000\">samples = 17</text>\n<text text-anchor=\"middle\" x=\"1438\" y=\"-520.3\" font-family=\"Helvetica,sans-Serif\" font-size=\"14.00\" fill=\"#000000\">value = [9, 8]</text>\n</g>\n<!-- 65&#45;&gt;69 -->\n<g id=\"edge69\" class=\"edge\">\n<title>65&#45;&gt;69</title>\n<path fill=\"none\" stroke=\"#000000\" d=\"M1423.8762,-608.9465C1426.0336,-598.2621 1428.4237,-586.4254 1430.6148,-575.5742\"/>\n<polygon fill=\"#000000\" stroke=\"#000000\" points=\"1434.0919,-576.0371 1432.6405,-565.5422 1427.2304,-574.6516 1434.0919,-576.0371\"/>\n</g>\n<!-- 67 -->\n<g id=\"node68\" class=\"node\">\n<title>67</title>\n<polygon fill=\"none\" stroke=\"#000000\" points=\"1352,-461.5 1234,-461.5 1234,-408.5 1352,-408.5 1352,-461.5\"/>\n<text text-anchor=\"middle\" x=\"1293\" y=\"-446.3\" font-family=\"Helvetica,sans-Serif\" font-size=\"14.00\" fill=\"#000000\">entropy = 0.852</text>\n<text text-anchor=\"middle\" x=\"1293\" y=\"-431.3\" font-family=\"Helvetica,sans-Serif\" font-size=\"14.00\" fill=\"#000000\">samples = 18</text>\n<text text-anchor=\"middle\" x=\"1293\" y=\"-416.3\" font-family=\"Helvetica,sans-Serif\" font-size=\"14.00\" fill=\"#000000\">value = [13, 5]</text>\n</g>\n<!-- 66&#45;&gt;67 -->\n<g id=\"edge67\" class=\"edge\">\n<title>66&#45;&gt;67</title>\n<path fill=\"none\" stroke=\"#000000\" d=\"M1293,-504.9465C1293,-494.2621 1293,-482.4254 1293,-471.5742\"/>\n<polygon fill=\"#000000\" stroke=\"#000000\" points=\"1296.5001,-471.5421 1293,-461.5422 1289.5001,-471.5422 1296.5001,-471.5421\"/>\n</g>\n<!-- 68 -->\n<g id=\"node69\" class=\"node\">\n<title>68</title>\n<polygon fill=\"none\" stroke=\"#000000\" points=\"1471.5,-461.5 1370.5,-461.5 1370.5,-408.5 1471.5,-408.5 1471.5,-461.5\"/>\n<text text-anchor=\"middle\" x=\"1421\" y=\"-446.3\" font-family=\"Helvetica,sans-Serif\" font-size=\"14.00\" fill=\"#000000\">entropy = 0.0</text>\n<text text-anchor=\"middle\" x=\"1421\" y=\"-431.3\" font-family=\"Helvetica,sans-Serif\" font-size=\"14.00\" fill=\"#000000\">samples = 7</text>\n<text text-anchor=\"middle\" x=\"1421\" y=\"-416.3\" font-family=\"Helvetica,sans-Serif\" font-size=\"14.00\" fill=\"#000000\">value = [7, 0]</text>\n</g>\n<!-- 66&#45;&gt;68 -->\n<g id=\"edge68\" class=\"edge\">\n<title>66&#45;&gt;68</title>\n<path fill=\"none\" stroke=\"#000000\" d=\"M1334.912,-504.9465C1349.5533,-493.0504 1365.9526,-479.726 1380.4785,-467.9237\"/>\n<polygon fill=\"#000000\" stroke=\"#000000\" points=\"1382.7786,-470.5645 1388.3327,-461.5422 1378.3645,-465.1317 1382.7786,-470.5645\"/>\n</g>\n<!-- 71 -->\n<g id=\"node72\" class=\"node\">\n<title>71</title>\n<polygon fill=\"none\" stroke=\"#000000\" points=\"1633,-565.5 1515,-565.5 1515,-512.5 1633,-512.5 1633,-565.5\"/>\n<text text-anchor=\"middle\" x=\"1574\" y=\"-550.3\" font-family=\"Helvetica,sans-Serif\" font-size=\"14.00\" fill=\"#000000\">entropy = 0.996</text>\n<text text-anchor=\"middle\" x=\"1574\" y=\"-535.3\" font-family=\"Helvetica,sans-Serif\" font-size=\"14.00\" fill=\"#000000\">samples = 13</text>\n<text text-anchor=\"middle\" x=\"1574\" y=\"-520.3\" font-family=\"Helvetica,sans-Serif\" font-size=\"14.00\" fill=\"#000000\">value = [7, 6]</text>\n</g>\n<!-- 70&#45;&gt;71 -->\n<g id=\"edge71\" class=\"edge\">\n<title>70&#45;&gt;71</title>\n<path fill=\"none\" stroke=\"#000000\" d=\"M1574,-608.9465C1574,-598.2621 1574,-586.4254 1574,-575.5742\"/>\n<polygon fill=\"#000000\" stroke=\"#000000\" points=\"1577.5001,-575.5421 1574,-565.5422 1570.5001,-575.5422 1577.5001,-575.5421\"/>\n</g>\n<!-- 72 -->\n<g id=\"node73\" class=\"node\">\n<title>72</title>\n<polygon fill=\"none\" stroke=\"#000000\" points=\"1752.5,-565.5 1651.5,-565.5 1651.5,-512.5 1752.5,-512.5 1752.5,-565.5\"/>\n<text text-anchor=\"middle\" x=\"1702\" y=\"-550.3\" font-family=\"Helvetica,sans-Serif\" font-size=\"14.00\" fill=\"#000000\">entropy = 0.0</text>\n<text text-anchor=\"middle\" x=\"1702\" y=\"-535.3\" font-family=\"Helvetica,sans-Serif\" font-size=\"14.00\" fill=\"#000000\">samples = 7</text>\n<text text-anchor=\"middle\" x=\"1702\" y=\"-520.3\" font-family=\"Helvetica,sans-Serif\" font-size=\"14.00\" fill=\"#000000\">value = [0, 7]</text>\n</g>\n<!-- 70&#45;&gt;72 -->\n<g id=\"edge72\" class=\"edge\">\n<title>70&#45;&gt;72</title>\n<path fill=\"none\" stroke=\"#000000\" d=\"M1615.912,-608.9465C1630.5533,-597.0504 1646.9526,-583.726 1661.4785,-571.9237\"/>\n<polygon fill=\"#000000\" stroke=\"#000000\" points=\"1663.7786,-574.5645 1669.3327,-565.5422 1659.3645,-569.1317 1663.7786,-574.5645\"/>\n</g>\n<!-- 74 -->\n<g id=\"node75\" class=\"node\">\n<title>74</title>\n<polygon fill=\"none\" stroke=\"#000000\" points=\"1619.5,-773.5 1512.5,-773.5 1512.5,-720.5 1619.5,-720.5 1619.5,-773.5\"/>\n<text text-anchor=\"middle\" x=\"1566\" y=\"-758.3\" font-family=\"Helvetica,sans-Serif\" font-size=\"14.00\" fill=\"#000000\">entropy = 0.0</text>\n<text text-anchor=\"middle\" x=\"1566\" y=\"-743.3\" font-family=\"Helvetica,sans-Serif\" font-size=\"14.00\" fill=\"#000000\">samples = 18</text>\n<text text-anchor=\"middle\" x=\"1566\" y=\"-728.3\" font-family=\"Helvetica,sans-Serif\" font-size=\"14.00\" fill=\"#000000\">value = [18, 0]</text>\n</g>\n<!-- 73&#45;&gt;74 -->\n<g id=\"edge74\" class=\"edge\">\n<title>73&#45;&gt;74</title>\n<path fill=\"none\" stroke=\"#000000\" d=\"M1566,-816.9465C1566,-806.2621 1566,-794.4254 1566,-783.5742\"/>\n<polygon fill=\"#000000\" stroke=\"#000000\" points=\"1569.5001,-783.5421 1566,-773.5422 1562.5001,-783.5422 1569.5001,-783.5421\"/>\n</g>\n<!-- 75 -->\n<g id=\"node76\" class=\"node\">\n<title>75</title>\n<polygon fill=\"none\" stroke=\"#000000\" points=\"1773,-781 1655,-781 1655,-713 1773,-713 1773,-781\"/>\n<text text-anchor=\"middle\" x=\"1714\" y=\"-765.8\" font-family=\"Helvetica,sans-Serif\" font-size=\"14.00\" fill=\"#000000\">Age &lt;= 40.5</text>\n<text text-anchor=\"middle\" x=\"1714\" y=\"-750.8\" font-family=\"Helvetica,sans-Serif\" font-size=\"14.00\" fill=\"#000000\">entropy = 0.821</text>\n<text text-anchor=\"middle\" x=\"1714\" y=\"-735.8\" font-family=\"Helvetica,sans-Serif\" font-size=\"14.00\" fill=\"#000000\">samples = 39</text>\n<text text-anchor=\"middle\" x=\"1714\" y=\"-720.8\" font-family=\"Helvetica,sans-Serif\" font-size=\"14.00\" fill=\"#000000\">value = [29, 10]</text>\n</g>\n<!-- 73&#45;&gt;75 -->\n<g id=\"edge75\" class=\"edge\">\n<title>73&#45;&gt;75</title>\n<path fill=\"none\" stroke=\"#000000\" d=\"M1614.4607,-816.9465C1628.1323,-807.3395 1643.1294,-796.8009 1657.2409,-786.8848\"/>\n<polygon fill=\"#000000\" stroke=\"#000000\" points=\"1659.2608,-789.7432 1665.4304,-781.13 1655.2361,-784.0158 1659.2608,-789.7432\"/>\n</g>\n<!-- 76 -->\n<g id=\"node77\" class=\"node\">\n<title>76</title>\n<polygon fill=\"none\" stroke=\"#000000\" points=\"1764.5,-669.5 1663.5,-669.5 1663.5,-616.5 1764.5,-616.5 1764.5,-669.5\"/>\n<text text-anchor=\"middle\" x=\"1714\" y=\"-654.3\" font-family=\"Helvetica,sans-Serif\" font-size=\"14.00\" fill=\"#000000\">entropy = 0.0</text>\n<text text-anchor=\"middle\" x=\"1714\" y=\"-639.3\" font-family=\"Helvetica,sans-Serif\" font-size=\"14.00\" fill=\"#000000\">samples = 3</text>\n<text text-anchor=\"middle\" x=\"1714\" y=\"-624.3\" font-family=\"Helvetica,sans-Serif\" font-size=\"14.00\" fill=\"#000000\">value = [0, 3]</text>\n</g>\n<!-- 75&#45;&gt;76 -->\n<g id=\"edge76\" class=\"edge\">\n<title>75&#45;&gt;76</title>\n<path fill=\"none\" stroke=\"#000000\" d=\"M1714,-712.9465C1714,-702.2621 1714,-690.4254 1714,-679.5742\"/>\n<polygon fill=\"#000000\" stroke=\"#000000\" points=\"1717.5001,-679.5421 1714,-669.5422 1710.5001,-679.5422 1717.5001,-679.5421\"/>\n</g>\n<!-- 77 -->\n<g id=\"node78\" class=\"node\">\n<title>77</title>\n<polygon fill=\"none\" stroke=\"#000000\" points=\"1901,-677 1783,-677 1783,-609 1901,-609 1901,-677\"/>\n<text text-anchor=\"middle\" x=\"1842\" y=\"-661.8\" font-family=\"Helvetica,sans-Serif\" font-size=\"14.00\" fill=\"#000000\">Age &lt;= 47.0</text>\n<text text-anchor=\"middle\" x=\"1842\" y=\"-646.8\" font-family=\"Helvetica,sans-Serif\" font-size=\"14.00\" fill=\"#000000\">entropy = 0.711</text>\n<text text-anchor=\"middle\" x=\"1842\" y=\"-631.8\" font-family=\"Helvetica,sans-Serif\" font-size=\"14.00\" fill=\"#000000\">samples = 36</text>\n<text text-anchor=\"middle\" x=\"1842\" y=\"-616.8\" font-family=\"Helvetica,sans-Serif\" font-size=\"14.00\" fill=\"#000000\">value = [29, 7]</text>\n</g>\n<!-- 75&#45;&gt;77 -->\n<g id=\"edge77\" class=\"edge\">\n<title>75&#45;&gt;77</title>\n<path fill=\"none\" stroke=\"#000000\" d=\"M1755.912,-712.9465C1767.515,-703.519 1780.2221,-693.1946 1792.2259,-683.4415\"/>\n<polygon fill=\"#000000\" stroke=\"#000000\" points=\"1794.4398,-686.1524 1799.9939,-677.13 1790.0256,-680.7196 1794.4398,-686.1524\"/>\n</g>\n<!-- 78 -->\n<g id=\"node79\" class=\"node\">\n<title>78</title>\n<polygon fill=\"none\" stroke=\"#000000\" points=\"1886.5,-565.5 1779.5,-565.5 1779.5,-512.5 1886.5,-512.5 1886.5,-565.5\"/>\n<text text-anchor=\"middle\" x=\"1833\" y=\"-550.3\" font-family=\"Helvetica,sans-Serif\" font-size=\"14.00\" fill=\"#000000\">entropy = 0.0</text>\n<text text-anchor=\"middle\" x=\"1833\" y=\"-535.3\" font-family=\"Helvetica,sans-Serif\" font-size=\"14.00\" fill=\"#000000\">samples = 13</text>\n<text text-anchor=\"middle\" x=\"1833\" y=\"-520.3\" font-family=\"Helvetica,sans-Serif\" font-size=\"14.00\" fill=\"#000000\">value = [13, 0]</text>\n</g>\n<!-- 77&#45;&gt;78 -->\n<g id=\"edge78\" class=\"edge\">\n<title>77&#45;&gt;78</title>\n<path fill=\"none\" stroke=\"#000000\" d=\"M1839.0531,-608.9465C1838.1284,-598.2621 1837.1041,-586.4254 1836.1651,-575.5742\"/>\n<polygon fill=\"#000000\" stroke=\"#000000\" points=\"1839.6461,-575.2031 1835.2969,-565.5422 1832.6722,-575.8067 1839.6461,-575.2031\"/>\n</g>\n<!-- 79 -->\n<g id=\"node80\" class=\"node\">\n<title>79</title>\n<polygon fill=\"none\" stroke=\"#000000\" points=\"2051.5,-573 1904.5,-573 1904.5,-505 2051.5,-505 2051.5,-573\"/>\n<text text-anchor=\"middle\" x=\"1978\" y=\"-557.8\" font-family=\"Helvetica,sans-Serif\" font-size=\"14.00\" fill=\"#000000\">SystolicBP &lt;= 110.0</text>\n<text text-anchor=\"middle\" x=\"1978\" y=\"-542.8\" font-family=\"Helvetica,sans-Serif\" font-size=\"14.00\" fill=\"#000000\">entropy = 0.887</text>\n<text text-anchor=\"middle\" x=\"1978\" y=\"-527.8\" font-family=\"Helvetica,sans-Serif\" font-size=\"14.00\" fill=\"#000000\">samples = 23</text>\n<text text-anchor=\"middle\" x=\"1978\" y=\"-512.8\" font-family=\"Helvetica,sans-Serif\" font-size=\"14.00\" fill=\"#000000\">value = [16, 7]</text>\n</g>\n<!-- 77&#45;&gt;79 -->\n<g id=\"edge79\" class=\"edge\">\n<title>77&#45;&gt;79</title>\n<path fill=\"none\" stroke=\"#000000\" d=\"M1886.5315,-608.9465C1898.8597,-599.519 1912.3609,-589.1946 1925.115,-579.4415\"/>\n<polygon fill=\"#000000\" stroke=\"#000000\" points=\"1927.551,-581.9848 1933.3685,-573.13 1923.2988,-576.4243 1927.551,-581.9848\"/>\n</g>\n<!-- 80 -->\n<g id=\"node81\" class=\"node\">\n<title>80</title>\n<polygon fill=\"none\" stroke=\"#000000\" points=\"1964.5,-461.5 1863.5,-461.5 1863.5,-408.5 1964.5,-408.5 1964.5,-461.5\"/>\n<text text-anchor=\"middle\" x=\"1914\" y=\"-446.3\" font-family=\"Helvetica,sans-Serif\" font-size=\"14.00\" fill=\"#000000\">entropy = 0.0</text>\n<text text-anchor=\"middle\" x=\"1914\" y=\"-431.3\" font-family=\"Helvetica,sans-Serif\" font-size=\"14.00\" fill=\"#000000\">samples = 6</text>\n<text text-anchor=\"middle\" x=\"1914\" y=\"-416.3\" font-family=\"Helvetica,sans-Serif\" font-size=\"14.00\" fill=\"#000000\">value = [6, 0]</text>\n</g>\n<!-- 79&#45;&gt;80 -->\n<g id=\"edge80\" class=\"edge\">\n<title>79&#45;&gt;80</title>\n<path fill=\"none\" stroke=\"#000000\" d=\"M1957.044,-504.9465C1950.1978,-493.8215 1942.5829,-481.4473 1935.6843,-470.237\"/>\n<polygon fill=\"#000000\" stroke=\"#000000\" points=\"1938.5555,-468.2244 1930.3336,-461.5422 1932.5939,-471.8931 1938.5555,-468.2244\"/>\n</g>\n<!-- 81 -->\n<g id=\"node82\" class=\"node\">\n<title>81</title>\n<polygon fill=\"none\" stroke=\"#000000\" points=\"2101,-461.5 1983,-461.5 1983,-408.5 2101,-408.5 2101,-461.5\"/>\n<text text-anchor=\"middle\" x=\"2042\" y=\"-446.3\" font-family=\"Helvetica,sans-Serif\" font-size=\"14.00\" fill=\"#000000\">entropy = 0.977</text>\n<text text-anchor=\"middle\" x=\"2042\" y=\"-431.3\" font-family=\"Helvetica,sans-Serif\" font-size=\"14.00\" fill=\"#000000\">samples = 17</text>\n<text text-anchor=\"middle\" x=\"2042\" y=\"-416.3\" font-family=\"Helvetica,sans-Serif\" font-size=\"14.00\" fill=\"#000000\">value = [10, 7]</text>\n</g>\n<!-- 79&#45;&gt;81 -->\n<g id=\"edge81\" class=\"edge\">\n<title>79&#45;&gt;81</title>\n<path fill=\"none\" stroke=\"#000000\" d=\"M1998.956,-504.9465C2005.8022,-493.8215 2013.4171,-481.4473 2020.3157,-470.237\"/>\n<polygon fill=\"#000000\" stroke=\"#000000\" points=\"2023.4061,-471.8931 2025.6664,-461.5422 2017.4445,-468.2244 2023.4061,-471.8931\"/>\n</g>\n<!-- 83 -->\n<g id=\"node84\" class=\"node\">\n<title>83</title>\n<polygon fill=\"none\" stroke=\"#000000\" points=\"1729.5,-1197 1586.5,-1197 1586.5,-1129 1729.5,-1129 1729.5,-1197\"/>\n<text text-anchor=\"middle\" x=\"1658\" y=\"-1181.8\" font-family=\"Helvetica,sans-Serif\" font-size=\"14.00\" fill=\"#000000\">DiastolicBP &lt;= 77.5</text>\n<text text-anchor=\"middle\" x=\"1658\" y=\"-1166.8\" font-family=\"Helvetica,sans-Serif\" font-size=\"14.00\" fill=\"#000000\">entropy = 0.599</text>\n<text text-anchor=\"middle\" x=\"1658\" y=\"-1151.8\" font-family=\"Helvetica,sans-Serif\" font-size=\"14.00\" fill=\"#000000\">samples = 48</text>\n<text text-anchor=\"middle\" x=\"1658\" y=\"-1136.8\" font-family=\"Helvetica,sans-Serif\" font-size=\"14.00\" fill=\"#000000\">value = [7, 41]</text>\n</g>\n<!-- 82&#45;&gt;83 -->\n<g id=\"edge83\" class=\"edge\">\n<title>82&#45;&gt;83</title>\n<path fill=\"none\" stroke=\"#000000\" d=\"M1658,-1232.9465C1658,-1224.776 1658,-1215.9318 1658,-1207.3697\"/>\n<polygon fill=\"#000000\" stroke=\"#000000\" points=\"1661.5001,-1207.13 1658,-1197.13 1654.5001,-1207.13 1661.5001,-1207.13\"/>\n</g>\n<!-- 90 -->\n<g id=\"node91\" class=\"node\">\n<title>90</title>\n<polygon fill=\"none\" stroke=\"#000000\" points=\"2104,-1197 1986,-1197 1986,-1129 2104,-1129 2104,-1197\"/>\n<text text-anchor=\"middle\" x=\"2045\" y=\"-1181.8\" font-family=\"Helvetica,sans-Serif\" font-size=\"14.00\" fill=\"#000000\">BS &lt;= 7.65</text>\n<text text-anchor=\"middle\" x=\"2045\" y=\"-1166.8\" font-family=\"Helvetica,sans-Serif\" font-size=\"14.00\" fill=\"#000000\">entropy = 0.931</text>\n<text text-anchor=\"middle\" x=\"2045\" y=\"-1151.8\" font-family=\"Helvetica,sans-Serif\" font-size=\"14.00\" fill=\"#000000\">samples = 49</text>\n<text text-anchor=\"middle\" x=\"2045\" y=\"-1136.8\" font-family=\"Helvetica,sans-Serif\" font-size=\"14.00\" fill=\"#000000\">value = [17, 32]</text>\n</g>\n<!-- 82&#45;&gt;90 -->\n<g id=\"edge90\" class=\"edge\">\n<title>82&#45;&gt;90</title>\n<path fill=\"none\" stroke=\"#000000\" d=\"M1717.1982,-1251.0914C1786.9066,-1232.3584 1902.5008,-1201.2943 1976.1499,-1181.5024\"/>\n<polygon fill=\"#000000\" stroke=\"#000000\" points=\"1977.0594,-1184.8822 1985.8084,-1178.9068 1975.2426,-1178.1221 1977.0594,-1184.8822\"/>\n</g>\n<!-- 84 -->\n<g id=\"node85\" class=\"node\">\n<title>84</title>\n<polygon fill=\"none\" stroke=\"#000000\" points=\"1653.5,-1093 1518.5,-1093 1518.5,-1025 1653.5,-1025 1653.5,-1093\"/>\n<text text-anchor=\"middle\" x=\"1586\" y=\"-1077.8\" font-family=\"Helvetica,sans-Serif\" font-size=\"14.00\" fill=\"#000000\">HeartRate &lt;= 63.5</text>\n<text text-anchor=\"middle\" x=\"1586\" y=\"-1062.8\" font-family=\"Helvetica,sans-Serif\" font-size=\"14.00\" fill=\"#000000\">entropy = 0.242</text>\n<text text-anchor=\"middle\" x=\"1586\" y=\"-1047.8\" font-family=\"Helvetica,sans-Serif\" font-size=\"14.00\" fill=\"#000000\">samples = 25</text>\n<text text-anchor=\"middle\" x=\"1586\" y=\"-1032.8\" font-family=\"Helvetica,sans-Serif\" font-size=\"14.00\" fill=\"#000000\">value = [1, 24]</text>\n</g>\n<!-- 83&#45;&gt;84 -->\n<g id=\"edge84\" class=\"edge\">\n<title>83&#45;&gt;84</title>\n<path fill=\"none\" stroke=\"#000000\" d=\"M1634.4245,-1128.9465C1628.3329,-1120.1475 1621.7004,-1110.5672 1615.3534,-1101.3993\"/>\n<polygon fill=\"#000000\" stroke=\"#000000\" points=\"1618.1983,-1099.3597 1609.6285,-1093.13 1612.4429,-1103.3442 1618.1983,-1099.3597\"/>\n</g>\n<!-- 87 -->\n<g id=\"node88\" class=\"node\">\n<title>87</title>\n<polygon fill=\"none\" stroke=\"#000000\" points=\"1790,-1093 1672,-1093 1672,-1025 1790,-1025 1790,-1093\"/>\n<text text-anchor=\"middle\" x=\"1731\" y=\"-1077.8\" font-family=\"Helvetica,sans-Serif\" font-size=\"14.00\" fill=\"#000000\">BS &lt;= 6.75</text>\n<text text-anchor=\"middle\" x=\"1731\" y=\"-1062.8\" font-family=\"Helvetica,sans-Serif\" font-size=\"14.00\" fill=\"#000000\">entropy = 0.828</text>\n<text text-anchor=\"middle\" x=\"1731\" y=\"-1047.8\" font-family=\"Helvetica,sans-Serif\" font-size=\"14.00\" fill=\"#000000\">samples = 23</text>\n<text text-anchor=\"middle\" x=\"1731\" y=\"-1032.8\" font-family=\"Helvetica,sans-Serif\" font-size=\"14.00\" fill=\"#000000\">value = [6, 17]</text>\n</g>\n<!-- 83&#45;&gt;87 -->\n<g id=\"edge87\" class=\"edge\">\n<title>83&#45;&gt;87</title>\n<path fill=\"none\" stroke=\"#000000\" d=\"M1681.9029,-1128.9465C1688.0791,-1120.1475 1694.8038,-1110.5672 1701.239,-1101.3993\"/>\n<polygon fill=\"#000000\" stroke=\"#000000\" points=\"1704.1629,-1103.3258 1707.0434,-1093.13 1698.4334,-1099.3041 1704.1629,-1103.3258\"/>\n</g>\n<!-- 85 -->\n<g id=\"node86\" class=\"node\">\n<title>85</title>\n<polygon fill=\"none\" stroke=\"#000000\" points=\"1525.5,-981.5 1424.5,-981.5 1424.5,-928.5 1525.5,-928.5 1525.5,-981.5\"/>\n<text text-anchor=\"middle\" x=\"1475\" y=\"-966.3\" font-family=\"Helvetica,sans-Serif\" font-size=\"14.00\" fill=\"#000000\">entropy = 0.0</text>\n<text text-anchor=\"middle\" x=\"1475\" y=\"-951.3\" font-family=\"Helvetica,sans-Serif\" font-size=\"14.00\" fill=\"#000000\">samples = 1</text>\n<text text-anchor=\"middle\" x=\"1475\" y=\"-936.3\" font-family=\"Helvetica,sans-Serif\" font-size=\"14.00\" fill=\"#000000\">value = [1, 0]</text>\n</g>\n<!-- 84&#45;&gt;85 -->\n<g id=\"edge85\" class=\"edge\">\n<title>84&#45;&gt;85</title>\n<path fill=\"none\" stroke=\"#000000\" d=\"M1549.6544,-1024.9465C1537.1928,-1013.2707 1523.2626,-1000.219 1510.8412,-988.5809\"/>\n<polygon fill=\"#000000\" stroke=\"#000000\" points=\"1513.0191,-985.8253 1503.3287,-981.5422 1508.2331,-990.9335 1513.0191,-985.8253\"/>\n</g>\n<!-- 86 -->\n<g id=\"node87\" class=\"node\">\n<title>86</title>\n<polygon fill=\"none\" stroke=\"#000000\" points=\"1650.5,-981.5 1543.5,-981.5 1543.5,-928.5 1650.5,-928.5 1650.5,-981.5\"/>\n<text text-anchor=\"middle\" x=\"1597\" y=\"-966.3\" font-family=\"Helvetica,sans-Serif\" font-size=\"14.00\" fill=\"#000000\">entropy = 0.0</text>\n<text text-anchor=\"middle\" x=\"1597\" y=\"-951.3\" font-family=\"Helvetica,sans-Serif\" font-size=\"14.00\" fill=\"#000000\">samples = 24</text>\n<text text-anchor=\"middle\" x=\"1597\" y=\"-936.3\" font-family=\"Helvetica,sans-Serif\" font-size=\"14.00\" fill=\"#000000\">value = [0, 24]</text>\n</g>\n<!-- 84&#45;&gt;86 -->\n<g id=\"edge86\" class=\"edge\">\n<title>84&#45;&gt;86</title>\n<path fill=\"none\" stroke=\"#000000\" d=\"M1589.6018,-1024.9465C1590.7319,-1014.2621 1591.9838,-1002.4254 1593.1316,-991.5742\"/>\n<polygon fill=\"#000000\" stroke=\"#000000\" points=\"1596.6213,-991.8549 1594.1927,-981.5422 1589.6602,-991.1185 1596.6213,-991.8549\"/>\n</g>\n<!-- 88 -->\n<g id=\"node89\" class=\"node\">\n<title>88</title>\n<polygon fill=\"none\" stroke=\"#000000\" points=\"1769.5,-981.5 1668.5,-981.5 1668.5,-928.5 1769.5,-928.5 1769.5,-981.5\"/>\n<text text-anchor=\"middle\" x=\"1719\" y=\"-966.3\" font-family=\"Helvetica,sans-Serif\" font-size=\"14.00\" fill=\"#000000\">entropy = 0.0</text>\n<text text-anchor=\"middle\" x=\"1719\" y=\"-951.3\" font-family=\"Helvetica,sans-Serif\" font-size=\"14.00\" fill=\"#000000\">samples = 7</text>\n<text text-anchor=\"middle\" x=\"1719\" y=\"-936.3\" font-family=\"Helvetica,sans-Serif\" font-size=\"14.00\" fill=\"#000000\">value = [0, 7]</text>\n</g>\n<!-- 87&#45;&gt;88 -->\n<g id=\"edge88\" class=\"edge\">\n<title>87&#45;&gt;88</title>\n<path fill=\"none\" stroke=\"#000000\" d=\"M1727.0708,-1024.9465C1725.8379,-1014.2621 1724.4722,-1002.4254 1723.2201,-991.5742\"/>\n<polygon fill=\"#000000\" stroke=\"#000000\" points=\"1726.6858,-991.075 1722.0626,-981.5422 1719.732,-991.8775 1726.6858,-991.075\"/>\n</g>\n<!-- 89 -->\n<g id=\"node90\" class=\"node\">\n<title>89</title>\n<polygon fill=\"none\" stroke=\"#000000\" points=\"1906,-981.5 1788,-981.5 1788,-928.5 1906,-928.5 1906,-981.5\"/>\n<text text-anchor=\"middle\" x=\"1847\" y=\"-966.3\" font-family=\"Helvetica,sans-Serif\" font-size=\"14.00\" fill=\"#000000\">entropy = 0.954</text>\n<text text-anchor=\"middle\" x=\"1847\" y=\"-951.3\" font-family=\"Helvetica,sans-Serif\" font-size=\"14.00\" fill=\"#000000\">samples = 16</text>\n<text text-anchor=\"middle\" x=\"1847\" y=\"-936.3\" font-family=\"Helvetica,sans-Serif\" font-size=\"14.00\" fill=\"#000000\">value = [6, 10]</text>\n</g>\n<!-- 87&#45;&gt;89 -->\n<g id=\"edge89\" class=\"edge\">\n<title>87&#45;&gt;89</title>\n<path fill=\"none\" stroke=\"#000000\" d=\"M1768.9827,-1024.9465C1782.1286,-1013.1606 1796.8382,-999.9726 1809.9113,-988.2519\"/>\n<polygon fill=\"#000000\" stroke=\"#000000\" points=\"1812.286,-990.8236 1817.3953,-981.5422 1807.6131,-985.6116 1812.286,-990.8236\"/>\n</g>\n<!-- 91 -->\n<g id=\"node92\" class=\"node\">\n<title>91</title>\n<polygon fill=\"none\" stroke=\"#000000\" points=\"2104,-1093 1986,-1093 1986,-1025 2104,-1025 2104,-1093\"/>\n<text text-anchor=\"middle\" x=\"2045\" y=\"-1077.8\" font-family=\"Helvetica,sans-Serif\" font-size=\"14.00\" fill=\"#000000\">Age &lt;= 17.5</text>\n<text text-anchor=\"middle\" x=\"2045\" y=\"-1062.8\" font-family=\"Helvetica,sans-Serif\" font-size=\"14.00\" fill=\"#000000\">entropy = 0.996</text>\n<text text-anchor=\"middle\" x=\"2045\" y=\"-1047.8\" font-family=\"Helvetica,sans-Serif\" font-size=\"14.00\" fill=\"#000000\">samples = 26</text>\n<text text-anchor=\"middle\" x=\"2045\" y=\"-1032.8\" font-family=\"Helvetica,sans-Serif\" font-size=\"14.00\" fill=\"#000000\">value = [14, 12]</text>\n</g>\n<!-- 90&#45;&gt;91 -->\n<g id=\"edge91\" class=\"edge\">\n<title>90&#45;&gt;91</title>\n<path fill=\"none\" stroke=\"#000000\" d=\"M2045,-1128.9465C2045,-1120.776 2045,-1111.9318 2045,-1103.3697\"/>\n<polygon fill=\"#000000\" stroke=\"#000000\" points=\"2048.5001,-1103.13 2045,-1093.13 2041.5001,-1103.13 2048.5001,-1103.13\"/>\n</g>\n<!-- 94 -->\n<g id=\"node95\" class=\"node\">\n<title>94</title>\n<polygon fill=\"none\" stroke=\"#000000\" points=\"2324.5,-1093 2185.5,-1093 2185.5,-1025 2324.5,-1025 2324.5,-1093\"/>\n<text text-anchor=\"middle\" x=\"2255\" y=\"-1077.8\" font-family=\"Helvetica,sans-Serif\" font-size=\"14.00\" fill=\"#000000\">SystolicBP &lt;= 87.5</text>\n<text text-anchor=\"middle\" x=\"2255\" y=\"-1062.8\" font-family=\"Helvetica,sans-Serif\" font-size=\"14.00\" fill=\"#000000\">entropy = 0.559</text>\n<text text-anchor=\"middle\" x=\"2255\" y=\"-1047.8\" font-family=\"Helvetica,sans-Serif\" font-size=\"14.00\" fill=\"#000000\">samples = 23</text>\n<text text-anchor=\"middle\" x=\"2255\" y=\"-1032.8\" font-family=\"Helvetica,sans-Serif\" font-size=\"14.00\" fill=\"#000000\">value = [3, 20]</text>\n</g>\n<!-- 90&#45;&gt;94 -->\n<g id=\"edge94\" class=\"edge\">\n<title>90&#45;&gt;94</title>\n<path fill=\"none\" stroke=\"#000000\" d=\"M2104.0556,-1133.7534C2126.6456,-1122.566 2152.7697,-1109.6283 2176.8693,-1097.6933\"/>\n<polygon fill=\"#000000\" stroke=\"#000000\" points=\"2178.587,-1100.7484 2185.995,-1093.1739 2175.4804,-1094.4755 2178.587,-1100.7484\"/>\n</g>\n<!-- 92 -->\n<g id=\"node93\" class=\"node\">\n<title>92</title>\n<polygon fill=\"none\" stroke=\"#000000\" points=\"2042,-981.5 1924,-981.5 1924,-928.5 2042,-928.5 2042,-981.5\"/>\n<text text-anchor=\"middle\" x=\"1983\" y=\"-966.3\" font-family=\"Helvetica,sans-Serif\" font-size=\"14.00\" fill=\"#000000\">entropy = 0.874</text>\n<text text-anchor=\"middle\" x=\"1983\" y=\"-951.3\" font-family=\"Helvetica,sans-Serif\" font-size=\"14.00\" fill=\"#000000\">samples = 17</text>\n<text text-anchor=\"middle\" x=\"1983\" y=\"-936.3\" font-family=\"Helvetica,sans-Serif\" font-size=\"14.00\" fill=\"#000000\">value = [12, 5]</text>\n</g>\n<!-- 91&#45;&gt;92 -->\n<g id=\"edge92\" class=\"edge\">\n<title>91&#45;&gt;92</title>\n<path fill=\"none\" stroke=\"#000000\" d=\"M2024.6989,-1024.9465C2018.0666,-1013.8215 2010.6897,-1001.4473 2004.0067,-990.237\"/>\n<polygon fill=\"#000000\" stroke=\"#000000\" points=\"2006.9502,-988.3394 1998.8232,-981.5422 2000.9376,-991.9239 2006.9502,-988.3394\"/>\n</g>\n<!-- 93 -->\n<g id=\"node94\" class=\"node\">\n<title>93</title>\n<polygon fill=\"none\" stroke=\"#000000\" points=\"2178,-981.5 2060,-981.5 2060,-928.5 2178,-928.5 2178,-981.5\"/>\n<text text-anchor=\"middle\" x=\"2119\" y=\"-966.3\" font-family=\"Helvetica,sans-Serif\" font-size=\"14.00\" fill=\"#000000\">entropy = 0.764</text>\n<text text-anchor=\"middle\" x=\"2119\" y=\"-951.3\" font-family=\"Helvetica,sans-Serif\" font-size=\"14.00\" fill=\"#000000\">samples = 9</text>\n<text text-anchor=\"middle\" x=\"2119\" y=\"-936.3\" font-family=\"Helvetica,sans-Serif\" font-size=\"14.00\" fill=\"#000000\">value = [2, 7]</text>\n</g>\n<!-- 91&#45;&gt;93 -->\n<g id=\"edge93\" class=\"edge\">\n<title>91&#45;&gt;93</title>\n<path fill=\"none\" stroke=\"#000000\" d=\"M2069.2304,-1024.9465C2077.2246,-1013.7113 2086.1254,-1001.2021 2094.1642,-989.9043\"/>\n<polygon fill=\"#000000\" stroke=\"#000000\" points=\"2097.1684,-991.7192 2100.1142,-981.5422 2091.4649,-987.6609 2097.1684,-991.7192\"/>\n</g>\n<!-- 95 -->\n<g id=\"node96\" class=\"node\">\n<title>95</title>\n<polygon fill=\"none\" stroke=\"#000000\" points=\"2314,-981.5 2196,-981.5 2196,-928.5 2314,-928.5 2314,-981.5\"/>\n<text text-anchor=\"middle\" x=\"2255\" y=\"-966.3\" font-family=\"Helvetica,sans-Serif\" font-size=\"14.00\" fill=\"#000000\">entropy = 0.918</text>\n<text text-anchor=\"middle\" x=\"2255\" y=\"-951.3\" font-family=\"Helvetica,sans-Serif\" font-size=\"14.00\" fill=\"#000000\">samples = 3</text>\n<text text-anchor=\"middle\" x=\"2255\" y=\"-936.3\" font-family=\"Helvetica,sans-Serif\" font-size=\"14.00\" fill=\"#000000\">value = [2, 1]</text>\n</g>\n<!-- 94&#45;&gt;95 -->\n<g id=\"edge95\" class=\"edge\">\n<title>94&#45;&gt;95</title>\n<path fill=\"none\" stroke=\"#000000\" d=\"M2255,-1024.9465C2255,-1014.2621 2255,-1002.4254 2255,-991.5742\"/>\n<polygon fill=\"#000000\" stroke=\"#000000\" points=\"2258.5001,-991.5421 2255,-981.5422 2251.5001,-991.5422 2258.5001,-991.5421\"/>\n</g>\n<!-- 96 -->\n<g id=\"node97\" class=\"node\">\n<title>96</title>\n<polygon fill=\"none\" stroke=\"#000000\" points=\"2475.5,-989 2332.5,-989 2332.5,-921 2475.5,-921 2475.5,-989\"/>\n<text text-anchor=\"middle\" x=\"2404\" y=\"-973.8\" font-family=\"Helvetica,sans-Serif\" font-size=\"14.00\" fill=\"#000000\">DiastolicBP &lt;= 61.5</text>\n<text text-anchor=\"middle\" x=\"2404\" y=\"-958.8\" font-family=\"Helvetica,sans-Serif\" font-size=\"14.00\" fill=\"#000000\">entropy = 0.286</text>\n<text text-anchor=\"middle\" x=\"2404\" y=\"-943.8\" font-family=\"Helvetica,sans-Serif\" font-size=\"14.00\" fill=\"#000000\">samples = 20</text>\n<text text-anchor=\"middle\" x=\"2404\" y=\"-928.8\" font-family=\"Helvetica,sans-Serif\" font-size=\"14.00\" fill=\"#000000\">value = [1, 19]</text>\n</g>\n<!-- 94&#45;&gt;96 -->\n<g id=\"edge96\" class=\"edge\">\n<title>94&#45;&gt;96</title>\n<path fill=\"none\" stroke=\"#000000\" d=\"M2303.7882,-1024.9465C2317.5521,-1015.3395 2332.6506,-1004.8009 2346.8574,-994.8848\"/>\n<polygon fill=\"#000000\" stroke=\"#000000\" points=\"2348.9054,-997.7236 2355.1022,-989.13 2344.8989,-991.9835 2348.9054,-997.7236\"/>\n</g>\n<!-- 97 -->\n<g id=\"node98\" class=\"node\">\n<title>97</title>\n<polygon fill=\"none\" stroke=\"#000000\" points=\"2397,-877.5 2279,-877.5 2279,-824.5 2397,-824.5 2397,-877.5\"/>\n<text text-anchor=\"middle\" x=\"2338\" y=\"-862.3\" font-family=\"Helvetica,sans-Serif\" font-size=\"14.00\" fill=\"#000000\">entropy = 0.592</text>\n<text text-anchor=\"middle\" x=\"2338\" y=\"-847.3\" font-family=\"Helvetica,sans-Serif\" font-size=\"14.00\" fill=\"#000000\">samples = 7</text>\n<text text-anchor=\"middle\" x=\"2338\" y=\"-832.3\" font-family=\"Helvetica,sans-Serif\" font-size=\"14.00\" fill=\"#000000\">value = [1, 6]</text>\n</g>\n<!-- 96&#45;&gt;97 -->\n<g id=\"edge97\" class=\"edge\">\n<title>96&#45;&gt;97</title>\n<path fill=\"none\" stroke=\"#000000\" d=\"M2382.3891,-920.9465C2375.329,-909.8215 2367.4761,-897.4473 2360.3619,-886.237\"/>\n<polygon fill=\"#000000\" stroke=\"#000000\" points=\"2363.1575,-884.1101 2354.8441,-877.5422 2357.2472,-887.8609 2363.1575,-884.1101\"/>\n</g>\n<!-- 98 -->\n<g id=\"node99\" class=\"node\">\n<title>98</title>\n<polygon fill=\"none\" stroke=\"#000000\" points=\"2522.5,-877.5 2415.5,-877.5 2415.5,-824.5 2522.5,-824.5 2522.5,-877.5\"/>\n<text text-anchor=\"middle\" x=\"2469\" y=\"-862.3\" font-family=\"Helvetica,sans-Serif\" font-size=\"14.00\" fill=\"#000000\">entropy = 0.0</text>\n<text text-anchor=\"middle\" x=\"2469\" y=\"-847.3\" font-family=\"Helvetica,sans-Serif\" font-size=\"14.00\" fill=\"#000000\">samples = 13</text>\n<text text-anchor=\"middle\" x=\"2469\" y=\"-832.3\" font-family=\"Helvetica,sans-Serif\" font-size=\"14.00\" fill=\"#000000\">value = [0, 13]</text>\n</g>\n<!-- 96&#45;&gt;98 -->\n<g id=\"edge98\" class=\"edge\">\n<title>96&#45;&gt;98</title>\n<path fill=\"none\" stroke=\"#000000\" d=\"M2425.2834,-920.9465C2432.2366,-909.8215 2439.9705,-897.4473 2446.9769,-886.237\"/>\n<polygon fill=\"#000000\" stroke=\"#000000\" points=\"2450.0791,-887.8772 2452.4111,-877.5422 2444.1431,-884.1671 2450.0791,-887.8772\"/>\n</g>\n<!-- 101 -->\n<g id=\"node102\" class=\"node\">\n<title>101</title>\n<polygon fill=\"none\" stroke=\"#000000\" points=\"1853,-1397.5 1737,-1397.5 1737,-1344.5 1853,-1344.5 1853,-1397.5\"/>\n<text text-anchor=\"middle\" x=\"1795\" y=\"-1382.3\" font-family=\"Helvetica,sans-Serif\" font-size=\"14.00\" fill=\"#000000\">entropy = 0.0</text>\n<text text-anchor=\"middle\" x=\"1795\" y=\"-1367.3\" font-family=\"Helvetica,sans-Serif\" font-size=\"14.00\" fill=\"#000000\">samples = 139</text>\n<text text-anchor=\"middle\" x=\"1795\" y=\"-1352.3\" font-family=\"Helvetica,sans-Serif\" font-size=\"14.00\" fill=\"#000000\">value = [0, 139]</text>\n</g>\n<!-- 100&#45;&gt;101 -->\n<g id=\"edge101\" class=\"edge\">\n<title>100&#45;&gt;101</title>\n<path fill=\"none\" stroke=\"#000000\" d=\"M1799.7079,-1440.9465C1798.9888,-1430.2621 1798.1921,-1418.4254 1797.4617,-1407.5742\"/>\n<polygon fill=\"#000000\" stroke=\"#000000\" points=\"1800.9502,-1407.2845 1796.7865,-1397.5422 1793.966,-1407.7547 1800.9502,-1407.2845\"/>\n</g>\n<!-- 102 -->\n<g id=\"node103\" class=\"node\">\n<title>102</title>\n<polygon fill=\"none\" stroke=\"#000000\" points=\"2014.5,-1405 1871.5,-1405 1871.5,-1337 2014.5,-1337 2014.5,-1405\"/>\n<text text-anchor=\"middle\" x=\"1943\" y=\"-1389.8\" font-family=\"Helvetica,sans-Serif\" font-size=\"14.00\" fill=\"#000000\">DiastolicBP &lt;= 85.0</text>\n<text text-anchor=\"middle\" x=\"1943\" y=\"-1374.8\" font-family=\"Helvetica,sans-Serif\" font-size=\"14.00\" fill=\"#000000\">entropy = 0.446</text>\n<text text-anchor=\"middle\" x=\"1943\" y=\"-1359.8\" font-family=\"Helvetica,sans-Serif\" font-size=\"14.00\" fill=\"#000000\">samples = 43</text>\n<text text-anchor=\"middle\" x=\"1943\" y=\"-1344.8\" font-family=\"Helvetica,sans-Serif\" font-size=\"14.00\" fill=\"#000000\">value = [4, 39]</text>\n</g>\n<!-- 100&#45;&gt;102 -->\n<g id=\"edge102\" class=\"edge\">\n<title>100&#45;&gt;102</title>\n<path fill=\"none\" stroke=\"#000000\" d=\"M1848.1687,-1440.9465C1861.0719,-1431.4293 1875.2145,-1420.9978 1888.5483,-1411.163\"/>\n<polygon fill=\"#000000\" stroke=\"#000000\" points=\"1890.7575,-1413.8826 1896.7276,-1405.13 1886.6023,-1408.2492 1890.7575,-1413.8826\"/>\n</g>\n<!-- 103 -->\n<g id=\"node104\" class=\"node\">\n<title>103</title>\n<polygon fill=\"none\" stroke=\"#000000\" points=\"1936,-1293.5 1818,-1293.5 1818,-1240.5 1936,-1240.5 1936,-1293.5\"/>\n<text text-anchor=\"middle\" x=\"1877\" y=\"-1278.3\" font-family=\"Helvetica,sans-Serif\" font-size=\"14.00\" fill=\"#000000\">entropy = 0.787</text>\n<text text-anchor=\"middle\" x=\"1877\" y=\"-1263.3\" font-family=\"Helvetica,sans-Serif\" font-size=\"14.00\" fill=\"#000000\">samples = 17</text>\n<text text-anchor=\"middle\" x=\"1877\" y=\"-1248.3\" font-family=\"Helvetica,sans-Serif\" font-size=\"14.00\" fill=\"#000000\">value = [4, 13]</text>\n</g>\n<!-- 102&#45;&gt;103 -->\n<g id=\"edge103\" class=\"edge\">\n<title>102&#45;&gt;103</title>\n<path fill=\"none\" stroke=\"#000000\" d=\"M1921.3891,-1336.9465C1914.329,-1325.8215 1906.4761,-1313.4473 1899.3619,-1302.237\"/>\n<polygon fill=\"#000000\" stroke=\"#000000\" points=\"1902.1575,-1300.1101 1893.8441,-1293.5422 1896.2472,-1303.8609 1902.1575,-1300.1101\"/>\n</g>\n<!-- 104 -->\n<g id=\"node105\" class=\"node\">\n<title>104</title>\n<polygon fill=\"none\" stroke=\"#000000\" points=\"2061.5,-1293.5 1954.5,-1293.5 1954.5,-1240.5 2061.5,-1240.5 2061.5,-1293.5\"/>\n<text text-anchor=\"middle\" x=\"2008\" y=\"-1278.3\" font-family=\"Helvetica,sans-Serif\" font-size=\"14.00\" fill=\"#000000\">entropy = 0.0</text>\n<text text-anchor=\"middle\" x=\"2008\" y=\"-1263.3\" font-family=\"Helvetica,sans-Serif\" font-size=\"14.00\" fill=\"#000000\">samples = 26</text>\n<text text-anchor=\"middle\" x=\"2008\" y=\"-1248.3\" font-family=\"Helvetica,sans-Serif\" font-size=\"14.00\" fill=\"#000000\">value = [0, 26]</text>\n</g>\n<!-- 102&#45;&gt;104 -->\n<g id=\"edge104\" class=\"edge\">\n<title>102&#45;&gt;104</title>\n<path fill=\"none\" stroke=\"#000000\" d=\"M1964.2834,-1336.9465C1971.2366,-1325.8215 1978.9705,-1313.4473 1985.9769,-1302.237\"/>\n<polygon fill=\"#000000\" stroke=\"#000000\" points=\"1989.0791,-1303.8772 1991.4111,-1293.5422 1983.1431,-1300.1671 1989.0791,-1303.8772\"/>\n</g>\n</g>\n</svg>\n"
          },
          "metadata": {},
          "execution_count": 22
        }
      ]
    },
    {
      "cell_type": "markdown",
      "source": [
        "**Validacion cruzada en un arbol de clasficacion **"
      ],
      "metadata": {
        "id": "BfTKTbxKp-CT"
      }
    },
    {
      "cell_type": "code",
      "source": [
        "X = data[predictors]\n",
        "Y = data[target]"
      ],
      "metadata": {
        "id": "q25lza1WqLMu"
      },
      "execution_count": null,
      "outputs": []
    },
    {
      "cell_type": "code",
      "source": [
        "#Para combatir el overfitting, lo mejor es podar el arbol\n",
        "tree = DecisionTreeClassifier(criterion=\"entropy\", max_depth=5, min_samples_split=20, random_state=99)\n",
        "tree.fit(X,Y)"
      ],
      "metadata": {
        "colab": {
          "base_uri": "https://localhost:8080/"
        },
        "id": "DypIPdvXqRZ-",
        "outputId": "157018d0-6d23-4c29-99e6-5dde29572daa"
      },
      "execution_count": null,
      "outputs": [
        {
          "output_type": "execute_result",
          "data": {
            "text/plain": [
              "DecisionTreeClassifier(criterion='entropy', max_depth=5, min_samples_split=20,\n",
              "                       random_state=99)"
            ]
          },
          "metadata": {},
          "execution_count": 24
        }
      ]
    },
    {
      "cell_type": "code",
      "source": [
        "from sklearn.model_selection import KFold\n",
        "cv = KFold(n_splits= X.shape[0], shuffle=True, random_state=1)\n",
        "from sklearn.model_selection import cross_val_score\n",
        "scores = cross_val_score(tree, X, Y, scoring=\"accuracy\", cv = cv, n_jobs=1)\n",
        "scores"
      ],
      "metadata": {
        "colab": {
          "base_uri": "https://localhost:8080/"
        },
        "id": "TD3UzcS8qfh2",
        "outputId": "73a9ddad-21bc-46e3-d4ad-949a60068d11"
      },
      "execution_count": null,
      "outputs": [
        {
          "output_type": "execute_result",
          "data": {
            "text/plain": [
              "array([1., 1., 1., ..., 1., 1., 1.])"
            ]
          },
          "metadata": {},
          "execution_count": 25
        }
      ]
    },
    {
      "cell_type": "code",
      "source": [
        "# aqui obtenemos el promedios de la eficacia para cada fold\n",
        "score = np.mean(scores)\n",
        "score"
      ],
      "metadata": {
        "colab": {
          "base_uri": "https://localhost:8080/"
        },
        "id": "9SDsMP7Dq0Ll",
        "outputId": "7f765c98-fa82-4874-a131-86f8d5001271"
      },
      "execution_count": null,
      "outputs": [
        {
          "output_type": "execute_result",
          "data": {
            "text/plain": [
              "0.7859960552268245"
            ]
          },
          "metadata": {},
          "execution_count": 26
        }
      ]
    },
    {
      "cell_type": "code",
      "source": [
        "for i in range(1,11):\n",
        "    tree = DecisionTreeClassifier(criterion=\"entropy\", max_depth=i, min_samples_split=20, random_state=99)\n",
        "    tree.fit(X,Y)\n",
        "    cv = KFold(n_splits= X.shape[0], shuffle=True, random_state=1)\n",
        "    scores = cross_val_score(tree, X, Y, scoring=\"accuracy\", cv = cv, n_jobs=1)\n",
        "    score = np.mean(scores)\n",
        "    print(\"Score para i = \",i,\" es de \", score)\n",
        "    print(\"   \",tree.feature_importances_)"
      ],
      "metadata": {
        "colab": {
          "base_uri": "https://localhost:8080/"
        },
        "id": "JuVZF5CZuH0f",
        "outputId": "933fe0ef-bec7-4799-e758-748270df4b91"
      },
      "execution_count": null,
      "outputs": [
        {
          "output_type": "stream",
          "name": "stdout",
          "text": [
            "Score para i =  1  es de  0.626232741617357\n",
            "    [0. 0. 0. 1. 0. 0.]\n",
            "Score para i =  2  es de  0.7080867850098619\n",
            "    [0.         0.32200428 0.         0.67799572 0.         0.        ]\n",
            "Score para i =  3  es de  0.772189349112426\n",
            "    [0.         0.27181827 0.02077029 0.57232663 0.13508481 0.        ]\n",
            "Score para i =  4  es de  0.772189349112426\n",
            "    [0.         0.23481075 0.03314717 0.6153488  0.11669328 0.        ]\n",
            "Score para i =  5  es de  0.7859960552268245\n",
            "    [0.         0.23017601 0.05490594 0.58959887 0.12531918 0.        ]\n",
            "Score para i =  6  es de  0.8027613412228797\n",
            "    [0.03136029 0.20912879 0.07023857 0.56122051 0.11386004 0.01419181]\n",
            "Score para i =  7  es de  0.8195266272189349\n",
            "    [0.02580351 0.19527392 0.10981463 0.5318224  0.10631676 0.03096878]\n",
            "Score para i =  8  es de  0.8284023668639053\n",
            "    [0.03927823 0.20730151 0.10432047 0.50521467 0.1009976  0.04288752]\n",
            "Score para i =  9  es de  0.7928994082840237\n",
            "    [0.06969455 0.20598055 0.10741167 0.48498596 0.09615022 0.03577704]\n",
            "Score para i =  10  es de  0.8362919132149902\n",
            "    [0.07841538 0.19249195 0.10574725 0.46997825 0.08985384 0.06351333]\n"
          ]
        }
      ]
    },
    {
      "cell_type": "markdown",
      "source": [
        "Arboles de regresion"
      ],
      "metadata": {
        "id": "gdu9reIWw0vK"
      }
    },
    {
      "cell_type": "code",
      "source": [
        "#Intentaremos predecir la votacion de Trump en las elecciones del 2016"
      ],
      "metadata": {
        "id": "DACP7LIgxGAO"
      },
      "execution_count": null,
      "outputs": []
    },
    {
      "cell_type": "code",
      "source": [
        "import pandas as pd\n",
        "\n",
        "votacion = pd.read_csv('/content/votaciones_usa.csv')\n",
        "del votacion['Unnamed: 0']\n",
        "votacion.head() "
      ],
      "metadata": {
        "colab": {
          "base_uri": "https://localhost:8080/",
          "height": 206
        },
        "id": "SstokO1k593l",
        "outputId": "1e1d1e01-b05e-4390-ce0c-0293d7a837ac"
      },
      "execution_count": null,
      "outputs": [
        {
          "output_type": "execute_result",
          "data": {
            "text/html": [
              "\n",
              "  <div id=\"df-1749fab7-1ae1-4fb2-a7e9-c59ab0e5b029\">\n",
              "    <div class=\"colab-df-container\">\n",
              "      <div>\n",
              "<style scoped>\n",
              "    .dataframe tbody tr th:only-of-type {\n",
              "        vertical-align: middle;\n",
              "    }\n",
              "\n",
              "    .dataframe tbody tr th {\n",
              "        vertical-align: top;\n",
              "    }\n",
              "\n",
              "    .dataframe thead th {\n",
              "        text-align: right;\n",
              "    }\n",
              "</style>\n",
              "<table border=\"1\" class=\"dataframe\">\n",
              "  <thead>\n",
              "    <tr style=\"text-align: right;\">\n",
              "      <th></th>\n",
              "      <th>votacion_trump</th>\n",
              "      <th>homicidios</th>\n",
              "      <th>crimen_violento</th>\n",
              "      <th>desempleo</th>\n",
              "      <th>blancos</th>\n",
              "      <th>hispanos</th>\n",
              "      <th>afros</th>\n",
              "    </tr>\n",
              "  </thead>\n",
              "  <tbody>\n",
              "    <tr>\n",
              "      <th>0</th>\n",
              "      <td>6733</td>\n",
              "      <td>7.65</td>\n",
              "      <td>254.24</td>\n",
              "      <td>0.076</td>\n",
              "      <td>75.20</td>\n",
              "      <td>1.35</td>\n",
              "      <td>22.50</td>\n",
              "    </tr>\n",
              "    <tr>\n",
              "      <th>1</th>\n",
              "      <td>10732</td>\n",
              "      <td>6.67</td>\n",
              "      <td>227.97</td>\n",
              "      <td>0.081</td>\n",
              "      <td>77.20</td>\n",
              "      <td>1.70</td>\n",
              "      <td>11.75</td>\n",
              "    </tr>\n",
              "    <tr>\n",
              "      <th>2</th>\n",
              "      <td>31579</td>\n",
              "      <td>5.31</td>\n",
              "      <td>183.47</td>\n",
              "      <td>0.064</td>\n",
              "      <td>87.60</td>\n",
              "      <td>1.80</td>\n",
              "      <td>8.65</td>\n",
              "    </tr>\n",
              "    <tr>\n",
              "      <th>3</th>\n",
              "      <td>7681</td>\n",
              "      <td>6.76</td>\n",
              "      <td>410.17</td>\n",
              "      <td>0.070</td>\n",
              "      <td>58.05</td>\n",
              "      <td>1.95</td>\n",
              "      <td>36.65</td>\n",
              "    </tr>\n",
              "    <tr>\n",
              "      <th>4</th>\n",
              "      <td>5224</td>\n",
              "      <td>6.67</td>\n",
              "      <td>449.40</td>\n",
              "      <td>0.094</td>\n",
              "      <td>46.00</td>\n",
              "      <td>1.05</td>\n",
              "      <td>52.15</td>\n",
              "    </tr>\n",
              "  </tbody>\n",
              "</table>\n",
              "</div>\n",
              "      <button class=\"colab-df-convert\" onclick=\"convertToInteractive('df-1749fab7-1ae1-4fb2-a7e9-c59ab0e5b029')\"\n",
              "              title=\"Convert this dataframe to an interactive table.\"\n",
              "              style=\"display:none;\">\n",
              "        \n",
              "  <svg xmlns=\"http://www.w3.org/2000/svg\" height=\"24px\"viewBox=\"0 0 24 24\"\n",
              "       width=\"24px\">\n",
              "    <path d=\"M0 0h24v24H0V0z\" fill=\"none\"/>\n",
              "    <path d=\"M18.56 5.44l.94 2.06.94-2.06 2.06-.94-2.06-.94-.94-2.06-.94 2.06-2.06.94zm-11 1L8.5 8.5l.94-2.06 2.06-.94-2.06-.94L8.5 2.5l-.94 2.06-2.06.94zm10 10l.94 2.06.94-2.06 2.06-.94-2.06-.94-.94-2.06-.94 2.06-2.06.94z\"/><path d=\"M17.41 7.96l-1.37-1.37c-.4-.4-.92-.59-1.43-.59-.52 0-1.04.2-1.43.59L10.3 9.45l-7.72 7.72c-.78.78-.78 2.05 0 2.83L4 21.41c.39.39.9.59 1.41.59.51 0 1.02-.2 1.41-.59l7.78-7.78 2.81-2.81c.8-.78.8-2.07 0-2.86zM5.41 20L4 18.59l7.72-7.72 1.47 1.35L5.41 20z\"/>\n",
              "  </svg>\n",
              "      </button>\n",
              "      \n",
              "  <style>\n",
              "    .colab-df-container {\n",
              "      display:flex;\n",
              "      flex-wrap:wrap;\n",
              "      gap: 12px;\n",
              "    }\n",
              "\n",
              "    .colab-df-convert {\n",
              "      background-color: #E8F0FE;\n",
              "      border: none;\n",
              "      border-radius: 50%;\n",
              "      cursor: pointer;\n",
              "      display: none;\n",
              "      fill: #1967D2;\n",
              "      height: 32px;\n",
              "      padding: 0 0 0 0;\n",
              "      width: 32px;\n",
              "    }\n",
              "\n",
              "    .colab-df-convert:hover {\n",
              "      background-color: #E2EBFA;\n",
              "      box-shadow: 0px 1px 2px rgba(60, 64, 67, 0.3), 0px 1px 3px 1px rgba(60, 64, 67, 0.15);\n",
              "      fill: #174EA6;\n",
              "    }\n",
              "\n",
              "    [theme=dark] .colab-df-convert {\n",
              "      background-color: #3B4455;\n",
              "      fill: #D2E3FC;\n",
              "    }\n",
              "\n",
              "    [theme=dark] .colab-df-convert:hover {\n",
              "      background-color: #434B5C;\n",
              "      box-shadow: 0px 1px 3px 1px rgba(0, 0, 0, 0.15);\n",
              "      filter: drop-shadow(0px 1px 2px rgba(0, 0, 0, 0.3));\n",
              "      fill: #FFFFFF;\n",
              "    }\n",
              "  </style>\n",
              "\n",
              "      <script>\n",
              "        const buttonEl =\n",
              "          document.querySelector('#df-1749fab7-1ae1-4fb2-a7e9-c59ab0e5b029 button.colab-df-convert');\n",
              "        buttonEl.style.display =\n",
              "          google.colab.kernel.accessAllowed ? 'block' : 'none';\n",
              "\n",
              "        async function convertToInteractive(key) {\n",
              "          const element = document.querySelector('#df-1749fab7-1ae1-4fb2-a7e9-c59ab0e5b029');\n",
              "          const dataTable =\n",
              "            await google.colab.kernel.invokeFunction('convertToInteractive',\n",
              "                                                     [key], {});\n",
              "          if (!dataTable) return;\n",
              "\n",
              "          const docLinkHtml = 'Like what you see? Visit the ' +\n",
              "            '<a target=\"_blank\" href=https://colab.research.google.com/notebooks/data_table.ipynb>data table notebook</a>'\n",
              "            + ' to learn more about interactive tables.';\n",
              "          element.innerHTML = '';\n",
              "          dataTable['output_type'] = 'display_data';\n",
              "          await google.colab.output.renderOutput(dataTable, element);\n",
              "          const docLink = document.createElement('div');\n",
              "          docLink.innerHTML = docLinkHtml;\n",
              "          element.appendChild(docLink);\n",
              "        }\n",
              "      </script>\n",
              "    </div>\n",
              "  </div>\n",
              "  "
            ],
            "text/plain": [
              "   votacion_trump  homicidios  crimen_violento  ...  blancos  hispanos  afros\n",
              "0            6733        7.65           254.24  ...    75.20      1.35  22.50\n",
              "1           10732        6.67           227.97  ...    77.20      1.70  11.75\n",
              "2           31579        5.31           183.47  ...    87.60      1.80   8.65\n",
              "3            7681        6.76           410.17  ...    58.05      1.95  36.65\n",
              "4            5224        6.67           449.40  ...    46.00      1.05  52.15\n",
              "\n",
              "[5 rows x 7 columns]"
            ]
          },
          "metadata": {},
          "execution_count": 1
        }
      ]
    },
    {
      "cell_type": "code",
      "source": [
        "#escalaremos los datos\n",
        "import sklearn\n",
        "from sklearn.model_selection import train_test_split\n",
        "scale_vars = ['votacion_trump',\t'homicidios','crimen_violento',\t'desempleo','blancos'\t,'hispanos','afros']\n",
        "scaler = sklearn.preprocessing.StandardScaler() \n",
        "votacion[scale_vars] = scaler.fit_transform(votacion[scale_vars])\n",
        "votacion.head()\n"
      ],
      "metadata": {
        "colab": {
          "base_uri": "https://localhost:8080/",
          "height": 206
        },
        "id": "mVmj3Ys7f4fR",
        "outputId": "b28071fc-367a-4b57-ee11-61b064939cfc"
      },
      "execution_count": null,
      "outputs": [
        {
          "output_type": "execute_result",
          "data": {
            "text/html": [
              "\n",
              "  <div id=\"df-f26dc406-39a1-41ff-a23f-b9d312ea7953\">\n",
              "    <div class=\"colab-df-container\">\n",
              "      <div>\n",
              "<style scoped>\n",
              "    .dataframe tbody tr th:only-of-type {\n",
              "        vertical-align: middle;\n",
              "    }\n",
              "\n",
              "    .dataframe tbody tr th {\n",
              "        vertical-align: top;\n",
              "    }\n",
              "\n",
              "    .dataframe thead th {\n",
              "        text-align: right;\n",
              "    }\n",
              "</style>\n",
              "<table border=\"1\" class=\"dataframe\">\n",
              "  <thead>\n",
              "    <tr style=\"text-align: right;\">\n",
              "      <th></th>\n",
              "      <th>votacion_trump</th>\n",
              "      <th>homicidios</th>\n",
              "      <th>crimen_violento</th>\n",
              "      <th>desempleo</th>\n",
              "      <th>blancos</th>\n",
              "      <th>hispanos</th>\n",
              "      <th>afros</th>\n",
              "    </tr>\n",
              "  </thead>\n",
              "  <tbody>\n",
              "    <tr>\n",
              "      <th>0</th>\n",
              "      <td>-0.596576</td>\n",
              "      <td>0.336304</td>\n",
              "      <td>-0.498433</td>\n",
              "      <td>-0.330339</td>\n",
              "      <td>0.207141</td>\n",
              "      <td>-0.618452</td>\n",
              "      <td>0.519854</td>\n",
              "    </tr>\n",
              "    <tr>\n",
              "      <th>1</th>\n",
              "      <td>-0.527779</td>\n",
              "      <td>0.119482</td>\n",
              "      <td>-0.612698</td>\n",
              "      <td>-0.130239</td>\n",
              "      <td>0.311707</td>\n",
              "      <td>-0.591822</td>\n",
              "      <td>-0.148642</td>\n",
              "    </tr>\n",
              "    <tr>\n",
              "      <th>2</th>\n",
              "      <td>-0.169135</td>\n",
              "      <td>-0.181413</td>\n",
              "      <td>-0.806258</td>\n",
              "      <td>-0.810579</td>\n",
              "      <td>0.855450</td>\n",
              "      <td>-0.584213</td>\n",
              "      <td>-0.341418</td>\n",
              "    </tr>\n",
              "    <tr>\n",
              "      <th>3</th>\n",
              "      <td>-0.580267</td>\n",
              "      <td>0.139394</td>\n",
              "      <td>0.179807</td>\n",
              "      <td>-0.570459</td>\n",
              "      <td>-0.689511</td>\n",
              "      <td>-0.572800</td>\n",
              "      <td>1.399780</td>\n",
              "    </tr>\n",
              "    <tr>\n",
              "      <th>4</th>\n",
              "      <td>-0.622536</td>\n",
              "      <td>0.119482</td>\n",
              "      <td>0.350444</td>\n",
              "      <td>0.390022</td>\n",
              "      <td>-1.319520</td>\n",
              "      <td>-0.641279</td>\n",
              "      <td>2.363658</td>\n",
              "    </tr>\n",
              "  </tbody>\n",
              "</table>\n",
              "</div>\n",
              "      <button class=\"colab-df-convert\" onclick=\"convertToInteractive('df-f26dc406-39a1-41ff-a23f-b9d312ea7953')\"\n",
              "              title=\"Convert this dataframe to an interactive table.\"\n",
              "              style=\"display:none;\">\n",
              "        \n",
              "  <svg xmlns=\"http://www.w3.org/2000/svg\" height=\"24px\"viewBox=\"0 0 24 24\"\n",
              "       width=\"24px\">\n",
              "    <path d=\"M0 0h24v24H0V0z\" fill=\"none\"/>\n",
              "    <path d=\"M18.56 5.44l.94 2.06.94-2.06 2.06-.94-2.06-.94-.94-2.06-.94 2.06-2.06.94zm-11 1L8.5 8.5l.94-2.06 2.06-.94-2.06-.94L8.5 2.5l-.94 2.06-2.06.94zm10 10l.94 2.06.94-2.06 2.06-.94-2.06-.94-.94-2.06-.94 2.06-2.06.94z\"/><path d=\"M17.41 7.96l-1.37-1.37c-.4-.4-.92-.59-1.43-.59-.52 0-1.04.2-1.43.59L10.3 9.45l-7.72 7.72c-.78.78-.78 2.05 0 2.83L4 21.41c.39.39.9.59 1.41.59.51 0 1.02-.2 1.41-.59l7.78-7.78 2.81-2.81c.8-.78.8-2.07 0-2.86zM5.41 20L4 18.59l7.72-7.72 1.47 1.35L5.41 20z\"/>\n",
              "  </svg>\n",
              "      </button>\n",
              "      \n",
              "  <style>\n",
              "    .colab-df-container {\n",
              "      display:flex;\n",
              "      flex-wrap:wrap;\n",
              "      gap: 12px;\n",
              "    }\n",
              "\n",
              "    .colab-df-convert {\n",
              "      background-color: #E8F0FE;\n",
              "      border: none;\n",
              "      border-radius: 50%;\n",
              "      cursor: pointer;\n",
              "      display: none;\n",
              "      fill: #1967D2;\n",
              "      height: 32px;\n",
              "      padding: 0 0 0 0;\n",
              "      width: 32px;\n",
              "    }\n",
              "\n",
              "    .colab-df-convert:hover {\n",
              "      background-color: #E2EBFA;\n",
              "      box-shadow: 0px 1px 2px rgba(60, 64, 67, 0.3), 0px 1px 3px 1px rgba(60, 64, 67, 0.15);\n",
              "      fill: #174EA6;\n",
              "    }\n",
              "\n",
              "    [theme=dark] .colab-df-convert {\n",
              "      background-color: #3B4455;\n",
              "      fill: #D2E3FC;\n",
              "    }\n",
              "\n",
              "    [theme=dark] .colab-df-convert:hover {\n",
              "      background-color: #434B5C;\n",
              "      box-shadow: 0px 1px 3px 1px rgba(0, 0, 0, 0.15);\n",
              "      filter: drop-shadow(0px 1px 2px rgba(0, 0, 0, 0.3));\n",
              "      fill: #FFFFFF;\n",
              "    }\n",
              "  </style>\n",
              "\n",
              "      <script>\n",
              "        const buttonEl =\n",
              "          document.querySelector('#df-f26dc406-39a1-41ff-a23f-b9d312ea7953 button.colab-df-convert');\n",
              "        buttonEl.style.display =\n",
              "          google.colab.kernel.accessAllowed ? 'block' : 'none';\n",
              "\n",
              "        async function convertToInteractive(key) {\n",
              "          const element = document.querySelector('#df-f26dc406-39a1-41ff-a23f-b9d312ea7953');\n",
              "          const dataTable =\n",
              "            await google.colab.kernel.invokeFunction('convertToInteractive',\n",
              "                                                     [key], {});\n",
              "          if (!dataTable) return;\n",
              "\n",
              "          const docLinkHtml = 'Like what you see? Visit the ' +\n",
              "            '<a target=\"_blank\" href=https://colab.research.google.com/notebooks/data_table.ipynb>data table notebook</a>'\n",
              "            + ' to learn more about interactive tables.';\n",
              "          element.innerHTML = '';\n",
              "          dataTable['output_type'] = 'display_data';\n",
              "          await google.colab.output.renderOutput(dataTable, element);\n",
              "          const docLink = document.createElement('div');\n",
              "          docLink.innerHTML = docLinkHtml;\n",
              "          element.appendChild(docLink);\n",
              "        }\n",
              "      </script>\n",
              "    </div>\n",
              "  </div>\n",
              "  "
            ],
            "text/plain": [
              "   votacion_trump  homicidios  crimen_violento  ...   blancos  hispanos     afros\n",
              "0       -0.596576    0.336304        -0.498433  ...  0.207141 -0.618452  0.519854\n",
              "1       -0.527779    0.119482        -0.612698  ...  0.311707 -0.591822 -0.148642\n",
              "2       -0.169135   -0.181413        -0.806258  ...  0.855450 -0.584213 -0.341418\n",
              "3       -0.580267    0.139394         0.179807  ... -0.689511 -0.572800  1.399780\n",
              "4       -0.622536    0.119482         0.350444  ... -1.319520 -0.641279  2.363658\n",
              "\n",
              "[5 rows x 7 columns]"
            ]
          },
          "metadata": {},
          "execution_count": 2
        }
      ]
    },
    {
      "cell_type": "code",
      "source": [
        "#separamos las variables predictoras de la dependiente\n",
        "colnames = votacion.columns.values.tolist()\n",
        "predictors = ['homicidios','crimen_violento','desempleo','blancos','hispanos','afros']\n",
        "target = colnames[0]\n",
        "X = votacion[predictors]\n",
        "Y = votacion[target]\n",
        "predictors"
      ],
      "metadata": {
        "colab": {
          "base_uri": "https://localhost:8080/"
        },
        "id": "tJhL-g_N597_",
        "outputId": "a45aea1c-69e3-4e20-835e-1dc91e9c7838"
      },
      "execution_count": null,
      "outputs": [
        {
          "output_type": "execute_result",
          "data": {
            "text/plain": [
              "['homicidios', 'crimen_violento', 'desempleo', 'blancos', 'hispanos', 'afros']"
            ]
          },
          "metadata": {},
          "execution_count": 3
        }
      ]
    },
    {
      "cell_type": "code",
      "source": [
        "from sklearn.tree import DecisionTreeRegressor\n",
        "regtree = DecisionTreeRegressor(min_samples_split=50, min_samples_leaf=50, max_depth=5, random_state=0)\n",
        "regtree.fit(X,Y)"
      ],
      "metadata": {
        "colab": {
          "base_uri": "https://localhost:8080/"
        },
        "id": "YUvq5E5s-Nzi",
        "outputId": "4b5cfbd8-6b64-4f3f-f85b-226c085dacd9"
      },
      "execution_count": null,
      "outputs": [
        {
          "output_type": "execute_result",
          "data": {
            "text/plain": [
              "DecisionTreeRegressor(max_depth=5, min_samples_leaf=50, min_samples_split=50,\n",
              "                      random_state=0)"
            ]
          },
          "metadata": {},
          "execution_count": 4
        }
      ]
    },
    {
      "cell_type": "code",
      "source": [
        "preds = regtree.predict(votacion[predictors])\n",
        "votacion[\"preds\"] = preds\n",
        "votacion[[\"preds\", \"votacion_trump\"]]\n"
      ],
      "metadata": {
        "colab": {
          "base_uri": "https://localhost:8080/",
          "height": 424
        },
        "id": "Eq9DSM8n_sXS",
        "outputId": "3c1e785f-045c-43a2-ea29-1814ecf6ca5f"
      },
      "execution_count": null,
      "outputs": [
        {
          "output_type": "execute_result",
          "data": {
            "text/html": [
              "\n",
              "  <div id=\"df-84cd81df-df3d-4da6-ae1e-5e6f6c58b388\">\n",
              "    <div class=\"colab-df-container\">\n",
              "      <div>\n",
              "<style scoped>\n",
              "    .dataframe tbody tr th:only-of-type {\n",
              "        vertical-align: middle;\n",
              "    }\n",
              "\n",
              "    .dataframe tbody tr th {\n",
              "        vertical-align: top;\n",
              "    }\n",
              "\n",
              "    .dataframe thead th {\n",
              "        text-align: right;\n",
              "    }\n",
              "</style>\n",
              "<table border=\"1\" class=\"dataframe\">\n",
              "  <thead>\n",
              "    <tr style=\"text-align: right;\">\n",
              "      <th></th>\n",
              "      <th>preds</th>\n",
              "      <th>votacion_trump</th>\n",
              "    </tr>\n",
              "  </thead>\n",
              "  <tbody>\n",
              "    <tr>\n",
              "      <th>0</th>\n",
              "      <td>-0.210505</td>\n",
              "      <td>-0.596576</td>\n",
              "    </tr>\n",
              "    <tr>\n",
              "      <th>1</th>\n",
              "      <td>-0.210505</td>\n",
              "      <td>-0.527779</td>\n",
              "    </tr>\n",
              "    <tr>\n",
              "      <th>2</th>\n",
              "      <td>-0.210505</td>\n",
              "      <td>-0.169135</td>\n",
              "    </tr>\n",
              "    <tr>\n",
              "      <th>3</th>\n",
              "      <td>-0.210505</td>\n",
              "      <td>-0.580267</td>\n",
              "    </tr>\n",
              "    <tr>\n",
              "      <th>4</th>\n",
              "      <td>-0.623500</td>\n",
              "      <td>-0.622536</td>\n",
              "    </tr>\n",
              "    <tr>\n",
              "      <th>...</th>\n",
              "      <td>...</td>\n",
              "      <td>...</td>\n",
              "    </tr>\n",
              "    <tr>\n",
              "      <th>1206</th>\n",
              "      <td>-0.202647</td>\n",
              "      <td>-0.279427</td>\n",
              "    </tr>\n",
              "    <tr>\n",
              "      <th>1207</th>\n",
              "      <td>-0.472913</td>\n",
              "      <td>-0.600120</td>\n",
              "    </tr>\n",
              "    <tr>\n",
              "      <th>1208</th>\n",
              "      <td>-0.472913</td>\n",
              "      <td>-0.520295</td>\n",
              "    </tr>\n",
              "    <tr>\n",
              "      <th>1209</th>\n",
              "      <td>-0.181850</td>\n",
              "      <td>-0.285001</td>\n",
              "    </tr>\n",
              "    <tr>\n",
              "      <th>1210</th>\n",
              "      <td>-0.434371</td>\n",
              "      <td>-0.307727</td>\n",
              "    </tr>\n",
              "  </tbody>\n",
              "</table>\n",
              "<p>1211 rows × 2 columns</p>\n",
              "</div>\n",
              "      <button class=\"colab-df-convert\" onclick=\"convertToInteractive('df-84cd81df-df3d-4da6-ae1e-5e6f6c58b388')\"\n",
              "              title=\"Convert this dataframe to an interactive table.\"\n",
              "              style=\"display:none;\">\n",
              "        \n",
              "  <svg xmlns=\"http://www.w3.org/2000/svg\" height=\"24px\"viewBox=\"0 0 24 24\"\n",
              "       width=\"24px\">\n",
              "    <path d=\"M0 0h24v24H0V0z\" fill=\"none\"/>\n",
              "    <path d=\"M18.56 5.44l.94 2.06.94-2.06 2.06-.94-2.06-.94-.94-2.06-.94 2.06-2.06.94zm-11 1L8.5 8.5l.94-2.06 2.06-.94-2.06-.94L8.5 2.5l-.94 2.06-2.06.94zm10 10l.94 2.06.94-2.06 2.06-.94-2.06-.94-.94-2.06-.94 2.06-2.06.94z\"/><path d=\"M17.41 7.96l-1.37-1.37c-.4-.4-.92-.59-1.43-.59-.52 0-1.04.2-1.43.59L10.3 9.45l-7.72 7.72c-.78.78-.78 2.05 0 2.83L4 21.41c.39.39.9.59 1.41.59.51 0 1.02-.2 1.41-.59l7.78-7.78 2.81-2.81c.8-.78.8-2.07 0-2.86zM5.41 20L4 18.59l7.72-7.72 1.47 1.35L5.41 20z\"/>\n",
              "  </svg>\n",
              "      </button>\n",
              "      \n",
              "  <style>\n",
              "    .colab-df-container {\n",
              "      display:flex;\n",
              "      flex-wrap:wrap;\n",
              "      gap: 12px;\n",
              "    }\n",
              "\n",
              "    .colab-df-convert {\n",
              "      background-color: #E8F0FE;\n",
              "      border: none;\n",
              "      border-radius: 50%;\n",
              "      cursor: pointer;\n",
              "      display: none;\n",
              "      fill: #1967D2;\n",
              "      height: 32px;\n",
              "      padding: 0 0 0 0;\n",
              "      width: 32px;\n",
              "    }\n",
              "\n",
              "    .colab-df-convert:hover {\n",
              "      background-color: #E2EBFA;\n",
              "      box-shadow: 0px 1px 2px rgba(60, 64, 67, 0.3), 0px 1px 3px 1px rgba(60, 64, 67, 0.15);\n",
              "      fill: #174EA6;\n",
              "    }\n",
              "\n",
              "    [theme=dark] .colab-df-convert {\n",
              "      background-color: #3B4455;\n",
              "      fill: #D2E3FC;\n",
              "    }\n",
              "\n",
              "    [theme=dark] .colab-df-convert:hover {\n",
              "      background-color: #434B5C;\n",
              "      box-shadow: 0px 1px 3px 1px rgba(0, 0, 0, 0.15);\n",
              "      filter: drop-shadow(0px 1px 2px rgba(0, 0, 0, 0.3));\n",
              "      fill: #FFFFFF;\n",
              "    }\n",
              "  </style>\n",
              "\n",
              "      <script>\n",
              "        const buttonEl =\n",
              "          document.querySelector('#df-84cd81df-df3d-4da6-ae1e-5e6f6c58b388 button.colab-df-convert');\n",
              "        buttonEl.style.display =\n",
              "          google.colab.kernel.accessAllowed ? 'block' : 'none';\n",
              "\n",
              "        async function convertToInteractive(key) {\n",
              "          const element = document.querySelector('#df-84cd81df-df3d-4da6-ae1e-5e6f6c58b388');\n",
              "          const dataTable =\n",
              "            await google.colab.kernel.invokeFunction('convertToInteractive',\n",
              "                                                     [key], {});\n",
              "          if (!dataTable) return;\n",
              "\n",
              "          const docLinkHtml = 'Like what you see? Visit the ' +\n",
              "            '<a target=\"_blank\" href=https://colab.research.google.com/notebooks/data_table.ipynb>data table notebook</a>'\n",
              "            + ' to learn more about interactive tables.';\n",
              "          element.innerHTML = '';\n",
              "          dataTable['output_type'] = 'display_data';\n",
              "          await google.colab.output.renderOutput(dataTable, element);\n",
              "          const docLink = document.createElement('div');\n",
              "          docLink.innerHTML = docLinkHtml;\n",
              "          element.appendChild(docLink);\n",
              "        }\n",
              "      </script>\n",
              "    </div>\n",
              "  </div>\n",
              "  "
            ],
            "text/plain": [
              "         preds  votacion_trump\n",
              "0    -0.210505       -0.596576\n",
              "1    -0.210505       -0.527779\n",
              "2    -0.210505       -0.169135\n",
              "3    -0.210505       -0.580267\n",
              "4    -0.623500       -0.622536\n",
              "...        ...             ...\n",
              "1206 -0.202647       -0.279427\n",
              "1207 -0.472913       -0.600120\n",
              "1208 -0.472913       -0.520295\n",
              "1209 -0.181850       -0.285001\n",
              "1210 -0.434371       -0.307727\n",
              "\n",
              "[1211 rows x 2 columns]"
            ]
          },
          "metadata": {},
          "execution_count": 5
        }
      ]
    },
    {
      "cell_type": "code",
      "source": [
        "from sklearn.tree import export_graphviz\n",
        "\n",
        "#exportamos el arbol creado en archivo dot\n",
        "export_graphviz(regtree,\n",
        "                     out_file=\"regtree.dot\",\n",
        "                     feature_names = predictors)\n",
        "\n",
        "#cargamos el archivo dot \n",
        "file = open(\"/content/regtree.dot\", \"r\")\n",
        "text = file.read()\n",
        "\n",
        "# visualizamos el archivo\n",
        "import graphviz\n",
        "graphviz.Source(text)"
      ],
      "metadata": {
        "colab": {
          "base_uri": "https://localhost:8080/",
          "height": 816
        },
        "id": "NJdBbExhAWIM",
        "outputId": "39f94854-e218-42a9-9be3-72c4c74eb2cc"
      },
      "execution_count": null,
      "outputs": [
        {
          "output_type": "execute_result",
          "data": {
            "text/plain": [
              "<graphviz.files.Source at 0x7f1762eff650>"
            ],
            "image/svg+xml": "<?xml version=\"1.0\" encoding=\"UTF-8\" standalone=\"no\"?>\n<!DOCTYPE svg PUBLIC \"-//W3C//DTD SVG 1.1//EN\"\n \"http://www.w3.org/Graphics/SVG/1.1/DTD/svg11.dtd\">\n<!-- Generated by graphviz version 2.40.1 (20161225.0304)\n -->\n<!-- Title: Tree Pages: 1 -->\n<svg width=\"1962pt\" height=\"581pt\"\n viewBox=\"0.00 0.00 1962.00 581.00\" xmlns=\"http://www.w3.org/2000/svg\" xmlns:xlink=\"http://www.w3.org/1999/xlink\">\n<g id=\"graph0\" class=\"graph\" transform=\"scale(1 1) rotate(0) translate(4 577)\">\n<title>Tree</title>\n<polygon fill=\"#ffffff\" stroke=\"transparent\" points=\"-4,4 -4,-577 1958,-577 1958,4 -4,4\"/>\n<!-- 0 -->\n<g id=\"node1\" class=\"node\">\n<title>0</title>\n<polygon fill=\"none\" stroke=\"#000000\" points=\"1066.5,-573 922.5,-573 922.5,-505 1066.5,-505 1066.5,-573\"/>\n<text text-anchor=\"middle\" x=\"994.5\" y=\"-557.8\" font-family=\"Helvetica,sans-Serif\" font-size=\"14.00\" fill=\"#000000\">hispanos &lt;= &#45;0.263</text>\n<text text-anchor=\"middle\" x=\"994.5\" y=\"-542.8\" font-family=\"Helvetica,sans-Serif\" font-size=\"14.00\" fill=\"#000000\">squared_error = 1.0</text>\n<text text-anchor=\"middle\" x=\"994.5\" y=\"-527.8\" font-family=\"Helvetica,sans-Serif\" font-size=\"14.00\" fill=\"#000000\">samples = 1211</text>\n<text text-anchor=\"middle\" x=\"994.5\" y=\"-512.8\" font-family=\"Helvetica,sans-Serif\" font-size=\"14.00\" fill=\"#000000\">value = &#45;0.0</text>\n</g>\n<!-- 1 -->\n<g id=\"node2\" class=\"node\">\n<title>1</title>\n<polygon fill=\"none\" stroke=\"#000000\" points=\"809,-469 648,-469 648,-401 809,-401 809,-469\"/>\n<text text-anchor=\"middle\" x=\"728.5\" y=\"-453.8\" font-family=\"Helvetica,sans-Serif\" font-size=\"14.00\" fill=\"#000000\">desempleo &lt;= 0.33</text>\n<text text-anchor=\"middle\" x=\"728.5\" y=\"-438.8\" font-family=\"Helvetica,sans-Serif\" font-size=\"14.00\" fill=\"#000000\">squared_error = 0.327</text>\n<text text-anchor=\"middle\" x=\"728.5\" y=\"-423.8\" font-family=\"Helvetica,sans-Serif\" font-size=\"14.00\" fill=\"#000000\">samples = 720</text>\n<text text-anchor=\"middle\" x=\"728.5\" y=\"-408.8\" font-family=\"Helvetica,sans-Serif\" font-size=\"14.00\" fill=\"#000000\">value = &#45;0.219</text>\n</g>\n<!-- 0&#45;&gt;1 -->\n<g id=\"edge1\" class=\"edge\">\n<title>0&#45;&gt;1</title>\n<path fill=\"none\" stroke=\"#000000\" d=\"M922.1657,-510.7189C890.2444,-498.2384 852.3893,-483.4379 818.6524,-470.2476\"/>\n<polygon fill=\"#000000\" stroke=\"#000000\" points=\"819.8424,-466.9549 809.2544,-466.5732 817.2934,-473.4743 819.8424,-466.9549\"/>\n<text text-anchor=\"middle\" x=\"819.2814\" y=\"-485.7743\" font-family=\"Helvetica,sans-Serif\" font-size=\"14.00\" fill=\"#000000\">True</text>\n</g>\n<!-- 18 -->\n<g id=\"node19\" class=\"node\">\n<title>18</title>\n<polygon fill=\"none\" stroke=\"#000000\" points=\"1233,-469 1072,-469 1072,-401 1233,-401 1233,-469\"/>\n<text text-anchor=\"middle\" x=\"1152.5\" y=\"-453.8\" font-family=\"Helvetica,sans-Serif\" font-size=\"14.00\" fill=\"#000000\">afros &lt;= &#45;0.638</text>\n<text text-anchor=\"middle\" x=\"1152.5\" y=\"-438.8\" font-family=\"Helvetica,sans-Serif\" font-size=\"14.00\" fill=\"#000000\">squared_error = 1.813</text>\n<text text-anchor=\"middle\" x=\"1152.5\" y=\"-423.8\" font-family=\"Helvetica,sans-Serif\" font-size=\"14.00\" fill=\"#000000\">samples = 491</text>\n<text text-anchor=\"middle\" x=\"1152.5\" y=\"-408.8\" font-family=\"Helvetica,sans-Serif\" font-size=\"14.00\" fill=\"#000000\">value = 0.321</text>\n</g>\n<!-- 0&#45;&gt;18 -->\n<g id=\"edge18\" class=\"edge\">\n<title>0&#45;&gt;18</title>\n<path fill=\"none\" stroke=\"#000000\" d=\"M1046.2351,-504.9465C1060.8304,-495.3395 1076.8409,-484.8009 1091.9058,-474.8848\"/>\n<polygon fill=\"#000000\" stroke=\"#000000\" points=\"1094.2201,-477.5517 1100.6487,-469.13 1090.3714,-471.7046 1094.2201,-477.5517\"/>\n<text text-anchor=\"middle\" x=\"1095.6021\" y=\"-489.9153\" font-family=\"Helvetica,sans-Serif\" font-size=\"14.00\" fill=\"#000000\">False</text>\n</g>\n<!-- 2 -->\n<g id=\"node3\" class=\"node\">\n<title>2</title>\n<polygon fill=\"none\" stroke=\"#000000\" points=\"541,-365 380,-365 380,-297 541,-297 541,-365\"/>\n<text text-anchor=\"middle\" x=\"460.5\" y=\"-349.8\" font-family=\"Helvetica,sans-Serif\" font-size=\"14.00\" fill=\"#000000\">homicidios &lt;= &#45;0.909</text>\n<text text-anchor=\"middle\" x=\"460.5\" y=\"-334.8\" font-family=\"Helvetica,sans-Serif\" font-size=\"14.00\" fill=\"#000000\">squared_error = 0.363</text>\n<text text-anchor=\"middle\" x=\"460.5\" y=\"-319.8\" font-family=\"Helvetica,sans-Serif\" font-size=\"14.00\" fill=\"#000000\">samples = 489</text>\n<text text-anchor=\"middle\" x=\"460.5\" y=\"-304.8\" font-family=\"Helvetica,sans-Serif\" font-size=\"14.00\" fill=\"#000000\">value = &#45;0.116</text>\n</g>\n<!-- 1&#45;&gt;2 -->\n<g id=\"edge2\" class=\"edge\">\n<title>1&#45;&gt;2</title>\n<path fill=\"none\" stroke=\"#000000\" d=\"M647.7277,-403.6555C617.1392,-391.7854 582.1322,-378.2005 550.7283,-366.014\"/>\n<polygon fill=\"#000000\" stroke=\"#000000\" points=\"551.6957,-362.6351 541.1068,-362.2803 549.1633,-369.161 551.6957,-362.6351\"/>\n</g>\n<!-- 11 -->\n<g id=\"node12\" class=\"node\">\n<title>11</title>\n<polygon fill=\"none\" stroke=\"#000000\" points=\"809,-365 648,-365 648,-297 809,-297 809,-365\"/>\n<text text-anchor=\"middle\" x=\"728.5\" y=\"-349.8\" font-family=\"Helvetica,sans-Serif\" font-size=\"14.00\" fill=\"#000000\">homicidios &lt;= &#45;0.138</text>\n<text text-anchor=\"middle\" x=\"728.5\" y=\"-334.8\" font-family=\"Helvetica,sans-Serif\" font-size=\"14.00\" fill=\"#000000\">squared_error = 0.181</text>\n<text text-anchor=\"middle\" x=\"728.5\" y=\"-319.8\" font-family=\"Helvetica,sans-Serif\" font-size=\"14.00\" fill=\"#000000\">samples = 231</text>\n<text text-anchor=\"middle\" x=\"728.5\" y=\"-304.8\" font-family=\"Helvetica,sans-Serif\" font-size=\"14.00\" fill=\"#000000\">value = &#45;0.437</text>\n</g>\n<!-- 1&#45;&gt;11 -->\n<g id=\"edge11\" class=\"edge\">\n<title>1&#45;&gt;11</title>\n<path fill=\"none\" stroke=\"#000000\" d=\"M728.5,-400.9465C728.5,-392.776 728.5,-383.9318 728.5,-375.3697\"/>\n<polygon fill=\"#000000\" stroke=\"#000000\" points=\"732.0001,-375.13 728.5,-365.13 725.0001,-375.13 732.0001,-375.13\"/>\n</g>\n<!-- 3 -->\n<g id=\"node4\" class=\"node\">\n<title>3</title>\n<polygon fill=\"none\" stroke=\"#000000\" points=\"362,-253.5 201,-253.5 201,-200.5 362,-200.5 362,-253.5\"/>\n<text text-anchor=\"middle\" x=\"281.5\" y=\"-238.3\" font-family=\"Helvetica,sans-Serif\" font-size=\"14.00\" fill=\"#000000\">squared_error = 0.294</text>\n<text text-anchor=\"middle\" x=\"281.5\" y=\"-223.3\" font-family=\"Helvetica,sans-Serif\" font-size=\"14.00\" fill=\"#000000\">samples = 66</text>\n<text text-anchor=\"middle\" x=\"281.5\" y=\"-208.3\" font-family=\"Helvetica,sans-Serif\" font-size=\"14.00\" fill=\"#000000\">value = 0.22</text>\n</g>\n<!-- 2&#45;&gt;3 -->\n<g id=\"edge3\" class=\"edge\">\n<title>2&#45;&gt;3</title>\n<path fill=\"none\" stroke=\"#000000\" d=\"M401.8887,-296.9465C380.6554,-284.6098 356.7782,-270.7371 335.9207,-258.6187\"/>\n<polygon fill=\"#000000\" stroke=\"#000000\" points=\"337.588,-255.5396 327.1831,-253.5422 334.0714,-261.5922 337.588,-255.5396\"/>\n</g>\n<!-- 4 -->\n<g id=\"node5\" class=\"node\">\n<title>4</title>\n<polygon fill=\"none\" stroke=\"#000000\" points=\"541,-261 380,-261 380,-193 541,-193 541,-261\"/>\n<text text-anchor=\"middle\" x=\"460.5\" y=\"-245.8\" font-family=\"Helvetica,sans-Serif\" font-size=\"14.00\" fill=\"#000000\">afros &lt;= &#45;0.576</text>\n<text text-anchor=\"middle\" x=\"460.5\" y=\"-230.8\" font-family=\"Helvetica,sans-Serif\" font-size=\"14.00\" fill=\"#000000\">squared_error = 0.353</text>\n<text text-anchor=\"middle\" x=\"460.5\" y=\"-215.8\" font-family=\"Helvetica,sans-Serif\" font-size=\"14.00\" fill=\"#000000\">samples = 423</text>\n<text text-anchor=\"middle\" x=\"460.5\" y=\"-200.8\" font-family=\"Helvetica,sans-Serif\" font-size=\"14.00\" fill=\"#000000\">value = &#45;0.168</text>\n</g>\n<!-- 2&#45;&gt;4 -->\n<g id=\"edge4\" class=\"edge\">\n<title>2&#45;&gt;4</title>\n<path fill=\"none\" stroke=\"#000000\" d=\"M460.5,-296.9465C460.5,-288.776 460.5,-279.9318 460.5,-271.3697\"/>\n<polygon fill=\"#000000\" stroke=\"#000000\" points=\"464.0001,-271.13 460.5,-261.13 457.0001,-271.13 464.0001,-271.13\"/>\n</g>\n<!-- 5 -->\n<g id=\"node6\" class=\"node\">\n<title>5</title>\n<polygon fill=\"none\" stroke=\"#000000\" points=\"340,-157 179,-157 179,-89 340,-89 340,-157\"/>\n<text text-anchor=\"middle\" x=\"259.5\" y=\"-141.8\" font-family=\"Helvetica,sans-Serif\" font-size=\"14.00\" fill=\"#000000\">homicidios &lt;= &#45;0.566</text>\n<text text-anchor=\"middle\" x=\"259.5\" y=\"-126.8\" font-family=\"Helvetica,sans-Serif\" font-size=\"14.00\" fill=\"#000000\">squared_error = 0.065</text>\n<text text-anchor=\"middle\" x=\"259.5\" y=\"-111.8\" font-family=\"Helvetica,sans-Serif\" font-size=\"14.00\" fill=\"#000000\">samples = 156</text>\n<text text-anchor=\"middle\" x=\"259.5\" y=\"-96.8\" font-family=\"Helvetica,sans-Serif\" font-size=\"14.00\" fill=\"#000000\">value = &#45;0.346</text>\n</g>\n<!-- 4&#45;&gt;5 -->\n<g id=\"edge5\" class=\"edge\">\n<title>4&#45;&gt;5</title>\n<path fill=\"none\" stroke=\"#000000\" d=\"M394.6851,-192.9465C375.4235,-182.9803 354.2245,-172.0117 334.4409,-161.7754\"/>\n<polygon fill=\"#000000\" stroke=\"#000000\" points=\"335.9528,-158.6169 325.4628,-157.13 332.7359,-164.834 335.9528,-158.6169\"/>\n</g>\n<!-- 8 -->\n<g id=\"node9\" class=\"node\">\n<title>8</title>\n<polygon fill=\"none\" stroke=\"#000000\" points=\"541,-157 380,-157 380,-89 541,-89 541,-157\"/>\n<text text-anchor=\"middle\" x=\"460.5\" y=\"-141.8\" font-family=\"Helvetica,sans-Serif\" font-size=\"14.00\" fill=\"#000000\">hispanos &lt;= &#45;0.476</text>\n<text text-anchor=\"middle\" x=\"460.5\" y=\"-126.8\" font-family=\"Helvetica,sans-Serif\" font-size=\"14.00\" fill=\"#000000\">squared_error = 0.492</text>\n<text text-anchor=\"middle\" x=\"460.5\" y=\"-111.8\" font-family=\"Helvetica,sans-Serif\" font-size=\"14.00\" fill=\"#000000\">samples = 267</text>\n<text text-anchor=\"middle\" x=\"460.5\" y=\"-96.8\" font-family=\"Helvetica,sans-Serif\" font-size=\"14.00\" fill=\"#000000\">value = &#45;0.064</text>\n</g>\n<!-- 4&#45;&gt;8 -->\n<g id=\"edge8\" class=\"edge\">\n<title>4&#45;&gt;8</title>\n<path fill=\"none\" stroke=\"#000000\" d=\"M460.5,-192.9465C460.5,-184.776 460.5,-175.9318 460.5,-167.3697\"/>\n<polygon fill=\"#000000\" stroke=\"#000000\" points=\"464.0001,-167.13 460.5,-157.13 457.0001,-167.13 464.0001,-167.13\"/>\n</g>\n<!-- 6 -->\n<g id=\"node7\" class=\"node\">\n<title>6</title>\n<polygon fill=\"none\" stroke=\"#000000\" points=\"161,-53 0,-53 0,0 161,0 161,-53\"/>\n<text text-anchor=\"middle\" x=\"80.5\" y=\"-37.8\" font-family=\"Helvetica,sans-Serif\" font-size=\"14.00\" fill=\"#000000\">squared_error = 0.082</text>\n<text text-anchor=\"middle\" x=\"80.5\" y=\"-22.8\" font-family=\"Helvetica,sans-Serif\" font-size=\"14.00\" fill=\"#000000\">samples = 73</text>\n<text text-anchor=\"middle\" x=\"80.5\" y=\"-7.8\" font-family=\"Helvetica,sans-Serif\" font-size=\"14.00\" fill=\"#000000\">value = &#45;0.203</text>\n</g>\n<!-- 5&#45;&gt;6 -->\n<g id=\"edge6\" class=\"edge\">\n<title>5&#45;&gt;6</title>\n<path fill=\"none\" stroke=\"#000000\" d=\"M196.3913,-88.9777C177.6208,-78.8584 157.1494,-67.8222 138.7063,-57.8794\"/>\n<polygon fill=\"#000000\" stroke=\"#000000\" points=\"140.295,-54.7597 129.8317,-53.095 136.9732,-60.9213 140.295,-54.7597\"/>\n</g>\n<!-- 7 -->\n<g id=\"node8\" class=\"node\">\n<title>7</title>\n<polygon fill=\"none\" stroke=\"#000000\" points=\"340,-53 179,-53 179,0 340,0 340,-53\"/>\n<text text-anchor=\"middle\" x=\"259.5\" y=\"-37.8\" font-family=\"Helvetica,sans-Serif\" font-size=\"14.00\" fill=\"#000000\">squared_error = 0.016</text>\n<text text-anchor=\"middle\" x=\"259.5\" y=\"-22.8\" font-family=\"Helvetica,sans-Serif\" font-size=\"14.00\" fill=\"#000000\">samples = 83</text>\n<text text-anchor=\"middle\" x=\"259.5\" y=\"-7.8\" font-family=\"Helvetica,sans-Serif\" font-size=\"14.00\" fill=\"#000000\">value = &#45;0.473</text>\n</g>\n<!-- 5&#45;&gt;7 -->\n<g id=\"edge7\" class=\"edge\">\n<title>5&#45;&gt;7</title>\n<path fill=\"none\" stroke=\"#000000\" d=\"M259.5,-88.9777C259.5,-80.7364 259.5,-71.887 259.5,-63.5153\"/>\n<polygon fill=\"#000000\" stroke=\"#000000\" points=\"263.0001,-63.2484 259.5,-53.2485 256.0001,-63.2485 263.0001,-63.2484\"/>\n</g>\n<!-- 9 -->\n<g id=\"node10\" class=\"node\">\n<title>9</title>\n<polygon fill=\"none\" stroke=\"#000000\" points=\"519,-53 358,-53 358,0 519,0 519,-53\"/>\n<text text-anchor=\"middle\" x=\"438.5\" y=\"-37.8\" font-family=\"Helvetica,sans-Serif\" font-size=\"14.00\" fill=\"#000000\">squared_error = 0.366</text>\n<text text-anchor=\"middle\" x=\"438.5\" y=\"-22.8\" font-family=\"Helvetica,sans-Serif\" font-size=\"14.00\" fill=\"#000000\">samples = 147</text>\n<text text-anchor=\"middle\" x=\"438.5\" y=\"-7.8\" font-family=\"Helvetica,sans-Serif\" font-size=\"14.00\" fill=\"#000000\">value = &#45;0.211</text>\n</g>\n<!-- 8&#45;&gt;9 -->\n<g id=\"edge9\" class=\"edge\">\n<title>8&#45;&gt;9</title>\n<path fill=\"none\" stroke=\"#000000\" d=\"M452.7436,-88.9777C450.8439,-80.6449 448.8024,-71.6903 446.8751,-63.2364\"/>\n<polygon fill=\"#000000\" stroke=\"#000000\" points=\"450.2334,-62.2203 444.5981,-53.2485 443.4085,-63.7763 450.2334,-62.2203\"/>\n</g>\n<!-- 10 -->\n<g id=\"node11\" class=\"node\">\n<title>10</title>\n<polygon fill=\"none\" stroke=\"#000000\" points=\"698,-53 537,-53 537,0 698,0 698,-53\"/>\n<text text-anchor=\"middle\" x=\"617.5\" y=\"-37.8\" font-family=\"Helvetica,sans-Serif\" font-size=\"14.00\" fill=\"#000000\">squared_error = 0.588</text>\n<text text-anchor=\"middle\" x=\"617.5\" y=\"-22.8\" font-family=\"Helvetica,sans-Serif\" font-size=\"14.00\" fill=\"#000000\">samples = 120</text>\n<text text-anchor=\"middle\" x=\"617.5\" y=\"-7.8\" font-family=\"Helvetica,sans-Serif\" font-size=\"14.00\" fill=\"#000000\">value = 0.115</text>\n</g>\n<!-- 8&#45;&gt;10 -->\n<g id=\"edge10\" class=\"edge\">\n<title>8&#45;&gt;10</title>\n<path fill=\"none\" stroke=\"#000000\" d=\"M515.8523,-88.9777C531.942,-79.0882 549.4566,-68.3229 565.3429,-58.5583\"/>\n<polygon fill=\"#000000\" stroke=\"#000000\" points=\"567.2951,-61.4667 573.9818,-53.2485 563.6296,-55.5032 567.2951,-61.4667\"/>\n</g>\n<!-- 12 -->\n<g id=\"node13\" class=\"node\">\n<title>12</title>\n<polygon fill=\"none\" stroke=\"#000000\" points=\"764,-253.5 603,-253.5 603,-200.5 764,-200.5 764,-253.5\"/>\n<text text-anchor=\"middle\" x=\"683.5\" y=\"-238.3\" font-family=\"Helvetica,sans-Serif\" font-size=\"14.00\" fill=\"#000000\">squared_error = 0.293</text>\n<text text-anchor=\"middle\" x=\"683.5\" y=\"-223.3\" font-family=\"Helvetica,sans-Serif\" font-size=\"14.00\" fill=\"#000000\">samples = 60</text>\n<text text-anchor=\"middle\" x=\"683.5\" y=\"-208.3\" font-family=\"Helvetica,sans-Serif\" font-size=\"14.00\" fill=\"#000000\">value = &#45;0.212</text>\n</g>\n<!-- 11&#45;&gt;12 -->\n<g id=\"edge12\" class=\"edge\">\n<title>11&#45;&gt;12</title>\n<path fill=\"none\" stroke=\"#000000\" d=\"M713.7653,-296.9465C709.0469,-286.0418 703.8092,-273.9368 699.0355,-262.9043\"/>\n<polygon fill=\"#000000\" stroke=\"#000000\" points=\"702.168,-261.33 694.9846,-253.5422 695.7436,-264.1098 702.168,-261.33\"/>\n</g>\n<!-- 13 -->\n<g id=\"node14\" class=\"node\">\n<title>13</title>\n<polygon fill=\"none\" stroke=\"#000000\" points=\"943,-261 782,-261 782,-193 943,-193 943,-261\"/>\n<text text-anchor=\"middle\" x=\"862.5\" y=\"-245.8\" font-family=\"Helvetica,sans-Serif\" font-size=\"14.00\" fill=\"#000000\">hispanos &lt;= &#45;0.514</text>\n<text text-anchor=\"middle\" x=\"862.5\" y=\"-230.8\" font-family=\"Helvetica,sans-Serif\" font-size=\"14.00\" fill=\"#000000\">squared_error = 0.118</text>\n<text text-anchor=\"middle\" x=\"862.5\" y=\"-215.8\" font-family=\"Helvetica,sans-Serif\" font-size=\"14.00\" fill=\"#000000\">samples = 171</text>\n<text text-anchor=\"middle\" x=\"862.5\" y=\"-200.8\" font-family=\"Helvetica,sans-Serif\" font-size=\"14.00\" fill=\"#000000\">value = &#45;0.516</text>\n</g>\n<!-- 11&#45;&gt;13 -->\n<g id=\"edge13\" class=\"edge\">\n<title>11&#45;&gt;13</title>\n<path fill=\"none\" stroke=\"#000000\" d=\"M772.3766,-296.9465C784.5235,-287.519 797.8262,-277.1946 810.3927,-267.4415\"/>\n<polygon fill=\"#000000\" stroke=\"#000000\" points=\"812.7709,-270.0262 818.5248,-261.13 808.479,-264.4963 812.7709,-270.0262\"/>\n</g>\n<!-- 14 -->\n<g id=\"node15\" class=\"node\">\n<title>14</title>\n<polygon fill=\"none\" stroke=\"#000000\" points=\"873,-157 712,-157 712,-89 873,-89 873,-157\"/>\n<text text-anchor=\"middle\" x=\"792.5\" y=\"-141.8\" font-family=\"Helvetica,sans-Serif\" font-size=\"14.00\" fill=\"#000000\">afros &lt;= 1.728</text>\n<text text-anchor=\"middle\" x=\"792.5\" y=\"-126.8\" font-family=\"Helvetica,sans-Serif\" font-size=\"14.00\" fill=\"#000000\">squared_error = 0.008</text>\n<text text-anchor=\"middle\" x=\"792.5\" y=\"-111.8\" font-family=\"Helvetica,sans-Serif\" font-size=\"14.00\" fill=\"#000000\">samples = 104</text>\n<text text-anchor=\"middle\" x=\"792.5\" y=\"-96.8\" font-family=\"Helvetica,sans-Serif\" font-size=\"14.00\" fill=\"#000000\">value = &#45;0.585</text>\n</g>\n<!-- 13&#45;&gt;14 -->\n<g id=\"edge14\" class=\"edge\">\n<title>13&#45;&gt;14</title>\n<path fill=\"none\" stroke=\"#000000\" d=\"M839.5794,-192.9465C833.7174,-184.2373 827.3402,-174.7626 821.227,-165.6801\"/>\n<polygon fill=\"#000000\" stroke=\"#000000\" points=\"823.9595,-163.4716 815.4721,-157.13 818.1524,-167.3802 823.9595,-163.4716\"/>\n</g>\n<!-- 17 -->\n<g id=\"node18\" class=\"node\">\n<title>17</title>\n<polygon fill=\"none\" stroke=\"#000000\" points=\"1052,-149.5 891,-149.5 891,-96.5 1052,-96.5 1052,-149.5\"/>\n<text text-anchor=\"middle\" x=\"971.5\" y=\"-134.3\" font-family=\"Helvetica,sans-Serif\" font-size=\"14.00\" fill=\"#000000\">squared_error = 0.269</text>\n<text text-anchor=\"middle\" x=\"971.5\" y=\"-119.3\" font-family=\"Helvetica,sans-Serif\" font-size=\"14.00\" fill=\"#000000\">samples = 67</text>\n<text text-anchor=\"middle\" x=\"971.5\" y=\"-104.3\" font-family=\"Helvetica,sans-Serif\" font-size=\"14.00\" fill=\"#000000\">value = &#45;0.41</text>\n</g>\n<!-- 13&#45;&gt;17 -->\n<g id=\"edge17\" class=\"edge\">\n<title>13&#45;&gt;17</title>\n<path fill=\"none\" stroke=\"#000000\" d=\"M898.1907,-192.9465C910.4278,-181.2707 924.107,-168.219 936.3046,-156.5809\"/>\n<polygon fill=\"#000000\" stroke=\"#000000\" points=\"938.8628,-158.9777 943.6818,-149.5422 934.0306,-153.9131 938.8628,-158.9777\"/>\n</g>\n<!-- 15 -->\n<g id=\"node16\" class=\"node\">\n<title>15</title>\n<polygon fill=\"none\" stroke=\"#000000\" points=\"868.5,-53 716.5,-53 716.5,0 868.5,0 868.5,-53\"/>\n<text text-anchor=\"middle\" x=\"792.5\" y=\"-37.8\" font-family=\"Helvetica,sans-Serif\" font-size=\"14.00\" fill=\"#000000\">squared_error = 0.01</text>\n<text text-anchor=\"middle\" x=\"792.5\" y=\"-22.8\" font-family=\"Helvetica,sans-Serif\" font-size=\"14.00\" fill=\"#000000\">samples = 53</text>\n<text text-anchor=\"middle\" x=\"792.5\" y=\"-7.8\" font-family=\"Helvetica,sans-Serif\" font-size=\"14.00\" fill=\"#000000\">value = &#45;0.548</text>\n</g>\n<!-- 14&#45;&gt;15 -->\n<g id=\"edge15\" class=\"edge\">\n<title>14&#45;&gt;15</title>\n<path fill=\"none\" stroke=\"#000000\" d=\"M792.5,-88.9777C792.5,-80.7364 792.5,-71.887 792.5,-63.5153\"/>\n<polygon fill=\"#000000\" stroke=\"#000000\" points=\"796.0001,-63.2484 792.5,-53.2485 789.0001,-63.2485 796.0001,-63.2484\"/>\n</g>\n<!-- 16 -->\n<g id=\"node17\" class=\"node\">\n<title>16</title>\n<polygon fill=\"none\" stroke=\"#000000\" points=\"1048,-53 887,-53 887,0 1048,0 1048,-53\"/>\n<text text-anchor=\"middle\" x=\"967.5\" y=\"-37.8\" font-family=\"Helvetica,sans-Serif\" font-size=\"14.00\" fill=\"#000000\">squared_error = 0.004</text>\n<text text-anchor=\"middle\" x=\"967.5\" y=\"-22.8\" font-family=\"Helvetica,sans-Serif\" font-size=\"14.00\" fill=\"#000000\">samples = 51</text>\n<text text-anchor=\"middle\" x=\"967.5\" y=\"-7.8\" font-family=\"Helvetica,sans-Serif\" font-size=\"14.00\" fill=\"#000000\">value = &#45;0.623</text>\n</g>\n<!-- 14&#45;&gt;16 -->\n<g id=\"edge16\" class=\"edge\">\n<title>14&#45;&gt;16</title>\n<path fill=\"none\" stroke=\"#000000\" d=\"M854.1985,-88.9777C872.3827,-78.9504 892.1997,-68.0228 910.1021,-58.1508\"/>\n<polygon fill=\"#000000\" stroke=\"#000000\" points=\"912.2039,-60.9888 919.2707,-53.095 908.8237,-54.859 912.2039,-60.9888\"/>\n</g>\n<!-- 19 -->\n<g id=\"node20\" class=\"node\">\n<title>19</title>\n<polygon fill=\"none\" stroke=\"#000000\" points=\"1233,-365 1072,-365 1072,-297 1233,-297 1233,-365\"/>\n<text text-anchor=\"middle\" x=\"1152.5\" y=\"-349.8\" font-family=\"Helvetica,sans-Serif\" font-size=\"14.00\" fill=\"#000000\">homicidios &lt;= &#45;0.738</text>\n<text text-anchor=\"middle\" x=\"1152.5\" y=\"-334.8\" font-family=\"Helvetica,sans-Serif\" font-size=\"14.00\" fill=\"#000000\">squared_error = 0.635</text>\n<text text-anchor=\"middle\" x=\"1152.5\" y=\"-319.8\" font-family=\"Helvetica,sans-Serif\" font-size=\"14.00\" fill=\"#000000\">samples = 193</text>\n<text text-anchor=\"middle\" x=\"1152.5\" y=\"-304.8\" font-family=\"Helvetica,sans-Serif\" font-size=\"14.00\" fill=\"#000000\">value = &#45;0.075</text>\n</g>\n<!-- 18&#45;&gt;19 -->\n<g id=\"edge19\" class=\"edge\">\n<title>18&#45;&gt;19</title>\n<path fill=\"none\" stroke=\"#000000\" d=\"M1152.5,-400.9465C1152.5,-392.776 1152.5,-383.9318 1152.5,-375.3697\"/>\n<polygon fill=\"#000000\" stroke=\"#000000\" points=\"1156.0001,-375.13 1152.5,-365.13 1149.0001,-375.13 1156.0001,-375.13\"/>\n</g>\n<!-- 24 -->\n<g id=\"node25\" class=\"node\">\n<title>24</title>\n<polygon fill=\"none\" stroke=\"#000000\" points=\"1589,-365 1428,-365 1428,-297 1589,-297 1589,-365\"/>\n<text text-anchor=\"middle\" x=\"1508.5\" y=\"-349.8\" font-family=\"Helvetica,sans-Serif\" font-size=\"14.00\" fill=\"#000000\">hispanos &lt;= 1.038</text>\n<text text-anchor=\"middle\" x=\"1508.5\" y=\"-334.8\" font-family=\"Helvetica,sans-Serif\" font-size=\"14.00\" fill=\"#000000\">squared_error = 2.409</text>\n<text text-anchor=\"middle\" x=\"1508.5\" y=\"-319.8\" font-family=\"Helvetica,sans-Serif\" font-size=\"14.00\" fill=\"#000000\">samples = 298</text>\n<text text-anchor=\"middle\" x=\"1508.5\" y=\"-304.8\" font-family=\"Helvetica,sans-Serif\" font-size=\"14.00\" fill=\"#000000\">value = 0.578</text>\n</g>\n<!-- 18&#45;&gt;24 -->\n<g id=\"edge24\" class=\"edge\">\n<title>18&#45;&gt;24</title>\n<path fill=\"none\" stroke=\"#000000\" d=\"M1233.2819,-411.4008C1288.2603,-395.3397 1361.088,-374.0642 1418.0163,-357.4334\"/>\n<polygon fill=\"#000000\" stroke=\"#000000\" points=\"1419.1129,-360.7594 1427.7303,-354.5957 1417.15,-354.0403 1419.1129,-360.7594\"/>\n</g>\n<!-- 20 -->\n<g id=\"node21\" class=\"node\">\n<title>20</title>\n<polygon fill=\"none\" stroke=\"#000000\" points=\"1144,-253.5 983,-253.5 983,-200.5 1144,-200.5 1144,-253.5\"/>\n<text text-anchor=\"middle\" x=\"1063.5\" y=\"-238.3\" font-family=\"Helvetica,sans-Serif\" font-size=\"14.00\" fill=\"#000000\">squared_error = 1.194</text>\n<text text-anchor=\"middle\" x=\"1063.5\" y=\"-223.3\" font-family=\"Helvetica,sans-Serif\" font-size=\"14.00\" fill=\"#000000\">samples = 66</text>\n<text text-anchor=\"middle\" x=\"1063.5\" y=\"-208.3\" font-family=\"Helvetica,sans-Serif\" font-size=\"14.00\" fill=\"#000000\">value = 0.383</text>\n</g>\n<!-- 19&#45;&gt;20 -->\n<g id=\"edge20\" class=\"edge\">\n<title>19&#45;&gt;20</title>\n<path fill=\"none\" stroke=\"#000000\" d=\"M1123.3581,-296.9465C1113.5548,-285.491 1102.6181,-272.711 1092.8025,-261.2412\"/>\n<polygon fill=\"#000000\" stroke=\"#000000\" points=\"1095.3751,-258.8642 1086.214,-253.5422 1090.0567,-263.4156 1095.3751,-258.8642\"/>\n</g>\n<!-- 21 -->\n<g id=\"node22\" class=\"node\">\n<title>21</title>\n<polygon fill=\"none\" stroke=\"#000000\" points=\"1323,-261 1162,-261 1162,-193 1323,-193 1323,-261\"/>\n<text text-anchor=\"middle\" x=\"1242.5\" y=\"-245.8\" font-family=\"Helvetica,sans-Serif\" font-size=\"14.00\" fill=\"#000000\">afros &lt;= &#45;0.797</text>\n<text text-anchor=\"middle\" x=\"1242.5\" y=\"-230.8\" font-family=\"Helvetica,sans-Serif\" font-size=\"14.00\" fill=\"#000000\">squared_error = 0.179</text>\n<text text-anchor=\"middle\" x=\"1242.5\" y=\"-215.8\" font-family=\"Helvetica,sans-Serif\" font-size=\"14.00\" fill=\"#000000\">samples = 127</text>\n<text text-anchor=\"middle\" x=\"1242.5\" y=\"-200.8\" font-family=\"Helvetica,sans-Serif\" font-size=\"14.00\" fill=\"#000000\">value = &#45;0.313</text>\n</g>\n<!-- 19&#45;&gt;21 -->\n<g id=\"edge21\" class=\"edge\">\n<title>19&#45;&gt;21</title>\n<path fill=\"none\" stroke=\"#000000\" d=\"M1181.9694,-296.9465C1189.7393,-287.968 1198.2132,-278.1758 1206.2936,-268.8385\"/>\n<polygon fill=\"#000000\" stroke=\"#000000\" points=\"1209.0672,-270.982 1212.9644,-261.13 1203.774,-266.4014 1209.0672,-270.982\"/>\n</g>\n<!-- 22 -->\n<g id=\"node23\" class=\"node\">\n<title>22</title>\n<polygon fill=\"none\" stroke=\"#000000\" points=\"1231,-149.5 1070,-149.5 1070,-96.5 1231,-96.5 1231,-149.5\"/>\n<text text-anchor=\"middle\" x=\"1150.5\" y=\"-134.3\" font-family=\"Helvetica,sans-Serif\" font-size=\"14.00\" fill=\"#000000\">squared_error = 0.065</text>\n<text text-anchor=\"middle\" x=\"1150.5\" y=\"-119.3\" font-family=\"Helvetica,sans-Serif\" font-size=\"14.00\" fill=\"#000000\">samples = 66</text>\n<text text-anchor=\"middle\" x=\"1150.5\" y=\"-104.3\" font-family=\"Helvetica,sans-Serif\" font-size=\"14.00\" fill=\"#000000\">value = &#45;0.434</text>\n</g>\n<!-- 21&#45;&gt;22 -->\n<g id=\"edge22\" class=\"edge\">\n<title>21&#45;&gt;22</title>\n<path fill=\"none\" stroke=\"#000000\" d=\"M1212.3758,-192.9465C1202.242,-181.491 1190.9367,-168.711 1180.7903,-157.2412\"/>\n<polygon fill=\"#000000\" stroke=\"#000000\" points=\"1183.2269,-154.7131 1173.9796,-149.5422 1177.9839,-159.3512 1183.2269,-154.7131\"/>\n</g>\n<!-- 23 -->\n<g id=\"node24\" class=\"node\">\n<title>23</title>\n<polygon fill=\"none\" stroke=\"#000000\" points=\"1410,-149.5 1249,-149.5 1249,-96.5 1410,-96.5 1410,-149.5\"/>\n<text text-anchor=\"middle\" x=\"1329.5\" y=\"-134.3\" font-family=\"Helvetica,sans-Serif\" font-size=\"14.00\" fill=\"#000000\">squared_error = 0.269</text>\n<text text-anchor=\"middle\" x=\"1329.5\" y=\"-119.3\" font-family=\"Helvetica,sans-Serif\" font-size=\"14.00\" fill=\"#000000\">samples = 61</text>\n<text text-anchor=\"middle\" x=\"1329.5\" y=\"-104.3\" font-family=\"Helvetica,sans-Serif\" font-size=\"14.00\" fill=\"#000000\">value = &#45;0.182</text>\n</g>\n<!-- 21&#45;&gt;23 -->\n<g id=\"edge23\" class=\"edge\">\n<title>21&#45;&gt;23</title>\n<path fill=\"none\" stroke=\"#000000\" d=\"M1270.9871,-192.9465C1280.57,-181.491 1291.261,-168.711 1300.8559,-157.2412\"/>\n<polygon fill=\"#000000\" stroke=\"#000000\" points=\"1303.5646,-159.458 1307.2965,-149.5422 1298.1955,-154.9666 1303.5646,-159.458\"/>\n</g>\n<!-- 25 -->\n<g id=\"node26\" class=\"node\">\n<title>25</title>\n<polygon fill=\"none\" stroke=\"#000000\" points=\"1589,-261 1428,-261 1428,-193 1589,-193 1589,-261\"/>\n<text text-anchor=\"middle\" x=\"1508.5\" y=\"-245.8\" font-family=\"Helvetica,sans-Serif\" font-size=\"14.00\" fill=\"#000000\">afros &lt;= &#45;0.104</text>\n<text text-anchor=\"middle\" x=\"1508.5\" y=\"-230.8\" font-family=\"Helvetica,sans-Serif\" font-size=\"14.00\" fill=\"#000000\">squared_error = 1.026</text>\n<text text-anchor=\"middle\" x=\"1508.5\" y=\"-215.8\" font-family=\"Helvetica,sans-Serif\" font-size=\"14.00\" fill=\"#000000\">samples = 242</text>\n<text text-anchor=\"middle\" x=\"1508.5\" y=\"-200.8\" font-family=\"Helvetica,sans-Serif\" font-size=\"14.00\" fill=\"#000000\">value = 0.362</text>\n</g>\n<!-- 24&#45;&gt;25 -->\n<g id=\"edge25\" class=\"edge\">\n<title>24&#45;&gt;25</title>\n<path fill=\"none\" stroke=\"#000000\" d=\"M1508.5,-296.9465C1508.5,-288.776 1508.5,-279.9318 1508.5,-271.3697\"/>\n<polygon fill=\"#000000\" stroke=\"#000000\" points=\"1512.0001,-271.13 1508.5,-261.13 1505.0001,-271.13 1512.0001,-271.13\"/>\n</g>\n<!-- 32 -->\n<g id=\"node33\" class=\"node\">\n<title>32</title>\n<polygon fill=\"none\" stroke=\"#000000\" points=\"1768,-253.5 1607,-253.5 1607,-200.5 1768,-200.5 1768,-253.5\"/>\n<text text-anchor=\"middle\" x=\"1687.5\" y=\"-238.3\" font-family=\"Helvetica,sans-Serif\" font-size=\"14.00\" fill=\"#000000\">squared_error = 7.319</text>\n<text text-anchor=\"middle\" x=\"1687.5\" y=\"-223.3\" font-family=\"Helvetica,sans-Serif\" font-size=\"14.00\" fill=\"#000000\">samples = 56</text>\n<text text-anchor=\"middle\" x=\"1687.5\" y=\"-208.3\" font-family=\"Helvetica,sans-Serif\" font-size=\"14.00\" fill=\"#000000\">value = 1.509</text>\n</g>\n<!-- 24&#45;&gt;32 -->\n<g id=\"edge32\" class=\"edge\">\n<title>24&#45;&gt;32</title>\n<path fill=\"none\" stroke=\"#000000\" d=\"M1567.1113,-296.9465C1588.3446,-284.6098 1612.2218,-270.7371 1633.0793,-258.6187\"/>\n<polygon fill=\"#000000\" stroke=\"#000000\" points=\"1634.9286,-261.5922 1641.8169,-253.5422 1631.412,-255.5396 1634.9286,-261.5922\"/>\n</g>\n<!-- 26 -->\n<g id=\"node27\" class=\"node\">\n<title>26</title>\n<polygon fill=\"none\" stroke=\"#000000\" points=\"1589,-157 1428,-157 1428,-89 1589,-89 1589,-157\"/>\n<text text-anchor=\"middle\" x=\"1508.5\" y=\"-141.8\" font-family=\"Helvetica,sans-Serif\" font-size=\"14.00\" fill=\"#000000\">blancos &lt;= 0.125</text>\n<text text-anchor=\"middle\" x=\"1508.5\" y=\"-126.8\" font-family=\"Helvetica,sans-Serif\" font-size=\"14.00\" fill=\"#000000\">squared_error = 1.171</text>\n<text text-anchor=\"middle\" x=\"1508.5\" y=\"-111.8\" font-family=\"Helvetica,sans-Serif\" font-size=\"14.00\" fill=\"#000000\">samples = 121</text>\n<text text-anchor=\"middle\" x=\"1508.5\" y=\"-96.8\" font-family=\"Helvetica,sans-Serif\" font-size=\"14.00\" fill=\"#000000\">value = 0.635</text>\n</g>\n<!-- 25&#45;&gt;26 -->\n<g id=\"edge26\" class=\"edge\">\n<title>25&#45;&gt;26</title>\n<path fill=\"none\" stroke=\"#000000\" d=\"M1508.5,-192.9465C1508.5,-184.776 1508.5,-175.9318 1508.5,-167.3697\"/>\n<polygon fill=\"#000000\" stroke=\"#000000\" points=\"1512.0001,-167.13 1508.5,-157.13 1505.0001,-167.13 1512.0001,-167.13\"/>\n</g>\n<!-- 29 -->\n<g id=\"node30\" class=\"node\">\n<title>29</title>\n<polygon fill=\"none\" stroke=\"#000000\" points=\"1786,-157 1607,-157 1607,-89 1786,-89 1786,-157\"/>\n<text text-anchor=\"middle\" x=\"1696.5\" y=\"-141.8\" font-family=\"Helvetica,sans-Serif\" font-size=\"14.00\" fill=\"#000000\">crimen_violento &lt;= 0.532</text>\n<text text-anchor=\"middle\" x=\"1696.5\" y=\"-126.8\" font-family=\"Helvetica,sans-Serif\" font-size=\"14.00\" fill=\"#000000\">squared_error = 0.732</text>\n<text text-anchor=\"middle\" x=\"1696.5\" y=\"-111.8\" font-family=\"Helvetica,sans-Serif\" font-size=\"14.00\" fill=\"#000000\">samples = 121</text>\n<text text-anchor=\"middle\" x=\"1696.5\" y=\"-96.8\" font-family=\"Helvetica,sans-Serif\" font-size=\"14.00\" fill=\"#000000\">value = 0.09</text>\n</g>\n<!-- 25&#45;&gt;29 -->\n<g id=\"edge29\" class=\"edge\">\n<title>25&#45;&gt;29</title>\n<path fill=\"none\" stroke=\"#000000\" d=\"M1570.0582,-192.9465C1587.9117,-183.0701 1607.5448,-172.2093 1625.9056,-162.0522\"/>\n<polygon fill=\"#000000\" stroke=\"#000000\" points=\"1627.7473,-165.0333 1634.8035,-157.13 1624.3589,-158.908 1627.7473,-165.0333\"/>\n</g>\n<!-- 27 -->\n<g id=\"node28\" class=\"node\">\n<title>27</title>\n<polygon fill=\"none\" stroke=\"#000000\" points=\"1413,-53 1252,-53 1252,0 1413,0 1413,-53\"/>\n<text text-anchor=\"middle\" x=\"1332.5\" y=\"-37.8\" font-family=\"Helvetica,sans-Serif\" font-size=\"14.00\" fill=\"#000000\">squared_error = 1.468</text>\n<text text-anchor=\"middle\" x=\"1332.5\" y=\"-22.8\" font-family=\"Helvetica,sans-Serif\" font-size=\"14.00\" fill=\"#000000\">samples = 51</text>\n<text text-anchor=\"middle\" x=\"1332.5\" y=\"-7.8\" font-family=\"Helvetica,sans-Serif\" font-size=\"14.00\" fill=\"#000000\">value = 1.069</text>\n</g>\n<!-- 26&#45;&gt;27 -->\n<g id=\"edge27\" class=\"edge\">\n<title>26&#45;&gt;27</title>\n<path fill=\"none\" stroke=\"#000000\" d=\"M1446.449,-88.9777C1428.1608,-78.9504 1408.2306,-68.0228 1390.2259,-58.1508\"/>\n<polygon fill=\"#000000\" stroke=\"#000000\" points=\"1391.4561,-54.8338 1381.0049,-53.095 1388.0907,-60.9718 1391.4561,-54.8338\"/>\n</g>\n<!-- 28 -->\n<g id=\"node29\" class=\"node\">\n<title>28</title>\n<polygon fill=\"none\" stroke=\"#000000\" points=\"1592,-53 1431,-53 1431,0 1592,0 1592,-53\"/>\n<text text-anchor=\"middle\" x=\"1511.5\" y=\"-37.8\" font-family=\"Helvetica,sans-Serif\" font-size=\"14.00\" fill=\"#000000\">squared_error = 0.717</text>\n<text text-anchor=\"middle\" x=\"1511.5\" y=\"-22.8\" font-family=\"Helvetica,sans-Serif\" font-size=\"14.00\" fill=\"#000000\">samples = 70</text>\n<text text-anchor=\"middle\" x=\"1511.5\" y=\"-7.8\" font-family=\"Helvetica,sans-Serif\" font-size=\"14.00\" fill=\"#000000\">value = 0.318</text>\n</g>\n<!-- 26&#45;&gt;28 -->\n<g id=\"edge28\" class=\"edge\">\n<title>26&#45;&gt;28</title>\n<path fill=\"none\" stroke=\"#000000\" d=\"M1509.5577,-88.9777C1509.8139,-80.7364 1510.089,-71.887 1510.3493,-63.5153\"/>\n<polygon fill=\"#000000\" stroke=\"#000000\" points=\"1513.8559,-63.3524 1510.6684,-53.2485 1506.8593,-63.1349 1513.8559,-63.3524\"/>\n</g>\n<!-- 30 -->\n<g id=\"node31\" class=\"node\">\n<title>30</title>\n<polygon fill=\"none\" stroke=\"#000000\" points=\"1775,-53 1614,-53 1614,0 1775,0 1775,-53\"/>\n<text text-anchor=\"middle\" x=\"1694.5\" y=\"-37.8\" font-family=\"Helvetica,sans-Serif\" font-size=\"14.00\" fill=\"#000000\">squared_error = 0.507</text>\n<text text-anchor=\"middle\" x=\"1694.5\" y=\"-22.8\" font-family=\"Helvetica,sans-Serif\" font-size=\"14.00\" fill=\"#000000\">samples = 71</text>\n<text text-anchor=\"middle\" x=\"1694.5\" y=\"-7.8\" font-family=\"Helvetica,sans-Serif\" font-size=\"14.00\" fill=\"#000000\">value = &#45;0.097</text>\n</g>\n<!-- 29&#45;&gt;30 -->\n<g id=\"edge30\" class=\"edge\">\n<title>29&#45;&gt;30</title>\n<path fill=\"none\" stroke=\"#000000\" d=\"M1695.7949,-88.9777C1695.6241,-80.7364 1695.4407,-71.887 1695.2672,-63.5153\"/>\n<polygon fill=\"#000000\" stroke=\"#000000\" points=\"1698.7609,-63.1738 1695.0544,-53.2485 1691.7624,-63.3189 1698.7609,-63.1738\"/>\n</g>\n<!-- 31 -->\n<g id=\"node32\" class=\"node\">\n<title>31</title>\n<polygon fill=\"none\" stroke=\"#000000\" points=\"1954,-53 1793,-53 1793,0 1954,0 1954,-53\"/>\n<text text-anchor=\"middle\" x=\"1873.5\" y=\"-37.8\" font-family=\"Helvetica,sans-Serif\" font-size=\"14.00\" fill=\"#000000\">squared_error = 0.931</text>\n<text text-anchor=\"middle\" x=\"1873.5\" y=\"-22.8\" font-family=\"Helvetica,sans-Serif\" font-size=\"14.00\" fill=\"#000000\">samples = 50</text>\n<text text-anchor=\"middle\" x=\"1873.5\" y=\"-7.8\" font-family=\"Helvetica,sans-Serif\" font-size=\"14.00\" fill=\"#000000\">value = 0.355</text>\n</g>\n<!-- 29&#45;&gt;31 -->\n<g id=\"edge31\" class=\"edge\">\n<title>29&#45;&gt;31</title>\n<path fill=\"none\" stroke=\"#000000\" d=\"M1758.9036,-88.9777C1777.2956,-78.9504 1797.3391,-68.0228 1815.4462,-58.1508\"/>\n<polygon fill=\"#000000\" stroke=\"#000000\" points=\"1817.615,-60.9548 1824.7195,-53.095 1814.2642,-54.8089 1817.615,-60.9548\"/>\n</g>\n</g>\n</svg>\n"
          },
          "metadata": {},
          "execution_count": 6
        }
      ]
    },
    {
      "cell_type": "code",
      "source": [
        "#cv = KFold(n_splits =X.shape[0], shuffle=True, random_state=1)\n",
        "#scores = cross_val_score(regtree, X, Y, scoring=\"neg_mean_squared_error\", cv = cv, n_jobs=1)\n",
        "import numpy as np\n",
        "from sklearn.model_selection import KFold\n",
        "from sklearn.model_selection import cross_val_score\n",
        "from sklearn.metrics import mean_squared_error, make_scorer\n",
        "\n",
        "cv = KFold(n_splits = 10, shuffle=True, random_state=1)\n",
        "scores = cross_val_score(regtree,X,Y, scoring=make_scorer(mean_squared_error),cv=cv,n_jobs=1)\n",
        "score = np.mean(scores)\n",
        "print(round(score,2))\n"
      ],
      "metadata": {
        "colab": {
          "base_uri": "https://localhost:8080/"
        },
        "id": "jYiAFWc4OcZU",
        "outputId": "53c7e47f-f4a4-4b80-8194-cdc9b1d30da7"
      },
      "execution_count": null,
      "outputs": [
        {
          "output_type": "stream",
          "name": "stdout",
          "text": [
            "0.85\n"
          ]
        }
      ]
    },
    {
      "cell_type": "code",
      "source": [
        "sorted(list(zip(regtree.feature_importances_,predictors)),reverse=True)\n",
        "#Las variables mas importante son hispanos, blancos y afros."
      ],
      "metadata": {
        "colab": {
          "base_uri": "https://localhost:8080/"
        },
        "id": "PABUHe0vTpSX",
        "outputId": "30d056db-0c3f-4160-d23d-600f9df21619"
      },
      "execution_count": null,
      "outputs": [
        {
          "output_type": "execute_result",
          "data": {
            "text/plain": [
              "[(0.4998372208551641, 'hispanos'),\n",
              " (0.2541671262402835, 'afros'),\n",
              " (0.11938139126927727, 'homicidios'),\n",
              " (0.05427594199127577, 'blancos'),\n",
              " (0.052787974571425145, 'desempleo'),\n",
              " (0.019550345072574242, 'crimen_violento')]"
            ]
          },
          "metadata": {},
          "execution_count": 8
        }
      ]
    },
    {
      "cell_type": "markdown",
      "source": [
        "Random Forest"
      ],
      "metadata": {
        "id": "3uCvT72bcqIR"
      }
    },
    {
      "cell_type": "code",
      "source": [
        "from sklearn.ensemble import RandomForestRegressor\n",
        "forest = RandomForestRegressor(n_jobs=2, oob_score=True, n_estimators=20000)\n",
        "forest.fit(X,Y)"
      ],
      "metadata": {
        "id": "QAeyYNFJctMG",
        "colab": {
          "base_uri": "https://localhost:8080/"
        },
        "outputId": "6945e2ff-bd83-412e-b956-ed70c991fcb5"
      },
      "execution_count": null,
      "outputs": [
        {
          "output_type": "execute_result",
          "data": {
            "text/plain": [
              "RandomForestRegressor(n_estimators=20000, n_jobs=2, oob_score=True)"
            ]
          },
          "metadata": {},
          "execution_count": 9
        }
      ]
    },
    {
      "cell_type": "code",
      "source": [
        "votacion[\"rforest_pred\"]= forest.oob_prediction_\n",
        "votacion[[\"rforest_pred\", \"votacion_trump\"]]"
      ],
      "metadata": {
        "colab": {
          "base_uri": "https://localhost:8080/",
          "height": 424
        },
        "id": "TclEQeuupbka",
        "outputId": "0e64e4fa-926a-4375-d814-c52ccc63c41f"
      },
      "execution_count": null,
      "outputs": [
        {
          "output_type": "execute_result",
          "data": {
            "text/html": [
              "\n",
              "  <div id=\"df-7b1bcd52-22da-457b-a47e-715b7d40aa11\">\n",
              "    <div class=\"colab-df-container\">\n",
              "      <div>\n",
              "<style scoped>\n",
              "    .dataframe tbody tr th:only-of-type {\n",
              "        vertical-align: middle;\n",
              "    }\n",
              "\n",
              "    .dataframe tbody tr th {\n",
              "        vertical-align: top;\n",
              "    }\n",
              "\n",
              "    .dataframe thead th {\n",
              "        text-align: right;\n",
              "    }\n",
              "</style>\n",
              "<table border=\"1\" class=\"dataframe\">\n",
              "  <thead>\n",
              "    <tr style=\"text-align: right;\">\n",
              "      <th></th>\n",
              "      <th>rforest_pred</th>\n",
              "      <th>votacion_trump</th>\n",
              "    </tr>\n",
              "  </thead>\n",
              "  <tbody>\n",
              "    <tr>\n",
              "      <th>0</th>\n",
              "      <td>-0.258104</td>\n",
              "      <td>-0.596576</td>\n",
              "    </tr>\n",
              "    <tr>\n",
              "      <th>1</th>\n",
              "      <td>-0.431349</td>\n",
              "      <td>-0.527779</td>\n",
              "    </tr>\n",
              "    <tr>\n",
              "      <th>2</th>\n",
              "      <td>-0.352618</td>\n",
              "      <td>-0.169135</td>\n",
              "    </tr>\n",
              "    <tr>\n",
              "      <th>3</th>\n",
              "      <td>-0.252556</td>\n",
              "      <td>-0.580267</td>\n",
              "    </tr>\n",
              "    <tr>\n",
              "      <th>4</th>\n",
              "      <td>-0.518785</td>\n",
              "      <td>-0.622536</td>\n",
              "    </tr>\n",
              "    <tr>\n",
              "      <th>...</th>\n",
              "      <td>...</td>\n",
              "      <td>...</td>\n",
              "    </tr>\n",
              "    <tr>\n",
              "      <th>1206</th>\n",
              "      <td>-0.156177</td>\n",
              "      <td>-0.279427</td>\n",
              "    </tr>\n",
              "    <tr>\n",
              "      <th>1207</th>\n",
              "      <td>-0.545900</td>\n",
              "      <td>-0.600120</td>\n",
              "    </tr>\n",
              "    <tr>\n",
              "      <th>1208</th>\n",
              "      <td>-0.511947</td>\n",
              "      <td>-0.520295</td>\n",
              "    </tr>\n",
              "    <tr>\n",
              "      <th>1209</th>\n",
              "      <td>-0.112001</td>\n",
              "      <td>-0.285001</td>\n",
              "    </tr>\n",
              "    <tr>\n",
              "      <th>1210</th>\n",
              "      <td>-0.117928</td>\n",
              "      <td>-0.307727</td>\n",
              "    </tr>\n",
              "  </tbody>\n",
              "</table>\n",
              "<p>1211 rows × 2 columns</p>\n",
              "</div>\n",
              "      <button class=\"colab-df-convert\" onclick=\"convertToInteractive('df-7b1bcd52-22da-457b-a47e-715b7d40aa11')\"\n",
              "              title=\"Convert this dataframe to an interactive table.\"\n",
              "              style=\"display:none;\">\n",
              "        \n",
              "  <svg xmlns=\"http://www.w3.org/2000/svg\" height=\"24px\"viewBox=\"0 0 24 24\"\n",
              "       width=\"24px\">\n",
              "    <path d=\"M0 0h24v24H0V0z\" fill=\"none\"/>\n",
              "    <path d=\"M18.56 5.44l.94 2.06.94-2.06 2.06-.94-2.06-.94-.94-2.06-.94 2.06-2.06.94zm-11 1L8.5 8.5l.94-2.06 2.06-.94-2.06-.94L8.5 2.5l-.94 2.06-2.06.94zm10 10l.94 2.06.94-2.06 2.06-.94-2.06-.94-.94-2.06-.94 2.06-2.06.94z\"/><path d=\"M17.41 7.96l-1.37-1.37c-.4-.4-.92-.59-1.43-.59-.52 0-1.04.2-1.43.59L10.3 9.45l-7.72 7.72c-.78.78-.78 2.05 0 2.83L4 21.41c.39.39.9.59 1.41.59.51 0 1.02-.2 1.41-.59l7.78-7.78 2.81-2.81c.8-.78.8-2.07 0-2.86zM5.41 20L4 18.59l7.72-7.72 1.47 1.35L5.41 20z\"/>\n",
              "  </svg>\n",
              "      </button>\n",
              "      \n",
              "  <style>\n",
              "    .colab-df-container {\n",
              "      display:flex;\n",
              "      flex-wrap:wrap;\n",
              "      gap: 12px;\n",
              "    }\n",
              "\n",
              "    .colab-df-convert {\n",
              "      background-color: #E8F0FE;\n",
              "      border: none;\n",
              "      border-radius: 50%;\n",
              "      cursor: pointer;\n",
              "      display: none;\n",
              "      fill: #1967D2;\n",
              "      height: 32px;\n",
              "      padding: 0 0 0 0;\n",
              "      width: 32px;\n",
              "    }\n",
              "\n",
              "    .colab-df-convert:hover {\n",
              "      background-color: #E2EBFA;\n",
              "      box-shadow: 0px 1px 2px rgba(60, 64, 67, 0.3), 0px 1px 3px 1px rgba(60, 64, 67, 0.15);\n",
              "      fill: #174EA6;\n",
              "    }\n",
              "\n",
              "    [theme=dark] .colab-df-convert {\n",
              "      background-color: #3B4455;\n",
              "      fill: #D2E3FC;\n",
              "    }\n",
              "\n",
              "    [theme=dark] .colab-df-convert:hover {\n",
              "      background-color: #434B5C;\n",
              "      box-shadow: 0px 1px 3px 1px rgba(0, 0, 0, 0.15);\n",
              "      filter: drop-shadow(0px 1px 2px rgba(0, 0, 0, 0.3));\n",
              "      fill: #FFFFFF;\n",
              "    }\n",
              "  </style>\n",
              "\n",
              "      <script>\n",
              "        const buttonEl =\n",
              "          document.querySelector('#df-7b1bcd52-22da-457b-a47e-715b7d40aa11 button.colab-df-convert');\n",
              "        buttonEl.style.display =\n",
              "          google.colab.kernel.accessAllowed ? 'block' : 'none';\n",
              "\n",
              "        async function convertToInteractive(key) {\n",
              "          const element = document.querySelector('#df-7b1bcd52-22da-457b-a47e-715b7d40aa11');\n",
              "          const dataTable =\n",
              "            await google.colab.kernel.invokeFunction('convertToInteractive',\n",
              "                                                     [key], {});\n",
              "          if (!dataTable) return;\n",
              "\n",
              "          const docLinkHtml = 'Like what you see? Visit the ' +\n",
              "            '<a target=\"_blank\" href=https://colab.research.google.com/notebooks/data_table.ipynb>data table notebook</a>'\n",
              "            + ' to learn more about interactive tables.';\n",
              "          element.innerHTML = '';\n",
              "          dataTable['output_type'] = 'display_data';\n",
              "          await google.colab.output.renderOutput(dataTable, element);\n",
              "          const docLink = document.createElement('div');\n",
              "          docLink.innerHTML = docLinkHtml;\n",
              "          element.appendChild(docLink);\n",
              "        }\n",
              "      </script>\n",
              "    </div>\n",
              "  </div>\n",
              "  "
            ],
            "text/plain": [
              "      rforest_pred  votacion_trump\n",
              "0        -0.258104       -0.596576\n",
              "1        -0.431349       -0.527779\n",
              "2        -0.352618       -0.169135\n",
              "3        -0.252556       -0.580267\n",
              "4        -0.518785       -0.622536\n",
              "...            ...             ...\n",
              "1206     -0.156177       -0.279427\n",
              "1207     -0.545900       -0.600120\n",
              "1208     -0.511947       -0.520295\n",
              "1209     -0.112001       -0.285001\n",
              "1210     -0.117928       -0.307727\n",
              "\n",
              "[1211 rows x 2 columns]"
            ]
          },
          "metadata": {},
          "execution_count": 10
        }
      ]
    },
    {
      "cell_type": "code",
      "source": [
        "votacion[\"rforest_error2\"] = (votacion[\"rforest_pred\"]-votacion[\"votacion_trump\"])**2\n",
        "sum(votacion[\"rforest_error2\"])/len(votacion)"
      ],
      "metadata": {
        "colab": {
          "base_uri": "https://localhost:8080/"
        },
        "id": "AOcP_M3fp3N-",
        "outputId": "97d9832e-c01c-45c6-ca67-db88bbf66559"
      },
      "execution_count": null,
      "outputs": [
        {
          "output_type": "execute_result",
          "data": {
            "text/plain": [
              "0.855897735716243"
            ]
          },
          "metadata": {},
          "execution_count": 11
        }
      ]
    },
    {
      "cell_type": "code",
      "source": [
        "#si queremos ver el coeficiente de determinacion\n",
        "forest.oob_score_"
      ],
      "metadata": {
        "colab": {
          "base_uri": "https://localhost:8080/"
        },
        "id": "k5BstvCzqI8q",
        "outputId": "91ec579a-0b09-477c-ceec-48ff8fed67da"
      },
      "execution_count": null,
      "outputs": [
        {
          "output_type": "execute_result",
          "data": {
            "text/plain": [
              "0.1441022642837564"
            ]
          },
          "metadata": {},
          "execution_count": 12
        }
      ]
    },
    {
      "cell_type": "markdown",
      "source": [
        "Random Forest para clasificar"
      ],
      "metadata": {
        "id": "GVX5DkRprZir"
      }
    },
    {
      "cell_type": "code",
      "source": [
        "#utilizamos los datos de riesgo de diabetes utilizado anteriormente.\n",
        "from sklearn.ensemble import RandomForestClassifier\n",
        "forest = RandomForestClassifier(n_jobs=2, oob_score=True, n_estimators=1000)\n",
        "forest.fit(X,Y)"
      ],
      "metadata": {
        "colab": {
          "base_uri": "https://localhost:8080/"
        },
        "id": "yW4e74gerg4I",
        "outputId": "f8c0dde8-4545-423c-fcbb-b289ba33a441"
      },
      "execution_count": null,
      "outputs": [
        {
          "output_type": "execute_result",
          "data": {
            "text/plain": [
              "RandomForestClassifier(n_estimators=1000, n_jobs=2, oob_score=True)"
            ]
          },
          "metadata": {},
          "execution_count": 28
        }
      ]
    },
    {
      "cell_type": "code",
      "source": [
        "forest.oob_decision_function_"
      ],
      "metadata": {
        "colab": {
          "base_uri": "https://localhost:8080/"
        },
        "id": "LLQm9LsjtnX8",
        "outputId": "2913e8c2-bdc0-47b5-dd31-c08966e01fe9"
      },
      "execution_count": null,
      "outputs": [
        {
          "output_type": "execute_result",
          "data": {
            "text/plain": [
              "array([[0.00835655, 0.99164345],\n",
              "       [0.        , 1.        ],\n",
              "       [0.01676529, 0.98323471],\n",
              "       ...,\n",
              "       [0.01154488, 0.98845512],\n",
              "       [0.        , 1.        ],\n",
              "       [0.0097586 , 0.9902414 ]])"
            ]
          },
          "metadata": {},
          "execution_count": 29
        }
      ]
    },
    {
      "cell_type": "code",
      "source": [
        "forest.oob_score_"
      ],
      "metadata": {
        "colab": {
          "base_uri": "https://localhost:8080/"
        },
        "id": "jqzkAebsx-9Q",
        "outputId": "411ec49c-4e19-4bd4-82e9-c689fa6b95ee"
      },
      "execution_count": null,
      "outputs": [
        {
          "output_type": "execute_result",
          "data": {
            "text/plain": [
              "0.8905325443786982"
            ]
          },
          "metadata": {},
          "execution_count": 30
        }
      ]
    }
  ]
}