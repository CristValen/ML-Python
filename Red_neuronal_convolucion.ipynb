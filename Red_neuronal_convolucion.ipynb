{
  "nbformat": 4,
  "nbformat_minor": 0,
  "metadata": {
    "colab": {
      "name": "Red_neuronal_convolucion.ipynb",
      "provenance": [],
      "collapsed_sections": [],
      "mount_file_id": "11MrqJPsqCy5anbd3vl5G4z2p9nAlcC7S",
      "authorship_tag": "ABX9TyOM+LK+5D9WXnNIMHcH01/L"
    },
    "kernelspec": {
      "name": "python3",
      "display_name": "Python 3"
    },
    "language_info": {
      "name": "python"
    }
  },
  "cells": [
    {
      "cell_type": "code",
      "execution_count": null,
      "metadata": {
        "id": "ql-7THrkotMi"
      },
      "outputs": [],
      "source": [
        "#importamos las librerias\n",
        "\n",
        "import tensorflow as tf\n",
        "import matplotlib.pyplot as plt\n",
        "from tensorflow.keras.datasets import cifar10\n",
        "\n",
        "# Configurar el nombre de las clases del dataset\n",
        "class_names = ['avión', 'coche', 'pájaro', 'gato', 'ciervo', 'perro', 'rana', 'caballo', 'barco', 'camión']"
      ]
    },
    {
      "cell_type": "code",
      "source": [
        "(X_train, y_train), (X_test, y_test) = cifar10.load_data()"
      ],
      "metadata": {
        "id": "T_JK_SaLpdM_",
        "outputId": "837eaf41-86eb-498f-ffb2-0a75c8883393",
        "colab": {
          "base_uri": "https://localhost:8080/"
        }
      },
      "execution_count": null,
      "outputs": [
        {
          "output_type": "stream",
          "name": "stdout",
          "text": [
            "Downloading data from https://www.cs.toronto.edu/~kriz/cifar-10-python.tar.gz\n",
            "170500096/170498071 [==============================] - 6s 0us/step\n",
            "170508288/170498071 [==============================] - 6s 0us/step\n"
          ]
        }
      ]
    },
    {
      "cell_type": "code",
      "source": [
        "#normalizando los datos\n",
        "X_train = X_train / 255.0\n",
        "X_test = X_test / 255.0"
      ],
      "metadata": {
        "id": "QrFY09JTuIYj"
      },
      "execution_count": null,
      "outputs": []
    },
    {
      "cell_type": "code",
      "source": [
        "plt.imshow(X_test[6])"
      ],
      "metadata": {
        "colab": {
          "base_uri": "https://localhost:8080/",
          "height": 283
        },
        "id": "cMjLfxASz_oh",
        "outputId": "ba02bee6-5417-4e24-c064-8f59dc59ef3d"
      },
      "execution_count": null,
      "outputs": [
        {
          "output_type": "execute_result",
          "data": {
            "text/plain": [
              "<matplotlib.image.AxesImage at 0x7f19055fc750>"
            ]
          },
          "metadata": {},
          "execution_count": 28
        },
        {
          "output_type": "display_data",
          "data": {
            "image/png": "[encoded data removed]",
            "text/plain": [
              "<Figure size 432x288 with 1 Axes>"
            ]
          },
          "metadata": {
            "needs_background": "light"
          }
        }
      ]
    },
    {
      "cell_type": "code",
      "source": [
        "y_test[6]"
      ],
      "metadata": {
        "colab": {
          "base_uri": "https://localhost:8080/"
        },
        "id": "F8DFuUQQ0TY1",
        "outputId": "162f03b5-b61d-4bbc-cbfa-2410bb35f324"
      },
      "execution_count": null,
      "outputs": [
        {
          "output_type": "execute_result",
          "data": {
            "text/plain": [
              "array([1], dtype=uint8)"
            ]
          },
          "metadata": {},
          "execution_count": 29
        }
      ]
    },
    {
      "cell_type": "code",
      "source": [
        "model = tf.keras.models.Sequential()"
      ],
      "metadata": {
        "id": "5xmO-2Hm0qxE"
      },
      "execution_count": null,
      "outputs": []
    },
    {
      "cell_type": "code",
      "source": [
        "model.add(tf.keras.layers.Conv2D(filters=32, kernel_size=3, padding=\"same\", activation=\"relu\", input_shape=[32, 32, 3]))"
      ],
      "metadata": {
        "id": "QmlLZK2V0t57"
      },
      "execution_count": null,
      "outputs": []
    },
    {
      "cell_type": "code",
      "source": [
        "model.add(tf.keras.layers.Conv2D(filters=32, kernel_size=3, padding=\"same\", activation=\"relu\"))"
      ],
      "metadata": {
        "id": "MJ_b-BkH0zo6"
      },
      "execution_count": null,
      "outputs": []
    },
    {
      "cell_type": "code",
      "source": [
        "model.add(tf.keras.layers.MaxPool2D(pool_size=2, strides=2, padding='valid'))"
      ],
      "metadata": {
        "id": "tTtHQOVI05bY"
      },
      "execution_count": null,
      "outputs": []
    },
    {
      "cell_type": "code",
      "source": [
        "model.add(tf.keras.layers.MaxPool2D(pool_size=2, strides=2, padding='valid'))"
      ],
      "metadata": {
        "id": "c2iZxqb81DUY"
      },
      "execution_count": null,
      "outputs": []
    },
    {
      "cell_type": "code",
      "source": [
        "#añadimos la 3 capa\n",
        "\n",
        "model.add(tf.keras.layers.Conv2D(filters=64, kernel_size=3, padding=\"same\", activation=\"relu\"))"
      ],
      "metadata": {
        "id": "cIuNUYPL1EgE"
      },
      "execution_count": null,
      "outputs": []
    },
    {
      "cell_type": "code",
      "source": [
        "model.add(tf.keras.layers.Conv2D(filters=64, kernel_size=3, padding=\"same\", activation=\"relu\"))"
      ],
      "metadata": {
        "id": "uYz9JPyU1QNx"
      },
      "execution_count": null,
      "outputs": []
    },
    {
      "cell_type": "code",
      "source": [
        "model.add(tf.keras.layers.MaxPool2D(pool_size=2, strides=2, padding='valid'))"
      ],
      "metadata": {
        "id": "Ub9COZ9G1T8q"
      },
      "execution_count": null,
      "outputs": []
    },
    {
      "cell_type": "code",
      "source": [
        "model.add(tf.keras.layers.Flatten())"
      ],
      "metadata": {
        "id": "OMrr3jQk1XOB"
      },
      "execution_count": null,
      "outputs": []
    },
    {
      "cell_type": "code",
      "source": [
        "#añadimos la capa fully\n",
        "model.add(tf.keras.layers.Dense(units=128, activation='relu'))"
      ],
      "metadata": {
        "id": "C9eYvbYH1eUI"
      },
      "execution_count": null,
      "outputs": []
    },
    {
      "cell_type": "code",
      "source": [
        "#la capa de salida\n",
        "\n",
        "model.add(tf.keras.layers.Dense(units=10, activation='softmax'))\n",
        "model.summary()"
      ],
      "metadata": {
        "colab": {
          "base_uri": "https://localhost:8080/"
        },
        "id": "jKk1NA3w1i8K",
        "outputId": "5e8e7af7-3bf1-42cd-becf-9826ab35cb06"
      },
      "execution_count": null,
      "outputs": [
        {
          "output_type": "stream",
          "name": "stdout",
          "text": [
            "Model: \"sequential\"\n",
            "_________________________________________________________________\n",
            " Layer (type)                Output Shape              Param #   \n",
            "=================================================================\n",
            " conv2d (Conv2D)             (None, 32, 32, 32)        896       \n",
            "                                                                 \n",
            " conv2d_1 (Conv2D)           (None, 32, 32, 32)        9248      \n",
            "                                                                 \n",
            " max_pooling2d (MaxPooling2D  (None, 16, 16, 32)       0         \n",
            " )                                                               \n",
            "                                                                 \n",
            " conv2d_2 (Conv2D)           (None, 16, 16, 64)        18496     \n",
            "                                                                 \n",
            " conv2d_3 (Conv2D)           (None, 16, 16, 64)        36928     \n",
            "                                                                 \n",
            " max_pooling2d_1 (MaxPooling  (None, 8, 8, 64)         0         \n",
            " 2D)                                                             \n",
            "                                                                 \n",
            " flatten (Flatten)           (None, 4096)              0         \n",
            "                                                                 \n",
            " dense (Dense)               (None, 128)               524416    \n",
            "                                                                 \n",
            " dense_1 (Dense)             (None, 10)                1290      \n",
            "                                                                 \n",
            "=================================================================\n",
            "Total params: 591,274\n",
            "Trainable params: 591,274\n",
            "Non-trainable params: 0\n",
            "_________________________________________________________________\n"
          ]
        }
      ]
    },
    {
      "cell_type": "code",
      "source": [
        "# compilamos el modelo\n",
        "model.compile(loss=\"sparse_categorical_crossentropy\", optimizer=\"Adam\", metrics=[\"sparse_categorical_accuracy\"])"
      ],
      "metadata": {
        "id": "3Ejyof1r1yH5"
      },
      "execution_count": null,
      "outputs": []
    },
    {
      "cell_type": "code",
      "source": [
        "# Entrenar modelo\n",
        "\n",
        "model.fit(X_train, y_train, epochs=5)"
      ],
      "metadata": {
        "colab": {
          "base_uri": "https://localhost:8080/"
        },
        "id": "XVFY_VVY14Mm",
        "outputId": "89479ee8-c211-405c-ccf9-d29f0ed7e3a0"
      },
      "execution_count": null,
      "outputs": [
        {
          "output_type": "stream",
          "name": "stdout",
          "text": [
            "Epoch 1/5\n",
            "1563/1563 [==============================] - 259s 165ms/step - loss: 1.3595 - sparse_categorical_accuracy: 0.5114\n",
            "Epoch 2/5\n",
            "1563/1563 [==============================] - 256s 164ms/step - loss: 0.9173 - sparse_categorical_accuracy: 0.6762\n",
            "Epoch 3/5\n",
            "1563/1563 [==============================] - 256s 164ms/step - loss: 0.7619 - sparse_categorical_accuracy: 0.7343\n",
            "Epoch 4/5\n",
            "1563/1563 [==============================] - 260s 167ms/step - loss: 0.6352 - sparse_categorical_accuracy: 0.7771\n",
            "Epoch 5/5\n",
            "1563/1563 [==============================] - 258s 165ms/step - loss: 0.5374 - sparse_categorical_accuracy: 0.8116\n"
          ]
        },
        {
          "output_type": "execute_result",
          "data": {
            "text/plain": [
              "<keras.callbacks.History at 0x7f1906516cd0>"
            ]
          },
          "metadata": {},
          "execution_count": 41
        }
      ]
    },
    {
      "cell_type": "code",
      "source": [
        "#evaluar el modelo\n",
        "test_loss, test_accuracy = model.evaluate(X_test, y_test)"
      ],
      "metadata": {
        "colab": {
          "base_uri": "https://localhost:8080/"
        },
        "id": "gwb9Qhrl2AYd",
        "outputId": "5c461085-bc8a-4e85-8816-cb431a1f3034"
      },
      "execution_count": null,
      "outputs": [
        {
          "output_type": "stream",
          "name": "stdout",
          "text": [
            "313/313 [==============================] - 13s 40ms/step - loss: 0.7857 - sparse_categorical_accuracy: 0.7388\n"
          ]
        }
      ]
    },
    {
      "cell_type": "code",
      "source": [
        "print(\"Test accuracy: {}\".format(test_accuracy))"
      ],
      "metadata": {
        "colab": {
          "base_uri": "https://localhost:8080/"
        },
        "id": "LcUk7ovx2AcJ",
        "outputId": "ac904c45-323c-4865-8334-7eb21858b9ce"
      },
      "execution_count": null,
      "outputs": [
        {
          "output_type": "stream",
          "name": "stdout",
          "text": [
            "Test accuracy: 0.7387999892234802\n"
          ]
        }
      ]
    },
    {
      "cell_type": "code",
      "source": [
        "#probamos que tan bien predice imagenes nuevas\n",
        "import cv2\n",
        "import numpy as np\n",
        "import pandas as pd\n",
        "import glob\n",
        "\n",
        "new_data = []\n",
        "\n",
        "#subimos la imagen de un auto y la redimensionamos con las dimensiones de las imagenes entrenadas none, 32,32.\n",
        "files = glob.glob('/content/auto.jpg')\n",
        "for myFile in files:\n",
        "    image = cv2.imread(myFile)\n",
        "    img = cv2.resize(image , (32 , 32)) # Reshaping the testing images to 32*32\n",
        "    new_data.append(img)\n",
        "\n",
        "\n",
        "\n",
        "new_data = np.reshape(new_data, (len(new_data),32,32,3))   \n",
        "new_data\n",
        "\n",
        "predictions = model.predict(new_data)\n",
        "predictions[0]\n",
        "np.argmax(predictions[0])"
      ],
      "metadata": {
        "colab": {
          "base_uri": "https://localhost:8080/"
        },
        "id": "7O3RxOMm_pmH",
        "outputId": "e294a5e3-858f-4dcc-ec94-81886abdb94b"
      },
      "execution_count": null,
      "outputs": [
        {
          "output_type": "execute_result",
          "data": {
            "text/plain": [
              "1"
            ]
          },
          "metadata": {},
          "execution_count": 72
        }
      ]
    },
    {
      "cell_type": "code",
      "source": [
        "#las clases son las siguientes\n",
        "# Configurar el nombre de las clases del dataset\n",
        "class_names = ['avión', 'coche', 'pájaro', 'gato', 'ciervo', 'perro', 'rana', 'caballo', 'barco', 'camión']\n",
        "\n",
        "#anteriormente nos indica que un 1 = coche, por lo tanto fue certero el modelo en predecir la imagen."
      ],
      "metadata": {
        "id": "4akYgeshE7NG"
      },
      "execution_count": null,
      "outputs": []
    },
    {
      "cell_type": "code",
      "source": [
        "#subimos la iamgen de un barco\n",
        "\n",
        "import cv2\n",
        "import numpy as np\n",
        "import pandas as pd\n",
        "import glob\n",
        "\n",
        "new_data = []\n",
        "\n",
        "\n",
        "files = glob.glob('/content/barco.jpg')\n",
        "for myFile in files:\n",
        "    image = cv2.imread(myFile)\n",
        "    img = cv2.resize(image , (32 , 32)) # Reshaping the testing images to 32*32\n",
        "    new_data.append(img)\n",
        "\n",
        "\n",
        "\n",
        "new_data = np.reshape(new_data, (len(new_data),32,32,3))   \n",
        "new_data\n",
        "\n",
        "predictions = model.predict(new_data)\n",
        "predictions[0]\n",
        "np.argmax(predictions[0])"
      ],
      "metadata": {
        "colab": {
          "base_uri": "https://localhost:8080/"
        },
        "id": "Jkwax8G1FFfr",
        "outputId": "5e053fec-6157-4453-829b-435ad4836573"
      },
      "execution_count": null,
      "outputs": [
        {
          "output_type": "execute_result",
          "data": {
            "text/plain": [
              "8"
            ]
          },
          "metadata": {},
          "execution_count": 69
        }
      ]
    },
    {
      "cell_type": "code",
      "source": [
        "#subimos la imagen de un camion\n",
        "import cv2\n",
        "import numpy as np\n",
        "import pandas as pd\n",
        "import glob\n",
        "\n",
        "new_data = []\n",
        "\n",
        "\n",
        "files = glob.glob('/content/camion.jpg')\n",
        "for myFile in files:\n",
        "    image = cv2.imread(myFile)\n",
        "    img = cv2.resize(image , (32 , 32)) # Reshaping the testing images to 32*32\n",
        "    new_data.append(img)\n",
        "\n",
        "\n",
        "\n",
        "new_data = np.reshape(new_data, (len(new_data),32,32,3))   \n",
        "new_data\n",
        "\n",
        "predictions = model.predict(new_data)\n",
        "predictions[0]\n",
        "np.argmax(predictions[0])"
      ],
      "metadata": {
        "colab": {
          "base_uri": "https://localhost:8080/"
        },
        "id": "fG3szZNlAYXA",
        "outputId": "5763a21e-bde9-44dc-b639-a0401349c8d2"
      },
      "execution_count": null,
      "outputs": [
        {
          "output_type": "execute_result",
          "data": {
            "text/plain": [
              "9"
            ]
          },
          "metadata": {},
          "execution_count": 94
        }
      ]
    },
    {
      "cell_type": "code",
      "source": [
        ""
      ],
      "metadata": {
        "id": "oPi5LuVlytPE"
      },
      "execution_count": null,
      "outputs": []
    }
  ]
}