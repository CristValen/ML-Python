{
  "nbformat": 4,
  "nbformat_minor": 0,
  "metadata": {
    "colab": {
      "name": "Analisis_componentes_principales.ipynb",
      "provenance": [],
      "collapsed_sections": [],
      "authorship_tag": "ABX9TyPzj3bngW8cI2so/+2JdBNe"
    },
    "kernelspec": {
      "name": "python3",
      "display_name": "Python 3"
    },
    "language_info": {
      "name": "python"
    }
  },
  "cells": [
    {
      "cell_type": "code",
      "execution_count": null,
      "metadata": {
        "colab": {
          "base_uri": "https://localhost:8080/",
          "height": 206
        },
        "id": "oTovJi2eay_E",
        "outputId": "f1ac4402-d289-427a-9932-a4e12e46c819"
      },
      "outputs": [
        {
          "output_type": "execute_result",
          "data": {
            "text/html": [
              "\n",
              "  <div id=\"df-949fe3d6-6dfc-476f-9054-3f65246ffd64\">\n",
              "    <div class=\"colab-df-container\">\n",
              "      <div>\n",
              "<style scoped>\n",
              "    .dataframe tbody tr th:only-of-type {\n",
              "        vertical-align: middle;\n",
              "    }\n",
              "\n",
              "    .dataframe tbody tr th {\n",
              "        vertical-align: top;\n",
              "    }\n",
              "\n",
              "    .dataframe thead th {\n",
              "        text-align: right;\n",
              "    }\n",
              "</style>\n",
              "<table border=\"1\" class=\"dataframe\">\n",
              "  <thead>\n",
              "    <tr style=\"text-align: right;\">\n",
              "      <th></th>\n",
              "      <th>x1</th>\n",
              "      <th>x2</th>\n",
              "      <th>x3</th>\n",
              "      <th>x4</th>\n",
              "      <th>x5</th>\n",
              "      <th>superviv</th>\n",
              "    </tr>\n",
              "  </thead>\n",
              "  <tbody>\n",
              "    <tr>\n",
              "      <th>0</th>\n",
              "      <td>-0.547333</td>\n",
              "      <td>0.732373</td>\n",
              "      <td>0.179019</td>\n",
              "      <td>0.054812</td>\n",
              "      <td>-0.332785</td>\n",
              "      <td>S</td>\n",
              "    </tr>\n",
              "    <tr>\n",
              "      <th>1</th>\n",
              "      <td>-1.100309</td>\n",
              "      <td>-0.264468</td>\n",
              "      <td>-1.346531</td>\n",
              "      <td>-1.019498</td>\n",
              "      <td>-1.250023</td>\n",
              "      <td>S</td>\n",
              "    </tr>\n",
              "    <tr>\n",
              "      <th>2</th>\n",
              "      <td>-1.376796</td>\n",
              "      <td>-0.264468</td>\n",
              "      <td>-0.583756</td>\n",
              "      <td>-0.124240</td>\n",
              "      <td>-0.230870</td>\n",
              "      <td>S</td>\n",
              "    </tr>\n",
              "    <tr>\n",
              "      <th>3</th>\n",
              "      <td>-1.376796</td>\n",
              "      <td>-1.061941</td>\n",
              "      <td>-0.710885</td>\n",
              "      <td>-1.377602</td>\n",
              "      <td>-0.638531</td>\n",
              "      <td>S</td>\n",
              "    </tr>\n",
              "    <tr>\n",
              "      <th>4</th>\n",
              "      <td>-0.823821</td>\n",
              "      <td>0.333637</td>\n",
              "      <td>0.051889</td>\n",
              "      <td>0.233863</td>\n",
              "      <td>-0.536616</td>\n",
              "      <td>S</td>\n",
              "    </tr>\n",
              "  </tbody>\n",
              "</table>\n",
              "</div>\n",
              "      <button class=\"colab-df-convert\" onclick=\"convertToInteractive('df-949fe3d6-6dfc-476f-9054-3f65246ffd64')\"\n",
              "              title=\"Convert this dataframe to an interactive table.\"\n",
              "              style=\"display:none;\">\n",
              "        \n",
              "  <svg xmlns=\"http://www.w3.org/2000/svg\" height=\"24px\"viewBox=\"0 0 24 24\"\n",
              "       width=\"24px\">\n",
              "    <path d=\"M0 0h24v24H0V0z\" fill=\"none\"/>\n",
              "    <path d=\"M18.56 5.44l.94 2.06.94-2.06 2.06-.94-2.06-.94-.94-2.06-.94 2.06-2.06.94zm-11 1L8.5 8.5l.94-2.06 2.06-.94-2.06-.94L8.5 2.5l-.94 2.06-2.06.94zm10 10l.94 2.06.94-2.06 2.06-.94-2.06-.94-.94-2.06-.94 2.06-2.06.94z\"/><path d=\"M17.41 7.96l-1.37-1.37c-.4-.4-.92-.59-1.43-.59-.52 0-1.04.2-1.43.59L10.3 9.45l-7.72 7.72c-.78.78-.78 2.05 0 2.83L4 21.41c.39.39.9.59 1.41.59.51 0 1.02-.2 1.41-.59l7.78-7.78 2.81-2.81c.8-.78.8-2.07 0-2.86zM5.41 20L4 18.59l7.72-7.72 1.47 1.35L5.41 20z\"/>\n",
              "  </svg>\n",
              "      </button>\n",
              "      \n",
              "  <style>\n",
              "    .colab-df-container {\n",
              "      display:flex;\n",
              "      flex-wrap:wrap;\n",
              "      gap: 12px;\n",
              "    }\n",
              "\n",
              "    .colab-df-convert {\n",
              "      background-color: #E8F0FE;\n",
              "      border: none;\n",
              "      border-radius: 50%;\n",
              "      cursor: pointer;\n",
              "      display: none;\n",
              "      fill: #1967D2;\n",
              "      height: 32px;\n",
              "      padding: 0 0 0 0;\n",
              "      width: 32px;\n",
              "    }\n",
              "\n",
              "    .colab-df-convert:hover {\n",
              "      background-color: #E2EBFA;\n",
              "      box-shadow: 0px 1px 2px rgba(60, 64, 67, 0.3), 0px 1px 3px 1px rgba(60, 64, 67, 0.15);\n",
              "      fill: #174EA6;\n",
              "    }\n",
              "\n",
              "    [theme=dark] .colab-df-convert {\n",
              "      background-color: #3B4455;\n",
              "      fill: #D2E3FC;\n",
              "    }\n",
              "\n",
              "    [theme=dark] .colab-df-convert:hover {\n",
              "      background-color: #434B5C;\n",
              "      box-shadow: 0px 1px 3px 1px rgba(0, 0, 0, 0.15);\n",
              "      filter: drop-shadow(0px 1px 2px rgba(0, 0, 0, 0.3));\n",
              "      fill: #FFFFFF;\n",
              "    }\n",
              "  </style>\n",
              "\n",
              "      <script>\n",
              "        const buttonEl =\n",
              "          document.querySelector('#df-949fe3d6-6dfc-476f-9054-3f65246ffd64 button.colab-df-convert');\n",
              "        buttonEl.style.display =\n",
              "          google.colab.kernel.accessAllowed ? 'block' : 'none';\n",
              "\n",
              "        async function convertToInteractive(key) {\n",
              "          const element = document.querySelector('#df-949fe3d6-6dfc-476f-9054-3f65246ffd64');\n",
              "          const dataTable =\n",
              "            await google.colab.kernel.invokeFunction('convertToInteractive',\n",
              "                                                     [key], {});\n",
              "          if (!dataTable) return;\n",
              "\n",
              "          const docLinkHtml = 'Like what you see? Visit the ' +\n",
              "            '<a target=\"_blank\" href=https://colab.research.google.com/notebooks/data_table.ipynb>data table notebook</a>'\n",
              "            + ' to learn more about interactive tables.';\n",
              "          element.innerHTML = '';\n",
              "          dataTable['output_type'] = 'display_data';\n",
              "          await google.colab.output.renderOutput(dataTable, element);\n",
              "          const docLink = document.createElement('div');\n",
              "          docLink.innerHTML = docLinkHtml;\n",
              "          element.appendChild(docLink);\n",
              "        }\n",
              "      </script>\n",
              "    </div>\n",
              "  </div>\n",
              "  "
            ],
            "text/plain": [
              "         x1        x2        x3        x4        x5 superviv\n",
              "0 -0.547333  0.732373  0.179019  0.054812 -0.332785        S\n",
              "1 -1.100309 -0.264468 -1.346531 -1.019498 -1.250023        S\n",
              "2 -1.376796 -0.264468 -0.583756 -0.124240 -0.230870        S\n",
              "3 -1.376796 -1.061941 -0.710885 -1.377602 -0.638531        S\n",
              "4 -0.823821  0.333637  0.051889  0.233863 -0.536616        S"
            ]
          },
          "metadata": {},
          "execution_count": 209
        }
      ],
      "source": [
        "#Tecnicas para la reduccion de la dimensionalidad. El objetivo es que cuando hay variables muy correlacionadas\n",
        "#dejaremos dicha informacion de ambas en una.\n",
        "import pandas as pd\n",
        "import sklearn\n",
        "from sklearn.model_selection import train_test_split\n",
        "\n",
        "gorriones = pd.read_csv('/content/gorriones.csv')\n",
        "del gorriones['Unnamed: 0']\n",
        "scale_vars = ['x1', 'x2','x3','x4','x5']\n",
        "scaler = sklearn.preprocessing.StandardScaler() \n",
        "gorriones[scale_vars] = scaler.fit_transform(gorriones[scale_vars])\n",
        "\n",
        "gorriones.head()\n"
      ]
    },
    {
      "cell_type": "code",
      "source": [
        "#separamos las variables predictoras\n",
        "variables = ['x1','x2','x3','x4','x5']\n",
        "X = gorriones[variables]\n",
        "y = gorriones['superviv']\n",
        "y\n"
      ],
      "metadata": {
        "colab": {
          "base_uri": "https://localhost:8080/"
        },
        "id": "NZt_8ko6lSCO",
        "outputId": "08e1ee2d-8505-4f8d-900d-6a9ba0136053"
      },
      "execution_count": null,
      "outputs": [
        {
          "output_type": "execute_result",
          "data": {
            "text/plain": [
              "0     S\n",
              "1     S\n",
              "2     S\n",
              "3     S\n",
              "4     S\n",
              "5     S\n",
              "6     S\n",
              "7     S\n",
              "8     S\n",
              "9     S\n",
              "10    S\n",
              "11    S\n",
              "12    S\n",
              "13    S\n",
              "14    S\n",
              "15    S\n",
              "16    S\n",
              "17    S\n",
              "18    S\n",
              "19    S\n",
              "20    S\n",
              "21    N\n",
              "22    N\n",
              "23    N\n",
              "24    N\n",
              "25    N\n",
              "26    N\n",
              "27    N\n",
              "28    N\n",
              "29    N\n",
              "30    N\n",
              "31    N\n",
              "32    N\n",
              "33    N\n",
              "34    N\n",
              "35    N\n",
              "36    N\n",
              "37    N\n",
              "38    N\n",
              "39    N\n",
              "40    N\n",
              "41    N\n",
              "42    N\n",
              "43    N\n",
              "44    N\n",
              "45    N\n",
              "46    N\n",
              "47    N\n",
              "48    N\n",
              "Name: superviv, dtype: object"
            ]
          },
          "metadata": {},
          "execution_count": 195
        }
      ]
    },
    {
      "cell_type": "code",
      "source": [
        "#calculamos la matriz de covarianza\n",
        "import numpy as np\n",
        "\n",
        "X_mean = np.mean(X, axis=0)\n",
        "# cov_mat = np.cov(X)\n",
        "cov_mat = (X - X_mean).T.dot((X - X_mean)) / (X.shape[0]-1)\n",
        "print('Covariance matrix \\n%s' %cov_mat)\n"
      ],
      "metadata": {
        "colab": {
          "base_uri": "https://localhost:8080/"
        },
        "id": "wZdsgBPlrcZI",
        "outputId": "f6ae0b1c-7c72-4878-ba07-8c45782eb1b7"
      },
      "execution_count": null,
      "outputs": [
        {
          "output_type": "stream",
          "name": "stdout",
          "text": [
            "Covariance matrix \n",
            "          x1        x2        x3        x4        x5\n",
            "x1  1.020833  0.750276  0.675600  0.658728  0.617731\n",
            "x2  0.750276  1.020833  0.687777  0.784519  0.540035\n",
            "x3  0.675600  0.687777  1.020833  0.779090  0.537234\n",
            "x4  0.658728  0.784519  0.779090  1.020833  0.619288\n",
            "x5  0.617731  0.540035  0.537234  0.619288  1.020833\n"
          ]
        }
      ]
    },
    {
      "cell_type": "code",
      "source": [
        "#Se realiza descomposicion propia en la matriz de covarianza\n",
        "\n",
        "eig_vals, eig_vecs = np.linalg.eig(cov_mat)\n",
        "\n",
        "print('Eigenvectors \\n%s' %eig_vecs)\n",
        "print('\\nEigenvalues \\n%s' %eig_vals)"
      ],
      "metadata": {
        "colab": {
          "base_uri": "https://localhost:8080/"
        },
        "id": "tfXTfoF3r2fl",
        "outputId": "a1fa8e4c-9960-4b87-d577-44b146360d0e"
      },
      "execution_count": null,
      "outputs": [
        {
          "output_type": "stream",
          "name": "stdout",
          "text": [
            "Eigenvectors \n",
            "[[-0.45179893 -0.3739091   0.42041399 -0.69047023  0.05072137]\n",
            " [-0.46168085  0.53008046 -0.54786307 -0.34054844 -0.29956355]\n",
            " [-0.45054161  0.34279226  0.60629605  0.45449265 -0.32457242]\n",
            " [-0.47073887 -0.65166652 -0.38827811  0.410935   -0.18468403]\n",
            " [-0.39767537  0.19243414 -0.06887199  0.1784558   0.87648935]]\n",
            "\n",
            "Eigenvalues \n",
            "[3.69131123 0.16795517 0.30784813 0.39447506 0.54257708]\n"
          ]
        }
      ]
    },
    {
      "cell_type": "code",
      "source": [
        "#procedemos a eliminar los vectores propios con los valores propios más bajos,\n",
        "# ya que contienen la menor información.\n",
        "\n",
        "eig_pairs = [(np.abs(eig_vals[i]), eig_vecs[:,i]) for i in range(len(eig_vals))]\n",
        "\n",
        "\n",
        "eig_pairs.sort(key=lambda x: x[0], reverse=True)\n",
        "#imprimimos los valores propios de mayor a menor\n",
        "print('Eigenvalues in descending order:')\n",
        "for i in eig_pairs:\n",
        "    print(i[0])"
      ],
      "metadata": {
        "colab": {
          "base_uri": "https://localhost:8080/"
        },
        "id": "tX7Kp2LosgHU",
        "outputId": "bb1e5a4e-77a5-4795-9b55-9d436a6c4187"
      },
      "execution_count": null,
      "outputs": [
        {
          "output_type": "stream",
          "name": "stdout",
          "text": [
            "Eigenvalues in descending order:\n",
            "3.691311226681437\n",
            "0.5425770782760833\n",
            "0.39447506046353503\n",
            "0.3078481324986376\n",
            "0.16795516874697317\n"
          ]
        }
      ]
    },
    {
      "cell_type": "code",
      "source": [
        "#Vemos cuantos componentes son los adecuados\n",
        "\n",
        "tot = sum(eig_vals)\n",
        "var_exp = [(i / tot)*100 for i in sorted(eig_vals, reverse=True)]\n",
        "cum_var_exp = np.cumsum(var_exp)\n",
        "cum_var_exp\n",
        "#obtenemos que las tres primeras componentes explican el 90% de la varianza."
      ],
      "metadata": {
        "colab": {
          "base_uri": "https://localhost:8080/"
        },
        "id": "Y5k2bNlStTPk",
        "outputId": "68760f3a-580f-45a8-f5ac-f1fbb594257b"
      },
      "execution_count": null,
      "outputs": [
        {
          "output_type": "execute_result",
          "data": {
            "text/plain": [
              "array([ 72.31956689,  82.94964842,  90.6781394 ,  96.70944976,\n",
              "       100.        ])"
            ]
          },
          "metadata": {},
          "execution_count": 199
        }
      ]
    },
    {
      "cell_type": "code",
      "source": [
        "#construimos una matriz de proyeccion con los mejores valores propios, tenemos una matriz con\n",
        "#5 variables, en este caso estamos reduciendo 5 dimensiones a 2.\n",
        "matrix_w = np.hstack((eig_pairs[0][1].reshape(5,1),\n",
        "                      eig_pairs[1][1].reshape(5,1)))\n",
        "\n",
        "print('Matrix W:\\n', matrix_w)\n"
      ],
      "metadata": {
        "colab": {
          "base_uri": "https://localhost:8080/"
        },
        "id": "eBmMQtXEuzE2",
        "outputId": "ab0c522f-a4a8-4008-fc2d-48036817defa"
      },
      "execution_count": null,
      "outputs": [
        {
          "output_type": "stream",
          "name": "stdout",
          "text": [
            "Matrix W:\n",
            " [[-0.45179893  0.05072137]\n",
            " [-0.46168085 -0.29956355]\n",
            " [-0.45054161 -0.32457242]\n",
            " [-0.47073887 -0.18468403]\n",
            " [-0.39767537  0.87648935]]\n"
          ]
        }
      ]
    },
    {
      "cell_type": "code",
      "source": [
        "Y = X.dot(matrix_w)"
      ],
      "metadata": {
        "id": "H9BmOWUHwlzn"
      },
      "execution_count": null,
      "outputs": []
    },
    {
      "cell_type": "code",
      "source": [
        "import matplotlib.pyplot as plt\n",
        "\n",
        "with plt.style.context('seaborn-whitegrid'):\n",
        "    plt.figure(figsize=(6, 4))\n",
        "    for lab, col in zip(('S', 'N'), ('red', 'green')):\n",
        "        plt.scatter(Y.values[y==lab,0], Y.values[y==lab,1], label=lab, c=col,\n",
        "                    s=100)\n",
        "    plt.xlabel('Principal Component 1')\n",
        "    plt.ylabel('Principal Component 2')\n",
        "    plt.legend(loc='lower right')\n",
        "    plt.tight_layout()\n",
        "    plt.show()"
      ],
      "metadata": {
        "colab": {
          "base_uri": "https://localhost:8080/",
          "height": 297
        },
        "id": "zqGIEVPX2Fwi",
        "outputId": "5a4a6968-1285-456f-fb78-0e43f07ce9a0"
      },
      "execution_count": null,
      "outputs": [
        {
          "output_type": "display_data",
          "data": {
            "image/png": "[encoded data removed]",
            "text/plain": [
              "<Figure size 432x288 with 1 Axes>"
            ]
          },
          "metadata": {}
        }
      ]
    }
  ]
}